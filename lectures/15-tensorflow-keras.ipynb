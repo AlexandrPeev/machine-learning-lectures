{
 "cells": [
  {
   "cell_type": "markdown",
   "metadata": {
    "slideshow": {
     "slide_type": "slide"
    }
   },
   "source": [
    "# Днес:\n",
    "\n",
    "* Ще построим граф за автоматично смятане на градиентите\n",
    "* Ще разгледаме `Tensorflow`\n",
    "* Ще разгледаме `Keras`"
   ]
  },
  {
   "cell_type": "code",
   "execution_count": 1,
   "metadata": {
    "slideshow": {
     "slide_type": "skip"
    }
   },
   "outputs": [],
   "source": [
    "import math\n",
    "\n",
    "import numpy as np\n",
    "import pandas as pd\n",
    "from sklearn.datasets import make_moons, make_circles, make_classification\n",
    "from sklearn.linear_model import LogisticRegression\n",
    "from sklearn.neural_network import MLPClassifier\n",
    "import matplotlib.pyplot as plt\n",
    "import seaborn as sns\n",
    "from IPython.display import display\n",
    "\n",
    "%matplotlib inline\n",
    "sns.set()"
   ]
  },
  {
   "cell_type": "markdown",
   "metadata": {
    "slideshow": {
     "slide_type": "slide"
    }
   },
   "source": [
    "# Graph\n",
    "\n",
    "Целта на графа е да вкараме всички операции от примера и да имаме автоматично диференциране и ъпдейтване на теглата.\n",
    "\n",
    "## Елементите на графа трябва да имат следните функционалности:\n",
    "* `forward` - пресямата операцията.\n",
    "* `backward` - пресмята и запомня градиентите за текущата операция.\n",
    "* `update weights` - обновява теглата с помощтта на \"the update rule\"."
   ]
  },
  {
   "cell_type": "markdown",
   "metadata": {
    "slideshow": {
     "slide_type": "slide"
    }
   },
   "source": [
    "## Изпълниние на графа:\n",
    "* Когато се изпълнява, графа първо ще извика `forward` за всеки от елементите и ще запази стойностотите им.\n",
    "* След което преизползваме стойностите в `backward pass`, изпълнявайки го върху елементите в обратен ред.\n",
    "* Накрая чрез  `update_wights` ще извадим пресметнатите градиенти от съответните им тегла."
   ]
  },
  {
   "cell_type": "markdown",
   "metadata": {
    "slideshow": {
     "slide_type": "slide"
    }
   },
   "source": [
    "# Ще направим граф за многослойна NN за регресия.\n",
    "\n",
    "## За улеснение няма да е точно граф - по-точно няма да има разклонения.\n",
    "Ще започнем отзад напред и първо ще дефинираме `MSE` - `op4` от примера. \n",
    "* Последната операция (cost) - няма да имплементира `update_weights` по очевидни причини. "
   ]
  },
  {
   "cell_type": "markdown",
   "metadata": {
    "slideshow": {
     "slide_type": "slide"
    }
   },
   "source": [
    "# Да погледнем отново какви са стъпките в графа за регресия:\n",
    "\n",
    "\n",
    "$ \\hat y =  g(X W_1 + b) W_2 + b_2$\n",
    "<br/>\n",
    "<br/>$ op_1 = X W_1 + b $\n",
    "<br/>$ op_2 = \\sigma( op_1) $\n",
    "<br/>$ op_3 = op_2 * W_2 + b_2 = \\hat y $\n",
    "<br/>$ op_4 = J(op_3) $, където $J(W) = \\frac {1}{2} \\big ( \\hat y -  y \\big ) ^2 $\n",
    "\n"
   ]
  },
  {
   "cell_type": "markdown",
   "metadata": {
    "slideshow": {
     "slide_type": "slide"
    }
   },
   "source": [
    "# Ще започнем имплементацията с `MSE`"
   ]
  },
  {
   "cell_type": "code",
   "execution_count": 2,
   "metadata": {
    "slideshow": {
     "slide_type": "slide"
    }
   },
   "outputs": [],
   "source": [
    "class MSE:\n",
    "    def __init__(self, y):\n",
    "        self.y = y\n",
    "\n",
    "    def forward(self, X):\n",
    "        self.X = X.ravel()\n",
    "        first_term = 1. / (2. * len(X))\n",
    "        norm = np.linalg.norm(self.y - X)\n",
    "        self.value = first_term * np.square(norm)\n",
    "        return self.value\n",
    "\n",
    "    def backward(self, _):\n",
    "        dX = self.X - self.y\n",
    "        return dX"
   ]
  },
  {
   "cell_type": "markdown",
   "metadata": {
    "slideshow": {
     "slide_type": "slide"
    }
   },
   "source": [
    "# Следва `Linear Unit`, който пресмята `wx + b` или `op1` и `op3` от горния пример."
   ]
  },
  {
   "cell_type": "markdown",
   "metadata": {
    "slideshow": {
     "slide_type": "slide"
    }
   },
   "source": [
    "# Да видим пак `backward pass` на графа.\n",
    "\n",
    "$$\\frac {\\partial op_4} {\\partial W_2  } = \\frac {\\partial } {\\partial W_2  } \\frac {1} {2} \\big ( op3 - y \\big )^2 = $$\n",
    "\n",
    "$$ = (op3 - y) \\frac {\\partial } {\\partial W_2  } \\big ( op3 - y\\big ) =$$\n",
    "\n",
    "$$ = (op3 - y) \\frac {\\partial } {\\partial W_2  } \\big ( op_2 * W_2 + b_2 - y\\big ) =$$\n",
    "\n",
    "$$ = (op3 - y) op_2 $$\n",
    "\n"
   ]
  },
  {
   "cell_type": "code",
   "execution_count": 3,
   "metadata": {
    "slideshow": {
     "slide_type": "slide"
    }
   },
   "outputs": [],
   "source": [
    "class Linear:\n",
    "    def __init__(self, x_dim, h_dim, name=None):\n",
    "        self.W = np.random.randn(x_dim, h_dim)\n",
    "        self.b = np.random.randn(h_dim)\n",
    "        self.name = name\n",
    "        \n",
    "    def forward(self, X):\n",
    "        self.X = X\n",
    "        self.values = np.dot(X, self.W) + self.b\n",
    "        return self.values\n",
    "\n",
    "    def backward(self, dZ):\n",
    "        self.db = np.dot(np.ones((1, dZ.shape[0]), dtype=np.float64), dZ)\n",
    "        self.dW = np.dot(np.transpose(self.X), dZ)\n",
    "\n",
    "        if dZ.ndim == 1:\n",
    "            dZ = np.expand_dims(dZ, axis=1)\n",
    "\n",
    "        self.dX =  dZ @ np.transpose(self.W)\n",
    "        return self.dX\n",
    "\n",
    "    def update(self, alpha):\n",
    "        self.W += - alpha * self.dW.reshape(self.W.shape)\n",
    "        self.b += - alpha * self.db.ravel()"
   ]
  },
  {
   "cell_type": "markdown",
   "metadata": {
    "slideshow": {
     "slide_type": "slide"
    }
   },
   "source": [
    "# В `__init__` подаваме `x_dim` и `h_dim`.\n",
    "\n",
    "\n",
    "* `x_dim` - колко фичъра има в `x`.\n",
    "* `h_dim` - колко скрити неврона искаме да има в новия слой.\n",
    "\n",
    "`h_dim` може да бъде `1` за последния слой.\n",
    "\n",
    "* Когато умножим `X` по `W` ще получим нова матрица. \n",
    "* В получената матрица броя на редовете ще остане същия като на `X` (семплите), а броя на колоните ще са новите неврони (фичъри) в скрития слой.\n",
    "\n",
    "Ред по колона :D\n",
    "\n",
    "![](imgs/matrix-multiply-a.svg)"
   ]
  },
  {
   "cell_type": "markdown",
   "metadata": {
    "slideshow": {
     "slide_type": "slide"
    }
   },
   "source": [
    "# Следва кода за `Sigmoid`\n",
    "\n",
    "Тук нещата са малко по-тривиални"
   ]
  },
  {
   "cell_type": "code",
   "execution_count": 4,
   "metadata": {
    "slideshow": {
     "slide_type": "slide"
    }
   },
   "outputs": [],
   "source": [
    "class Sigmoid:\n",
    "    def forward(self, X):\n",
    "        self.values = 1.0 / (1.0 + np.exp(-X))\n",
    "        return self.values\n",
    "\n",
    "    def backward(self, dZ):\n",
    "        return (1.0 - self.values) * self.values * dZ"
   ]
  },
  {
   "cell_type": "markdown",
   "metadata": {
    "slideshow": {
     "slide_type": "slide"
    }
   },
   "source": [
    "# Дебъгването е доста трудоемко. \n",
    "\n",
    "* Най-честите грешки са с измеренията на тензорите.\n",
    "* Най-лесно се дебъгва, като се гледат размерите на матриците."
   ]
  },
  {
   "cell_type": "markdown",
   "metadata": {
    "slideshow": {
     "slide_type": "slide"
    }
   },
   "source": [
    "```\n",
    "print(\"\\n\"*4)\n",
    "print(self.name)\n",
    "print(f'self.db {self.db}')\n",
    "print(f'self.X: {self.X}')\n",
    "print(f'dZ: {dZ}')\n",
    "print(f'self.dW: {self.dW}')\n",
    "print(f\"self.W, {self.W}\")\n",
    "print(\"\\n\"*4)\n",
    "```"
   ]
  },
  {
   "cell_type": "markdown",
   "metadata": {
    "slideshow": {
     "slide_type": "slide"
    }
   },
   "source": [
    "# До тук добре. Имаме функциите.\n",
    "## Трябва ни нещо което да ги извиква в правилния ред!"
   ]
  },
  {
   "cell_type": "code",
   "execution_count": 5,
   "metadata": {
    "slideshow": {
     "slide_type": "slide"
    }
   },
   "outputs": [],
   "source": [
    "from sklearn.base import BaseEstimator\n",
    "\n",
    "class NeuralNetwork(BaseEstimator):\n",
    "    def __init__(self, model, alpha=0.01, iterations=100):\n",
    "        self.alpha = alpha\n",
    "        self.iterations = iterations\n",
    "        self.model = model\n",
    "    \n",
    "    def fit(self, X, y=None):\n",
    "        model = self.model\n",
    "        self.errors = []\n",
    "        \n",
    "        for i in range(self.iterations):\n",
    "            z = X\n",
    "            for e in self.model:\n",
    "                z = e.forward(z)\n",
    "                if isinstance(e, MSE):\n",
    "                    self.errors.append(e.value)\n",
    "\n",
    "            dZ = None\n",
    "            for e in self.model[::-1]:\n",
    "                dZ = e.backward(dZ)\n",
    "\n",
    "            for e in self.model:\n",
    "                if hasattr(e, 'update'):\n",
    "                    e.update(self.alpha)\n",
    "                    \n",
    "        return self\n",
    "        \n",
    "    def predict(self, X):\n",
    "        z = X\n",
    "        for e in model[:-1]:\n",
    "            z = e.forward(z)\n",
    "        return z\n"
   ]
  },
  {
   "cell_type": "markdown",
   "metadata": {
    "slideshow": {
     "slide_type": "slide"
    }
   },
   "source": [
    "# Готово. Да пробваме графа!\n",
    "\n",
    "Ще генерираме `dummy dataset` с който да екпсериментираме."
   ]
  },
  {
   "cell_type": "code",
   "execution_count": 6,
   "metadata": {
    "slideshow": {
     "slide_type": "slide"
    }
   },
   "outputs": [],
   "source": [
    "X = np.array([\n",
    "    [1, 2, 3],\n",
    "    [-1, -2, -3]\n",
    "])\n",
    "\n",
    "y = np.array([0, 1])"
   ]
  },
  {
   "cell_type": "code",
   "execution_count": 7,
   "metadata": {
    "slideshow": {
     "slide_type": "slide"
    }
   },
   "outputs": [
    {
     "data": {
      "text/plain": [
       "array([[-0.02867645],\n",
       "       [ 1.02624718]])"
      ]
     },
     "execution_count": 7,
     "metadata": {},
     "output_type": "execute_result"
    }
   ],
   "source": [
    "np.random.seed(1)\n",
    "\n",
    "model = [\n",
    "    Linear(3, 5, \"Linear 1\"),\n",
    "    Sigmoid(),\n",
    "\n",
    "    # Linear(5, 4, \"Linear 2\"),\n",
    "    # Sigmoid(),\n",
    "    \n",
    "    Linear(5, 1, \"Linear 3\"),\n",
    "    MSE(y)\n",
    "]\n",
    "\n",
    "nn = NeuralNetwork(model)\n",
    "nn.fit(X)\n",
    "nn.predict(X)"
   ]
  },
  {
   "cell_type": "code",
   "execution_count": 8,
   "metadata": {
    "slideshow": {
     "slide_type": "slide"
    }
   },
   "outputs": [
    {
     "data": {
      "image/png": "[encoded data removed]",
      "text/plain": [
       "<matplotlib.figure.Figure at 0x10ce33588>"
      ]
     },
     "metadata": {},
     "output_type": "display_data"
    }
   ],
   "source": [
    "plt.plot(nn.errors);"
   ]
  },
  {
   "cell_type": "code",
   "execution_count": 9,
   "metadata": {
    "slideshow": {
     "slide_type": "skip"
    }
   },
   "outputs": [],
   "source": [
    "def plot_different_lr():\n",
    "    plt.figure(figsize=(12,12))\n",
    "    for i, lr in enumerate([0.001, 0.01, 0.1, 0.4, 0.5, 0.6]):\n",
    "        np.random.seed(1)\n",
    "        model = [Linear(3, 5, \"Linear 1\"), Sigmoid(), Linear(5, 1, \"Linear 3\"), MSE(y)]\n",
    "        nn = NeuralNetwork(model, alpha=lr)\n",
    "        nn.fit(X)\n",
    "        plt.subplot(2,3, i+1)\n",
    "        plt.title(lr)\n",
    "        plt.plot(nn.errors);"
   ]
  },
  {
   "cell_type": "markdown",
   "metadata": {
    "slideshow": {
     "slide_type": "slide"
    }
   },
   "source": [
    "# Как ще изглеждат грешките (`Learning Curves`) с различни стойности на `alpha` (learning rate):"
   ]
  },
  {
   "cell_type": "code",
   "execution_count": 10,
   "metadata": {
    "slideshow": {
     "slide_type": "slide"
    }
   },
   "outputs": [
    {
     "name": "stderr",
     "output_type": "stream",
     "text": [
      "/Users/lachezar/.pyenv/versions/3.6.2/envs/fmi-explore/lib/python3.6/site-packages/ipykernel_launcher.py:3: RuntimeWarning: overflow encountered in exp\n",
      "  This is separate from the ipykernel package so we can avoid doing imports until\n"
     ]
    },
    {
     "data": {
      "image/png": "[encoded data removed]",
      "text/plain": [
       "<matplotlib.figure.Figure at 0x10cec29b0>"
      ]
     },
     "metadata": {},
     "output_type": "display_data"
    }
   ],
   "source": [
    "plot_different_lr()"
   ]
  },
  {
   "cell_type": "markdown",
   "metadata": {
    "slideshow": {
     "slide_type": "slide"
    }
   },
   "source": [
    "# Да сравним новия ни граф с `LinearRegression` от `sklearn`\n",
    "\n",
    "За целта ще използваме `boston house price` данните."
   ]
  },
  {
   "cell_type": "code",
   "execution_count": 11,
   "metadata": {
    "slideshow": {
     "slide_type": "skip"
    }
   },
   "outputs": [],
   "source": [
    "from sklearn.metrics import mean_squared_error, r2_score\n",
    "from sklearn.datasets import load_boston\n",
    "from sklearn.preprocessing import StandardScaler\n",
    "from sklearn.linear_model import LinearRegression\n",
    "from sklearn.model_selection import train_test_split"
   ]
  },
  {
   "cell_type": "code",
   "execution_count": 12,
   "metadata": {
    "slideshow": {
     "slide_type": "slide"
    }
   },
   "outputs": [
    {
     "name": "stdout",
     "output_type": "stream",
     "text": [
      "train score: 0.736897285102\n",
      "test score: 0.742545680576\n"
     ]
    },
    {
     "name": "stderr",
     "output_type": "stream",
     "text": [
      "/Users/lachezar/.pyenv/versions/3.6.2/envs/fmi-explore/lib/python3.6/site-packages/scipy/linalg/basic.py:1018: RuntimeWarning: internal gelsd driver lwork query error, required iwork dimension not returned. This is likely the result of LAPACK bug 0038, fixed in LAPACK 3.2.2 (released July 21, 2010). Falling back to 'gelss' driver.\n",
      "  warnings.warn(mesg, RuntimeWarning)\n"
     ]
    }
   ],
   "source": [
    "boston = load_boston()\n",
    "X = boston.data\n",
    "X = StandardScaler().fit(X).transform(X)\n",
    "y = boston.target\n",
    "\n",
    "x_train, x_test, y_train, y_test = train_test_split(X, y)\n",
    "\n",
    "regressor = LinearRegression().fit(x_train, y_train)\n",
    "print(\"train score:\", regressor.score(x_train, y_train))\n",
    "print(\"test score:\", regressor.score(x_test, y_test))\n"
   ]
  },
  {
   "cell_type": "markdown",
   "metadata": {
    "slideshow": {
     "slide_type": "slide"
    }
   },
   "source": [
    "# Ще конструираме невронната мрежа.\n",
    "Първо трябва да видим какви са размерите на входните фичъри."
   ]
  },
  {
   "cell_type": "code",
   "execution_count": 13,
   "metadata": {
    "slideshow": {
     "slide_type": "slide"
    }
   },
   "outputs": [
    {
     "data": {
      "text/plain": [
       "(379, 13)"
      ]
     },
     "execution_count": 13,
     "metadata": {},
     "output_type": "execute_result"
    }
   ],
   "source": [
    "x_train.shape"
   ]
  },
  {
   "cell_type": "code",
   "execution_count": 14,
   "metadata": {
    "slideshow": {
     "slide_type": "slide"
    }
   },
   "outputs": [],
   "source": [
    "np.random.seed(1)\n",
    "model = [\n",
    "    Linear(13, 100, \"Linear 1\"),\n",
    "    Sigmoid(),\n",
    "\n",
    "    Linear(100, 50, \"Linear 2\"),\n",
    "    Sigmoid(),\n",
    "    \n",
    "    Linear(50, 1, \"Linear 3\"),\n",
    "    MSE(y_train)\n",
    "]\n",
    "\n",
    "nn = NeuralNetwork(model, alpha=0.0001, iterations=1000)\n",
    "nn.fit(x_train);"
   ]
  },
  {
   "cell_type": "code",
   "execution_count": 15,
   "metadata": {
    "slideshow": {
     "slide_type": "slide"
    }
   },
   "outputs": [
    {
     "data": {
      "image/png": "[encoded data removed]",
      "text/plain": [
       "<matplotlib.figure.Figure at 0x10d3da2e8>"
      ]
     },
     "metadata": {},
     "output_type": "display_data"
    }
   ],
   "source": [
    "plt.plot(nn.errors);"
   ]
  },
  {
   "cell_type": "code",
   "execution_count": 16,
   "metadata": {
    "slideshow": {
     "slide_type": "slide"
    }
   },
   "outputs": [
    {
     "name": "stdout",
     "output_type": "stream",
     "text": [
      "0.976173280251\n",
      "0.832469042921\n"
     ]
    }
   ],
   "source": [
    "print(r2_score(y_train, nn.predict(x_train)))\n",
    "print(r2_score(y_test, nn.predict(x_test)))"
   ]
  },
  {
   "cell_type": "markdown",
   "metadata": {
    "slideshow": {
     "slide_type": "slide"
    }
   },
   "source": [
    "# Бихме резултата на линейната регресия!\n",
    "# За домашно имплементирайте:\n",
    "\n",
    "* `relu`\n",
    "* `softmax`\n",
    "* `log loss`, среща се и с името `categorical cross entropy`\n",
    "* `decaying lr` и `momentum`\n",
    "* В `Linear` елемент да се подава само едно измерение - това за бр. неврони в скрития слой. Другото ще се смята автоматично в първото изивкване на `forward` от подаденото `x`\n",
    "* Добавете регуларизации `l1` и `l2`. Всеки `Linear` елемент може да има различни стойности за `l1` и `l2`. \n",
    "* Направете класификация\n",
    "\n",
    "\\* Само ако Стефан напише автоматизирани тестове за проверка! "
   ]
  },
  {
   "cell_type": "markdown",
   "metadata": {
    "slideshow": {
     "slide_type": "slide"
    }
   },
   "source": [
    "# Tensorflow\n",
    "\n",
    "* An open-source software library for Machine Intelligence\n",
    "* https://www.tensorflow.org/\n",
    "* `pip install tensorflow==1.3.0` \n",
    "* `pip install tensorflow-gpu==1.3.0`\n",
    "\n",
    "\n",
    "защото с последната версия (1.4.0):\n",
    "```\n",
    "RuntimeWarning: compiletime version 3.5 of module 'tensorflow.python.framework.fast_tensor_util' does not match runtime version 3.6\n",
    "  return f(*args, **kwds)\n",
    "```"
   ]
  },
  {
   "cell_type": "code",
   "execution_count": 17,
   "metadata": {
    "slideshow": {
     "slide_type": "slide"
    }
   },
   "outputs": [],
   "source": [
    "import tensorflow as tf\n",
    "\n",
    "# Model parameters\n",
    "W = tf.Variable([0.3], dtype=tf.float32)\n",
    "b = tf.Variable([-0.3], dtype=tf.float32)\n",
    "\n",
    "# Model input and output\n",
    "x = tf.placeholder(tf.float32)\n",
    "y = tf.placeholder(tf.float32)\n",
    "\n",
    "linear_model = W*x + b"
   ]
  },
  {
   "cell_type": "code",
   "execution_count": 18,
   "metadata": {
    "slideshow": {
     "slide_type": "slide"
    }
   },
   "outputs": [],
   "source": [
    "# loss\n",
    "loss = tf.reduce_sum(tf.square(linear_model - y)) # sum of the squares\n",
    "# optimizer\n",
    "optimizer = tf.train.GradientDescentOptimizer(0.01)\n",
    "train = optimizer.minimize(loss)"
   ]
  },
  {
   "cell_type": "code",
   "execution_count": 19,
   "metadata": {
    "slideshow": {
     "slide_type": "slide"
    }
   },
   "outputs": [],
   "source": [
    "# training data\n",
    "x_train = [1, 2, 3, 4]\n",
    "y_train = [0, -1, -2, -3]\n",
    "\n",
    "# training loop\n",
    "init = tf.global_variables_initializer()\n",
    "sess = tf.Session()\n",
    "\n",
    "sess.run(init) # initialize W and b with 0.3 and -0.3\n",
    "for i in range(1000):\n",
    "    sess.run(train, {x: x_train, y: y_train})"
   ]
  },
  {
   "cell_type": "code",
   "execution_count": 20,
   "metadata": {
    "slideshow": {
     "slide_type": "slide"
    }
   },
   "outputs": [
    {
     "name": "stdout",
     "output_type": "stream",
     "text": [
      "W: [-0.9999969] b: [ 0.99999082] loss: 5.699973826267524e-11\n"
     ]
    }
   ],
   "source": [
    "# evaluate training accuracy\n",
    "curr_W, curr_b, curr_loss = sess.run([W, b, loss], {x: x_train, y: y_train})\n",
    "print(f\"W: {curr_W} b: {curr_b} loss: {curr_loss}\")\n",
    "\n",
    "# y = -1 * x + 1 "
   ]
  },
  {
   "cell_type": "markdown",
   "metadata": {
    "slideshow": {
     "slide_type": "slide"
    }
   },
   "source": [
    "![](imgs/dummy_tensor_board.png)"
   ]
  },
  {
   "cell_type": "markdown",
   "metadata": {
    "slideshow": {
     "slide_type": "slide"
    }
   },
   "source": [
    "# Малко по-истински пример"
   ]
  },
  {
   "cell_type": "code",
   "execution_count": 21,
   "metadata": {
    "slideshow": {
     "slide_type": "slide"
    }
   },
   "outputs": [
    {
     "name": "stdout",
     "output_type": "stream",
     "text": [
      "Extracting MNIST_data/train-images-idx3-ubyte.gz\n",
      "Extracting MNIST_data/train-labels-idx1-ubyte.gz\n",
      "Extracting MNIST_data/t10k-images-idx3-ubyte.gz\n",
      "Extracting MNIST_data/t10k-labels-idx1-ubyte.gz\n",
      "(55000, 784)\n"
     ]
    }
   ],
   "source": [
    "from tensorflow.examples.tutorials.mnist import input_data\n",
    "mnist = input_data.read_data_sets('MNIST_data', one_hot=True)\n",
    "print(mnist.train.images.shape)"
   ]
  },
  {
   "cell_type": "code",
   "execution_count": 22,
   "metadata": {
    "slideshow": {
     "slide_type": "slide"
    }
   },
   "outputs": [
    {
     "data": {
      "image/png": "[encoded data removed]",
      "text/plain": [
       "<matplotlib.figure.Figure at 0x11866ecf8>"
      ]
     },
     "metadata": {},
     "output_type": "display_data"
    }
   ],
   "source": [
    "plt.figure(figsize=(12,8))\n",
    "for i in range(5):\n",
    "    plt.subplot(1,5,i+1)\n",
    "    plt.imshow(mnist.train.images[i].reshape(28, 28))"
   ]
  },
  {
   "cell_type": "code",
   "execution_count": 23,
   "metadata": {
    "slideshow": {
     "slide_type": "slide"
    }
   },
   "outputs": [],
   "source": [
    "x = tf.placeholder(tf.float32, shape=[None, 784])\n",
    "y_ = tf.placeholder(tf.float32, shape=[None, 10])"
   ]
  },
  {
   "cell_type": "code",
   "execution_count": 24,
   "metadata": {
    "slideshow": {
     "slide_type": "slide"
    }
   },
   "outputs": [],
   "source": [
    "W = tf.Variable(tf.zeros([784,10]))\n",
    "b = tf.Variable(tf.zeros([10]))"
   ]
  },
  {
   "cell_type": "code",
   "execution_count": 25,
   "metadata": {
    "slideshow": {
     "slide_type": "slide"
    }
   },
   "outputs": [],
   "source": [
    "sess = tf.InteractiveSession()\n",
    "sess.run(tf.global_variables_initializer())\n",
    "\n",
    "y = tf.matmul(x,W) + b\n",
    "\n",
    "cross_entropy = tf.reduce_mean(tf.nn.softmax_cross_entropy_with_logits(labels=y_, logits=y))"
   ]
  },
  {
   "cell_type": "code",
   "execution_count": 26,
   "metadata": {
    "slideshow": {
     "slide_type": "slide"
    }
   },
   "outputs": [],
   "source": [
    "train_step = tf.train.GradientDescentOptimizer(0.5).minimize(cross_entropy)\n",
    "\n",
    "for _ in range(1000):\n",
    "    batch = mnist.train.next_batch(100)\n",
    "    train_step.run(feed_dict={x: batch[0], y_: batch[1]})\n"
   ]
  },
  {
   "cell_type": "code",
   "execution_count": 27,
   "metadata": {
    "slideshow": {
     "slide_type": "slide"
    }
   },
   "outputs": [
    {
     "name": "stdout",
     "output_type": "stream",
     "text": [
      "0.9186\n"
     ]
    }
   ],
   "source": [
    "correct_prediction = tf.equal(tf.argmax(y,1), tf.argmax(y_,1))\n",
    "accuracy = tf.reduce_mean(tf.cast(correct_prediction, tf.float32))\n",
    "\n",
    "print(accuracy.eval(feed_dict={x: mnist.test.images, y_: mnist.test.labels}))"
   ]
  },
  {
   "cell_type": "markdown",
   "metadata": {
    "slideshow": {
     "slide_type": "slide"
    }
   },
   "source": [
    "# Да направим 2 слойна"
   ]
  },
  {
   "cell_type": "code",
   "execution_count": 28,
   "metadata": {
    "slideshow": {
     "slide_type": "slide"
    }
   },
   "outputs": [],
   "source": [
    "W1 = tf.Variable(tf.random_normal([784,200], seed=5))\n",
    "b1 = tf.Variable(tf.zeros([200]))\n",
    "h1 = tf.nn.relu(tf.matmul(x, W1) + b1)\n",
    "\n",
    "W2 = tf.Variable(tf.zeros([200,10]))\n",
    "b2 = tf.Variable(tf.zeros([10]))\n",
    "\n",
    "\n",
    "y = tf.matmul(h1, W2) + b2\n",
    "\n",
    "cross_entropy = tf.reduce_mean(\n",
    "    tf.nn.softmax_cross_entropy_with_logits(labels=y_, logits=y))"
   ]
  },
  {
   "cell_type": "code",
   "execution_count": 29,
   "metadata": {
    "slideshow": {
     "slide_type": "slide"
    }
   },
   "outputs": [],
   "source": [
    "train_step = tf.train.AdamOptimizer().minimize(cross_entropy)\n",
    "sess.run(tf.global_variables_initializer())\n",
    "\n",
    "for _ in range(1000):\n",
    "    batch = mnist.train.next_batch(100)\n",
    "    train_step.run(feed_dict={x: batch[0], y_: batch[1]})\n"
   ]
  },
  {
   "cell_type": "code",
   "execution_count": 30,
   "metadata": {
    "slideshow": {
     "slide_type": "slide"
    }
   },
   "outputs": [
    {
     "name": "stdout",
     "output_type": "stream",
     "text": [
      "0.9464\n"
     ]
    }
   ],
   "source": [
    "correct_prediction = tf.equal(tf.argmax(y,1), tf.argmax(y_,1))\n",
    "accuracy = tf.reduce_mean(tf.cast(correct_prediction, tf.float32))\n",
    "\n",
    "print(accuracy.eval(feed_dict={x: mnist.test.images, y_: mnist.test.labels}))"
   ]
  },
  {
   "cell_type": "markdown",
   "metadata": {
    "slideshow": {
     "slide_type": "slide"
    }
   },
   "source": [
    "# Най-честите грешки отново са свързани със измеренията на променливите.\n",
    "Как дебъгваме грешки с измеренията:"
   ]
  },
  {
   "cell_type": "code",
   "execution_count": 31,
   "metadata": {
    "slideshow": {
     "slide_type": "slide"
    }
   },
   "outputs": [
    {
     "name": "stdout",
     "output_type": "stream",
     "text": [
      "(?, 784)\n",
      "(784, 200)\n",
      "(200,)\n"
     ]
    }
   ],
   "source": [
    "print(x.get_shape())\n",
    "print(W1.get_shape())\n",
    "print(b1.get_shape())"
   ]
  },
  {
   "cell_type": "markdown",
   "metadata": {
    "slideshow": {
     "slide_type": "slide"
    }
   },
   "source": [
    "# Tensorboard"
   ]
  },
  {
   "cell_type": "code",
   "execution_count": 32,
   "metadata": {
    "slideshow": {
     "slide_type": "skip"
    }
   },
   "outputs": [],
   "source": [
    "!rm -r summary"
   ]
  },
  {
   "cell_type": "code",
   "execution_count": 33,
   "metadata": {
    "slideshow": {
     "slide_type": "skip"
    }
   },
   "outputs": [],
   "source": [
    "sess.close()\n",
    "sess = tf.Session()"
   ]
  },
  {
   "cell_type": "code",
   "execution_count": 34,
   "metadata": {
    "slideshow": {
     "slide_type": "slide"
    }
   },
   "outputs": [],
   "source": [
    "def variable_summaries(var):\n",
    "    \"\"\"Attach a lot of summaries to a Tensor (for TensorBoard visualization).\"\"\"\n",
    "    with tf.name_scope('summaries'):\n",
    "        mean = tf.reduce_mean(var)\n",
    "        tf.summary.scalar('mean', mean)\n",
    "        with tf.name_scope('stddev'):\n",
    "            stddev = tf.sqrt(tf.reduce_mean(tf.square(var - mean)))\n",
    "        tf.summary.scalar('stddev', stddev)\n",
    "        tf.summary.scalar('max', tf.reduce_max(var))\n",
    "        tf.summary.scalar('min', tf.reduce_min(var))\n",
    "        tf.summary.histogram('histogram', var)"
   ]
  },
  {
   "cell_type": "code",
   "execution_count": 35,
   "metadata": {
    "slideshow": {
     "slide_type": "slide"
    }
   },
   "outputs": [],
   "source": [
    "def linear_layer(x, output_size, activation=None, layer_name=\"layer\"):\n",
    "    with tf.name_scope(layer_name):\n",
    "        samples, features_count = x.get_shape().as_list()\n",
    "        W = tf.Variable(tf.random_uniform([features_count, output_size], seed=5), name=\"W\")\n",
    "        b = tf.Variable(tf.zeros([output_size]), name=\"b\")\n",
    "        h = tf.matmul(x, W) + b\n",
    "\n",
    "        if activation:\n",
    "            h = activation(h)\n",
    "\n",
    "        with tf.name_scope(\"W\"):\n",
    "            variable_summaries(W)\n",
    "        \n",
    "        with tf.name_scope(\"b\"):\n",
    "            variable_summaries(b)\n",
    "    \n",
    "        return h"
   ]
  },
  {
   "cell_type": "markdown",
   "metadata": {
    "slideshow": {
     "slide_type": "slide"
    }
   },
   "source": [
    "# Да си конструираме модел"
   ]
  },
  {
   "cell_type": "code",
   "execution_count": 36,
   "metadata": {
    "slideshow": {
     "slide_type": "slide"
    }
   },
   "outputs": [],
   "source": [
    "h1 = linear_layer(x, 500, activation=tf.nn.relu, layer_name=\"L1\")\n",
    "h2 = linear_layer(h1, 100, activation=tf.nn.relu, layer_name=\"L2\")\n",
    "y = linear_layer(h2, 10, layer_name=\"L3\")"
   ]
  },
  {
   "cell_type": "markdown",
   "metadata": {
    "slideshow": {
     "slide_type": "slide"
    }
   },
   "source": [
    "# Да му оправим и \"карантиите\""
   ]
  },
  {
   "cell_type": "code",
   "execution_count": 37,
   "metadata": {
    "slideshow": {
     "slide_type": "slide"
    }
   },
   "outputs": [],
   "source": [
    "with tf.name_scope('cross_entropy'):\n",
    "    diff = tf.nn.softmax_cross_entropy_with_logits(labels=y_, logits=y)\n",
    "    with tf.name_scope('total'):\n",
    "        cross_entropy = tf.reduce_mean(diff)\n",
    "        \n",
    "tf.summary.scalar('cross_entropy', cross_entropy)\n",
    "\n",
    "with tf.name_scope('train'):\n",
    "    train_step = tf.train.AdamOptimizer(0.01).minimize(cross_entropy)\n",
    "\n",
    "with tf.name_scope('accuracy'):\n",
    "    with tf.name_scope('correct_prediction'):\n",
    "        correct_prediction = tf.equal(tf.argmax(y, 1), tf.argmax(y_, 1))\n",
    "    with tf.name_scope('accuracy'):\n",
    "        accuracy = tf.reduce_mean(tf.cast(correct_prediction, tf.float32))\n",
    "        \n",
    "tf.summary.scalar('accuracy', accuracy)\n",
    "\n",
    "merged = tf.summary.merge_all()\n",
    "train_writer = tf.summary.FileWriter(\"summary/train\", sess.graph)\n",
    "test_writer = tf.summary.FileWriter(\"summary/test\", sess.graph)\n",
    "\n",
    "sess.run(tf.global_variables_initializer())"
   ]
  },
  {
   "cell_type": "markdown",
   "metadata": {
    "slideshow": {
     "slide_type": "slide"
    }
   },
   "source": [
    "# Да потренираме"
   ]
  },
  {
   "cell_type": "code",
   "execution_count": 38,
   "metadata": {
    "slideshow": {
     "slide_type": "slide"
    }
   },
   "outputs": [],
   "source": [
    "for i in range(1000):\n",
    "    if i % 10 == 0:  \n",
    "        test_batch = mnist.test.next_batch(1000)\n",
    "        summary, accuracy_ = sess.run([merged, accuracy], feed_dict={x: test_batch[0], y_: test_batch[1]})\n",
    "        test_writer.add_summary(summary, i)\n",
    "    else: \n",
    "        batch = mnist.train.next_batch(100)\n",
    "        summary, _ = sess.run([merged,  train_step], feed_dict={x: batch[0], y_: batch[1]})\n",
    "        train_writer.add_summary(summary, i)"
   ]
  },
  {
   "cell_type": "markdown",
   "metadata": {
    "slideshow": {
     "slide_type": "slide"
    }
   },
   "source": [
    "# Демо Tensorboard\n",
    "`tensorboard --logdir=path/to/log-directory`"
   ]
  },
  {
   "cell_type": "markdown",
   "metadata": {
    "slideshow": {
     "slide_type": "slide"
    }
   },
   "source": [
    "# Keras\n",
    "\n",
    "Keras is a high-level neural networks API, written in Python and capable of running on top of `TensorFlow`, `CNTK`, or `Theano`. It was developed with a focus on enabling fast experimentation. Being able to go from idea to result with the least possible delay is key to doing good research.\n",
    "\n",
    "Use Keras if you need a deep learning library that:\n",
    "\n",
    "* Allows for easy and fast prototyping (through user friendliness, modularity, and extensibility).\n",
    "* Supports both convolutional networks and recurrent networks, as well as combinations of the two.\n",
    "* Runs seamlessly on CPU and GPU.\n",
    "\n",
    "Read the documentation at [Keras.io](https://keras.io/).\n",
    "\n",
    "Keras is compatible with: Python 2.7-3.6.\n",
    "\n",
    "\n",
    "\n",
    "`pip install keras`"
   ]
  },
  {
   "cell_type": "markdown",
   "metadata": {
    "slideshow": {
     "slide_type": "slide"
    }
   },
   "source": [
    "Керас има два режима:\n",
    "* Sequential\n",
    "* Functional"
   ]
  },
  {
   "cell_type": "code",
   "execution_count": 39,
   "metadata": {
    "slideshow": {
     "slide_type": "slide"
    }
   },
   "outputs": [
    {
     "name": "stderr",
     "output_type": "stream",
     "text": [
      "Using TensorFlow backend.\n"
     ]
    }
   ],
   "source": [
    "import keras\n",
    "from keras.datasets import mnist\n",
    "from keras.models import Sequential\n",
    "from keras.layers import Dense, Dropout\n",
    "from keras.optimizers import RMSprop, Adam"
   ]
  },
  {
   "cell_type": "markdown",
   "metadata": {
    "slideshow": {
     "slide_type": "slide"
    }
   },
   "source": [
    "# Ще разгледаме `Sequential` модела на `Keras`\n",
    "\n",
    "Първо ще заредим същите данни (`mnist`), но през `Keras`."
   ]
  },
  {
   "cell_type": "code",
   "execution_count": 40,
   "metadata": {
    "slideshow": {
     "slide_type": "slide"
    }
   },
   "outputs": [
    {
     "name": "stdout",
     "output_type": "stream",
     "text": [
      "60000 train samples\n",
      "10000 test samples\n"
     ]
    }
   ],
   "source": [
    "# the data, shuffled and split between train and test sets\n",
    "(x_train, y_train), (x_test, y_test) = mnist.load_data()\n",
    "\n",
    "x_train = x_train.reshape(60000, 784)\n",
    "x_test = x_test.reshape(10000, 784)\n",
    "x_train = x_train.astype('float32')\n",
    "x_test = x_test.astype('float32')\n",
    "x_train /= 255\n",
    "x_test /= 255\n",
    "print(x_train.shape[0], 'train samples')\n",
    "print(x_test.shape[0], 'test samples')\n",
    "\n",
    "num_classes = 10\n",
    "# convert class vectors to binary class matrices\n",
    "y_train = keras.utils.to_categorical(y_train, num_classes)\n",
    "y_test = keras.utils.to_categorical(y_test, num_classes)"
   ]
  },
  {
   "cell_type": "code",
   "execution_count": 41,
   "metadata": {
    "slideshow": {
     "slide_type": "slide"
    }
   },
   "outputs": [
    {
     "data": {
      "text/plain": [
       "array([[ 0.,  0.,  0., ...,  1.,  0.,  0.],\n",
       "       [ 0.,  0.,  1., ...,  0.,  0.,  0.],\n",
       "       [ 0.,  1.,  0., ...,  0.,  0.,  0.],\n",
       "       ..., \n",
       "       [ 0.,  0.,  0., ...,  0.,  0.,  0.],\n",
       "       [ 0.,  0.,  0., ...,  0.,  0.,  0.],\n",
       "       [ 0.,  0.,  0., ...,  0.,  0.,  0.]])"
      ]
     },
     "execution_count": 41,
     "metadata": {},
     "output_type": "execute_result"
    }
   ],
   "source": [
    "y_test"
   ]
  },
  {
   "cell_type": "markdown",
   "metadata": {
    "slideshow": {
     "slide_type": "slide"
    }
   },
   "source": [
    "# Да конструираме модел:\n",
    "3-слойна NN + `dropout`  "
   ]
  },
  {
   "cell_type": "code",
   "execution_count": 42,
   "metadata": {
    "slideshow": {
     "slide_type": "slide"
    }
   },
   "outputs": [
    {
     "name": "stdout",
     "output_type": "stream",
     "text": [
      "_________________________________________________________________\n",
      "Layer (type)                 Output Shape              Param #   \n",
      "=================================================================\n",
      "dense_1 (Dense)              (None, 256)               200960    \n",
      "_________________________________________________________________\n",
      "dropout_1 (Dropout)          (None, 256)               0         \n",
      "_________________________________________________________________\n",
      "dense_2 (Dense)              (None, 128)               32896     \n",
      "_________________________________________________________________\n",
      "dropout_2 (Dropout)          (None, 128)               0         \n",
      "_________________________________________________________________\n",
      "dense_3 (Dense)              (None, 10)                1290      \n",
      "=================================================================\n",
      "Total params: 235,146\n",
      "Trainable params: 235,146\n",
      "Non-trainable params: 0\n",
      "_________________________________________________________________\n"
     ]
    }
   ],
   "source": [
    "model = Sequential()\n",
    "model.add(Dense(256, activation='relu', input_shape=(784,)))\n",
    "model.add(Dropout(0.2))\n",
    "model.add(Dense(128, activation='relu'))\n",
    "model.add(Dropout(0.2))\n",
    "model.add(Dense(num_classes, activation='softmax'))\n",
    "\n",
    "model.summary()"
   ]
  },
  {
   "cell_type": "markdown",
   "metadata": {
    "slideshow": {
     "slide_type": "slide"
    }
   },
   "source": [
    "# Компилиране на модела"
   ]
  },
  {
   "cell_type": "code",
   "execution_count": 43,
   "metadata": {
    "slideshow": {
     "slide_type": "slide"
    }
   },
   "outputs": [],
   "source": [
    "model.compile(loss='categorical_crossentropy',\n",
    "              optimizer=Adam(),\n",
    "              metrics=['accuracy'])"
   ]
  },
  {
   "cell_type": "markdown",
   "metadata": {
    "slideshow": {
     "slide_type": "slide"
    }
   },
   "source": [
    "# Трениране"
   ]
  },
  {
   "cell_type": "code",
   "execution_count": 44,
   "metadata": {
    "slideshow": {
     "slide_type": "slide"
    }
   },
   "outputs": [
    {
     "name": "stdout",
     "output_type": "stream",
     "text": [
      "Train on 60000 samples, validate on 10000 samples\n",
      "Epoch 1/10\n",
      "60000/60000 [==============================] - 4s 68us/step - loss: 0.4090 - acc: 0.8801 - val_loss: 0.1561 - val_acc: 0.9530\n",
      "Epoch 2/10\n",
      "60000/60000 [==============================] - 3s 57us/step - loss: 0.1654 - acc: 0.9506 - val_loss: 0.1106 - val_acc: 0.9651\n",
      "Epoch 3/10\n",
      "60000/60000 [==============================] - 3s 53us/step - loss: 0.1192 - acc: 0.9643 - val_loss: 0.0860 - val_acc: 0.9717\n",
      "Epoch 4/10\n",
      "60000/60000 [==============================] - 3s 53us/step - loss: 0.0934 - acc: 0.9715 - val_loss: 0.0834 - val_acc: 0.9738\n",
      "Epoch 5/10\n",
      "60000/60000 [==============================] - 3s 56us/step - loss: 0.0779 - acc: 0.9760 - val_loss: 0.0728 - val_acc: 0.9770\n",
      "Epoch 6/10\n",
      "60000/60000 [==============================] - 3s 52us/step - loss: 0.0663 - acc: 0.9793 - val_loss: 0.0656 - val_acc: 0.9795\n",
      "Epoch 7/10\n",
      "60000/60000 [==============================] - 3s 53us/step - loss: 0.0568 - acc: 0.9819 - val_loss: 0.0656 - val_acc: 0.9810\n",
      "Epoch 8/10\n",
      "60000/60000 [==============================] - 3s 53us/step - loss: 0.0496 - acc: 0.9843 - val_loss: 0.0644 - val_acc: 0.9810\n",
      "Epoch 9/10\n",
      "60000/60000 [==============================] - 3s 52us/step - loss: 0.0433 - acc: 0.9859 - val_loss: 0.0678 - val_acc: 0.9811\n",
      "Epoch 10/10\n",
      "60000/60000 [==============================] - 3s 52us/step - loss: 0.0394 - acc: 0.9870 - val_loss: 0.0657 - val_acc: 0.9815\n"
     ]
    }
   ],
   "source": [
    "batch_size = 256\n",
    "epochs = 10\n",
    "\n",
    "history = model.fit(x_train, y_train,\n",
    "                    batch_size=batch_size,\n",
    "                    epochs=epochs,\n",
    "                    verbose=1,\n",
    "                    validation_data=(x_test, y_test))"
   ]
  },
  {
   "cell_type": "code",
   "execution_count": 45,
   "metadata": {
    "slideshow": {
     "slide_type": "slide"
    }
   },
   "outputs": [
    {
     "name": "stdout",
     "output_type": "stream",
     "text": [
      "Test loss: 0.0656904535762\n",
      "Test accuracy: 0.9815\n"
     ]
    }
   ],
   "source": [
    "score = model.evaluate(x_test, y_test, verbose=0)\n",
    "print('Test loss:', score[0])\n",
    "print('Test accuracy:', score[1])"
   ]
  },
  {
   "cell_type": "markdown",
   "metadata": {
    "slideshow": {
     "slide_type": "slide"
    }
   },
   "source": [
    "# Визуализиране на модела"
   ]
  },
  {
   "cell_type": "code",
   "execution_count": 46,
   "metadata": {
    "slideshow": {
     "slide_type": "slide"
    }
   },
   "outputs": [
    {
     "data": {
      "image/svg+xml": [
       "<svg height=\"458pt\" viewBox=\"0.00 0.00 314.56 458.00\" width=\"315pt\" xmlns=\"http://www.w3.org/2000/svg\" xmlns:xlink=\"http://www.w3.org/1999/xlink\">\n",
       "<g class=\"graph\" id=\"graph0\" transform=\"scale(1 1) rotate(0) translate(4 454)\">\n",
       "<title>G</title>\n",
       "<polygon fill=\"#ffffff\" points=\"-4,4 -4,-454 310.5557,-454 310.5557,4 -4,4\" stroke=\"transparent\"/>\n",
       "<!-- 4708634976 -->\n",
       "<g class=\"node\" id=\"node1\">\n",
       "<title>4708634976</title>\n",
       "<polygon fill=\"none\" points=\"0,-405.5 0,-449.5 306.5557,-449.5 306.5557,-405.5 0,-405.5\" stroke=\"#000000\"/>\n",
       "<text fill=\"#000000\" font-family=\"Times,serif\" font-size=\"14.00\" text-anchor=\"middle\" x=\"83.6191\" y=\"-423.3\">dense_1_input: InputLayer</text>\n",
       "<polyline fill=\"none\" points=\"167.2383,-405.5 167.2383,-449.5 \" stroke=\"#000000\"/>\n",
       "<text fill=\"#000000\" font-family=\"Times,serif\" font-size=\"14.00\" text-anchor=\"middle\" x=\"195.0728\" y=\"-434.3\">input:</text>\n",
       "<polyline fill=\"none\" points=\"167.2383,-427.5 222.9072,-427.5 \" stroke=\"#000000\"/>\n",
       "<text fill=\"#000000\" font-family=\"Times,serif\" font-size=\"14.00\" text-anchor=\"middle\" x=\"195.0728\" y=\"-412.3\">output:</text>\n",
       "<polyline fill=\"none\" points=\"222.9072,-405.5 222.9072,-449.5 \" stroke=\"#000000\"/>\n",
       "<text fill=\"#000000\" font-family=\"Times,serif\" font-size=\"14.00\" text-anchor=\"middle\" x=\"264.7314\" y=\"-434.3\">(None, 784)</text>\n",
       "<polyline fill=\"none\" points=\"222.9072,-427.5 306.5557,-427.5 \" stroke=\"#000000\"/>\n",
       "<text fill=\"#000000\" font-family=\"Times,serif\" font-size=\"14.00\" text-anchor=\"middle\" x=\"264.7314\" y=\"-412.3\">(None, 784)</text>\n",
       "</g>\n",
       "<!-- 4708806552 -->\n",
       "<g class=\"node\" id=\"node2\">\n",
       "<title>4708806552</title>\n",
       "<polygon fill=\"none\" points=\"31.4932,-324.5 31.4932,-368.5 275.0625,-368.5 275.0625,-324.5 31.4932,-324.5\" stroke=\"#000000\"/>\n",
       "<text fill=\"#000000\" font-family=\"Times,serif\" font-size=\"14.00\" text-anchor=\"middle\" x=\"83.6191\" y=\"-342.3\">dense_1: Dense</text>\n",
       "<polyline fill=\"none\" points=\"135.7451,-324.5 135.7451,-368.5 \" stroke=\"#000000\"/>\n",
       "<text fill=\"#000000\" font-family=\"Times,serif\" font-size=\"14.00\" text-anchor=\"middle\" x=\"163.5796\" y=\"-353.3\">input:</text>\n",
       "<polyline fill=\"none\" points=\"135.7451,-346.5 191.4141,-346.5 \" stroke=\"#000000\"/>\n",
       "<text fill=\"#000000\" font-family=\"Times,serif\" font-size=\"14.00\" text-anchor=\"middle\" x=\"163.5796\" y=\"-331.3\">output:</text>\n",
       "<polyline fill=\"none\" points=\"191.4141,-324.5 191.4141,-368.5 \" stroke=\"#000000\"/>\n",
       "<text fill=\"#000000\" font-family=\"Times,serif\" font-size=\"14.00\" text-anchor=\"middle\" x=\"233.2383\" y=\"-353.3\">(None, 784)</text>\n",
       "<polyline fill=\"none\" points=\"191.4141,-346.5 275.0625,-346.5 \" stroke=\"#000000\"/>\n",
       "<text fill=\"#000000\" font-family=\"Times,serif\" font-size=\"14.00\" text-anchor=\"middle\" x=\"233.2383\" y=\"-331.3\">(None, 256)</text>\n",
       "</g>\n",
       "<!-- 4708634976&#45;&gt;4708806552 -->\n",
       "<g class=\"edge\" id=\"edge1\">\n",
       "<title>4708634976-&gt;4708806552</title>\n",
       "<path d=\"M153.2778,-405.3664C153.2778,-397.1516 153.2778,-387.6579 153.2778,-378.7252\" fill=\"none\" stroke=\"#000000\"/>\n",
       "<polygon fill=\"#000000\" points=\"156.7779,-378.6068 153.2778,-368.6068 149.7779,-378.6069 156.7779,-378.6068\" stroke=\"#000000\"/>\n",
       "</g>\n",
       "<!-- 4708806440 -->\n",
       "<g class=\"node\" id=\"node3\">\n",
       "<title>4708806440</title>\n",
       "<polygon fill=\"none\" points=\"19.8174,-243.5 19.8174,-287.5 286.7383,-287.5 286.7383,-243.5 19.8174,-243.5\" stroke=\"#000000\"/>\n",
       "<text fill=\"#000000\" font-family=\"Times,serif\" font-size=\"14.00\" text-anchor=\"middle\" x=\"83.6191\" y=\"-261.3\">dropout_1: Dropout</text>\n",
       "<polyline fill=\"none\" points=\"147.4209,-243.5 147.4209,-287.5 \" stroke=\"#000000\"/>\n",
       "<text fill=\"#000000\" font-family=\"Times,serif\" font-size=\"14.00\" text-anchor=\"middle\" x=\"175.2554\" y=\"-272.3\">input:</text>\n",
       "<polyline fill=\"none\" points=\"147.4209,-265.5 203.0898,-265.5 \" stroke=\"#000000\"/>\n",
       "<text fill=\"#000000\" font-family=\"Times,serif\" font-size=\"14.00\" text-anchor=\"middle\" x=\"175.2554\" y=\"-250.3\">output:</text>\n",
       "<polyline fill=\"none\" points=\"203.0898,-243.5 203.0898,-287.5 \" stroke=\"#000000\"/>\n",
       "<text fill=\"#000000\" font-family=\"Times,serif\" font-size=\"14.00\" text-anchor=\"middle\" x=\"244.9141\" y=\"-272.3\">(None, 256)</text>\n",
       "<polyline fill=\"none\" points=\"203.0898,-265.5 286.7383,-265.5 \" stroke=\"#000000\"/>\n",
       "<text fill=\"#000000\" font-family=\"Times,serif\" font-size=\"14.00\" text-anchor=\"middle\" x=\"244.9141\" y=\"-250.3\">(None, 256)</text>\n",
       "</g>\n",
       "<!-- 4708806552&#45;&gt;4708806440 -->\n",
       "<g class=\"edge\" id=\"edge2\">\n",
       "<title>4708806552-&gt;4708806440</title>\n",
       "<path d=\"M153.2778,-324.3664C153.2778,-316.1516 153.2778,-306.6579 153.2778,-297.7252\" fill=\"none\" stroke=\"#000000\"/>\n",
       "<polygon fill=\"#000000\" points=\"156.7779,-297.6068 153.2778,-287.6068 149.7779,-297.6069 156.7779,-297.6068\" stroke=\"#000000\"/>\n",
       "</g>\n",
       "<!-- 4708624480 -->\n",
       "<g class=\"node\" id=\"node4\">\n",
       "<title>4708624480</title>\n",
       "<polygon fill=\"none\" points=\"31.4932,-162.5 31.4932,-206.5 275.0625,-206.5 275.0625,-162.5 31.4932,-162.5\" stroke=\"#000000\"/>\n",
       "<text fill=\"#000000\" font-family=\"Times,serif\" font-size=\"14.00\" text-anchor=\"middle\" x=\"83.6191\" y=\"-180.3\">dense_2: Dense</text>\n",
       "<polyline fill=\"none\" points=\"135.7451,-162.5 135.7451,-206.5 \" stroke=\"#000000\"/>\n",
       "<text fill=\"#000000\" font-family=\"Times,serif\" font-size=\"14.00\" text-anchor=\"middle\" x=\"163.5796\" y=\"-191.3\">input:</text>\n",
       "<polyline fill=\"none\" points=\"135.7451,-184.5 191.4141,-184.5 \" stroke=\"#000000\"/>\n",
       "<text fill=\"#000000\" font-family=\"Times,serif\" font-size=\"14.00\" text-anchor=\"middle\" x=\"163.5796\" y=\"-169.3\">output:</text>\n",
       "<polyline fill=\"none\" points=\"191.4141,-162.5 191.4141,-206.5 \" stroke=\"#000000\"/>\n",
       "<text fill=\"#000000\" font-family=\"Times,serif\" font-size=\"14.00\" text-anchor=\"middle\" x=\"233.2383\" y=\"-191.3\">(None, 256)</text>\n",
       "<polyline fill=\"none\" points=\"191.4141,-184.5 275.0625,-184.5 \" stroke=\"#000000\"/>\n",
       "<text fill=\"#000000\" font-family=\"Times,serif\" font-size=\"14.00\" text-anchor=\"middle\" x=\"233.2383\" y=\"-169.3\">(None, 128)</text>\n",
       "</g>\n",
       "<!-- 4708806440&#45;&gt;4708624480 -->\n",
       "<g class=\"edge\" id=\"edge3\">\n",
       "<title>4708806440-&gt;4708624480</title>\n",
       "<path d=\"M153.2778,-243.3664C153.2778,-235.1516 153.2778,-225.6579 153.2778,-216.7252\" fill=\"none\" stroke=\"#000000\"/>\n",
       "<polygon fill=\"#000000\" points=\"156.7779,-216.6068 153.2778,-206.6068 149.7779,-216.6069 156.7779,-216.6068\" stroke=\"#000000\"/>\n",
       "</g>\n",
       "<!-- 4708637160 -->\n",
       "<g class=\"node\" id=\"node5\">\n",
       "<title>4708637160</title>\n",
       "<polygon fill=\"none\" points=\"19.8174,-81.5 19.8174,-125.5 286.7383,-125.5 286.7383,-81.5 19.8174,-81.5\" stroke=\"#000000\"/>\n",
       "<text fill=\"#000000\" font-family=\"Times,serif\" font-size=\"14.00\" text-anchor=\"middle\" x=\"83.6191\" y=\"-99.3\">dropout_2: Dropout</text>\n",
       "<polyline fill=\"none\" points=\"147.4209,-81.5 147.4209,-125.5 \" stroke=\"#000000\"/>\n",
       "<text fill=\"#000000\" font-family=\"Times,serif\" font-size=\"14.00\" text-anchor=\"middle\" x=\"175.2554\" y=\"-110.3\">input:</text>\n",
       "<polyline fill=\"none\" points=\"147.4209,-103.5 203.0898,-103.5 \" stroke=\"#000000\"/>\n",
       "<text fill=\"#000000\" font-family=\"Times,serif\" font-size=\"14.00\" text-anchor=\"middle\" x=\"175.2554\" y=\"-88.3\">output:</text>\n",
       "<polyline fill=\"none\" points=\"203.0898,-81.5 203.0898,-125.5 \" stroke=\"#000000\"/>\n",
       "<text fill=\"#000000\" font-family=\"Times,serif\" font-size=\"14.00\" text-anchor=\"middle\" x=\"244.9141\" y=\"-110.3\">(None, 128)</text>\n",
       "<polyline fill=\"none\" points=\"203.0898,-103.5 286.7383,-103.5 \" stroke=\"#000000\"/>\n",
       "<text fill=\"#000000\" font-family=\"Times,serif\" font-size=\"14.00\" text-anchor=\"middle\" x=\"244.9141\" y=\"-88.3\">(None, 128)</text>\n",
       "</g>\n",
       "<!-- 4708624480&#45;&gt;4708637160 -->\n",
       "<g class=\"edge\" id=\"edge4\">\n",
       "<title>4708624480-&gt;4708637160</title>\n",
       "<path d=\"M153.2778,-162.3664C153.2778,-154.1516 153.2778,-144.6579 153.2778,-135.7252\" fill=\"none\" stroke=\"#000000\"/>\n",
       "<polygon fill=\"#000000\" points=\"156.7779,-135.6068 153.2778,-125.6068 149.7779,-135.6069 156.7779,-135.6068\" stroke=\"#000000\"/>\n",
       "</g>\n",
       "<!-- 4709150280 -->\n",
       "<g class=\"node\" id=\"node6\">\n",
       "<title>4709150280</title>\n",
       "<polygon fill=\"none\" points=\"31.4932,-.5 31.4932,-44.5 275.0625,-44.5 275.0625,-.5 31.4932,-.5\" stroke=\"#000000\"/>\n",
       "<text fill=\"#000000\" font-family=\"Times,serif\" font-size=\"14.00\" text-anchor=\"middle\" x=\"83.6191\" y=\"-18.3\">dense_3: Dense</text>\n",
       "<polyline fill=\"none\" points=\"135.7451,-.5 135.7451,-44.5 \" stroke=\"#000000\"/>\n",
       "<text fill=\"#000000\" font-family=\"Times,serif\" font-size=\"14.00\" text-anchor=\"middle\" x=\"163.5796\" y=\"-29.3\">input:</text>\n",
       "<polyline fill=\"none\" points=\"135.7451,-22.5 191.4141,-22.5 \" stroke=\"#000000\"/>\n",
       "<text fill=\"#000000\" font-family=\"Times,serif\" font-size=\"14.00\" text-anchor=\"middle\" x=\"163.5796\" y=\"-7.3\">output:</text>\n",
       "<polyline fill=\"none\" points=\"191.4141,-.5 191.4141,-44.5 \" stroke=\"#000000\"/>\n",
       "<text fill=\"#000000\" font-family=\"Times,serif\" font-size=\"14.00\" text-anchor=\"middle\" x=\"233.2383\" y=\"-29.3\">(None, 128)</text>\n",
       "<polyline fill=\"none\" points=\"191.4141,-22.5 275.0625,-22.5 \" stroke=\"#000000\"/>\n",
       "<text fill=\"#000000\" font-family=\"Times,serif\" font-size=\"14.00\" text-anchor=\"middle\" x=\"233.2383\" y=\"-7.3\">(None, 10)</text>\n",
       "</g>\n",
       "<!-- 4708637160&#45;&gt;4709150280 -->\n",
       "<g class=\"edge\" id=\"edge5\">\n",
       "<title>4708637160-&gt;4709150280</title>\n",
       "<path d=\"M153.2778,-81.3664C153.2778,-73.1516 153.2778,-63.6579 153.2778,-54.7252\" fill=\"none\" stroke=\"#000000\"/>\n",
       "<polygon fill=\"#000000\" points=\"156.7779,-54.6068 153.2778,-44.6068 149.7779,-54.6069 156.7779,-54.6068\" stroke=\"#000000\"/>\n",
       "</g>\n",
       "</g>\n",
       "</svg>"
      ],
      "text/plain": [
       "<IPython.core.display.SVG object>"
      ]
     },
     "execution_count": 46,
     "metadata": {},
     "output_type": "execute_result"
    }
   ],
   "source": [
    "from IPython.display import SVG\n",
    "from keras.utils.vis_utils import model_to_dot\n",
    "\n",
    "SVG(model_to_dot(model, show_layer_names=True, show_shapes=True).create(prog='dot', format='svg',))"
   ]
  },
  {
   "cell_type": "markdown",
   "metadata": {
    "slideshow": {
     "slide_type": "slide"
    }
   },
   "source": [
    "# За визуализациите трябва да инсталирате и:\n",
    "```\n",
    "sudo pip install pydot-ng\n",
    "brew install graphviz\n",
    "```"
   ]
  },
  {
   "cell_type": "markdown",
   "metadata": {
    "slideshow": {
     "slide_type": "slide"
    }
   },
   "source": [
    "# Dropout\n",
    "\n",
    "![](imgs/dropout.jpeg)"
   ]
  },
  {
   "cell_type": "markdown",
   "metadata": {
    "slideshow": {
     "slide_type": "slide"
    }
   },
   "source": [
    "# Functional model\n",
    "\n",
    "Позволя създаването на други архитектури, вместо feed-forward мрежи."
   ]
  },
  {
   "cell_type": "code",
   "execution_count": 47,
   "metadata": {
    "slideshow": {
     "slide_type": "slide"
    }
   },
   "outputs": [],
   "source": [
    "from keras.layers import Input, Concatenate\n",
    "from keras.models import Model\n",
    "\n",
    "# This returns a tensor\n",
    "inputs = Input(shape=(784,))\n",
    "\n",
    "# a layer instance is callable on a tensor, and returns a tensor\n",
    "x = Dense(64, activation='relu', name='L1_64_relu')(inputs)\n",
    "x = Dropout(0.2)(x)\n",
    "x = Dense(64, activation='relu', name='L2_64_relu')(x)\n",
    "x = Dropout(0.2)(x)\n",
    "\n",
    "h = Dense(128, activation='elu', name=\"L1_128_elu\")(inputs)\n",
    "h = Dropout(0.5)(h)\n",
    "\n",
    "x = Concatenate()([x, h])\n",
    "predictions = Dense(10, activation='softmax', name='Softmax')(x)\n",
    "\n",
    "# This creates the model\n",
    "model = Model(inputs=inputs, outputs=predictions)\n",
    "\n",
    "model.compile(optimizer='rmsprop',\n",
    "              loss='categorical_crossentropy',\n",
    "              metrics=['accuracy'])"
   ]
  },
  {
   "cell_type": "code",
   "execution_count": 48,
   "metadata": {
    "slideshow": {
     "slide_type": "slide"
    }
   },
   "outputs": [
    {
     "name": "stdout",
     "output_type": "stream",
     "text": [
      "__________________________________________________________________________________________________\n",
      "Layer (type)                    Output Shape         Param #     Connected to                     \n",
      "==================================================================================================\n",
      "input_1 (InputLayer)            (None, 784)          0                                            \n",
      "__________________________________________________________________________________________________\n",
      "L1_64_relu (Dense)              (None, 64)           50240       input_1[0][0]                    \n",
      "__________________________________________________________________________________________________\n",
      "dropout_3 (Dropout)             (None, 64)           0           L1_64_relu[0][0]                 \n",
      "__________________________________________________________________________________________________\n",
      "L2_64_relu (Dense)              (None, 64)           4160        dropout_3[0][0]                  \n",
      "__________________________________________________________________________________________________\n",
      "L1_128_elu (Dense)              (None, 128)          100480      input_1[0][0]                    \n",
      "__________________________________________________________________________________________________\n",
      "dropout_4 (Dropout)             (None, 64)           0           L2_64_relu[0][0]                 \n",
      "__________________________________________________________________________________________________\n",
      "dropout_5 (Dropout)             (None, 128)          0           L1_128_elu[0][0]                 \n",
      "__________________________________________________________________________________________________\n",
      "concatenate_1 (Concatenate)     (None, 192)          0           dropout_4[0][0]                  \n",
      "                                                                 dropout_5[0][0]                  \n",
      "__________________________________________________________________________________________________\n",
      "Softmax (Dense)                 (None, 10)           1930        concatenate_1[0][0]              \n",
      "==================================================================================================\n",
      "Total params: 156,810\n",
      "Trainable params: 156,810\n",
      "Non-trainable params: 0\n",
      "__________________________________________________________________________________________________\n"
     ]
    }
   ],
   "source": [
    "model.summary()"
   ]
  },
  {
   "cell_type": "code",
   "execution_count": 49,
   "metadata": {
    "slideshow": {
     "slide_type": "slide"
    }
   },
   "outputs": [
    {
     "name": "stdout",
     "output_type": "stream",
     "text": [
      "Epoch 1/10\n",
      "60000/60000 [==============================] - 3s 56us/step - loss: 0.3824 - acc: 0.8865\n",
      "Epoch 2/10\n",
      "60000/60000 [==============================] - 3s 47us/step - loss: 0.2077 - acc: 0.9379\n",
      "Epoch 3/10\n",
      "60000/60000 [==============================] - 3s 48us/step - loss: 0.1654 - acc: 0.9508\n",
      "Epoch 4/10\n",
      "60000/60000 [==============================] - 3s 47us/step - loss: 0.1431 - acc: 0.9564\n",
      "Epoch 5/10\n",
      "60000/60000 [==============================] - 3s 52us/step - loss: 0.1263 - acc: 0.9627\n",
      "Epoch 6/10\n",
      "60000/60000 [==============================] - 3s 46us/step - loss: 0.1168 - acc: 0.9651\n",
      "Epoch 7/10\n",
      "60000/60000 [==============================] - 3s 47us/step - loss: 0.1062 - acc: 0.9675\n",
      "Epoch 8/10\n",
      "60000/60000 [==============================] - 3s 46us/step - loss: 0.0990 - acc: 0.9697\n",
      "Epoch 9/10\n",
      "60000/60000 [==============================] - 3s 46us/step - loss: 0.0956 - acc: 0.9707\n",
      "Epoch 10/10\n",
      "60000/60000 [==============================] - 3s 47us/step - loss: 0.0892 - acc: 0.9735\n"
     ]
    }
   ],
   "source": [
    "model.fit(x_train, y_train, batch_size=128, epochs=10);"
   ]
  },
  {
   "cell_type": "code",
   "execution_count": 50,
   "metadata": {
    "slideshow": {
     "slide_type": "slide"
    }
   },
   "outputs": [
    {
     "name": "stdout",
     "output_type": "stream",
     "text": [
      "10000/10000 [==============================] - 1s 53us/step\n",
      "Test loss: 0.0884788031693\n",
      "Test accuracy: 0.9761\n"
     ]
    }
   ],
   "source": [
    "score = model.evaluate(x_test, y_test)\n",
    "print('Test loss:', score[0])\n",
    "print('Test accuracy:', score[1])"
   ]
  },
  {
   "cell_type": "code",
   "execution_count": 51,
   "metadata": {
    "slideshow": {
     "slide_type": "slide"
    }
   },
   "outputs": [
    {
     "data": {
      "image/svg+xml": [
       "<svg height=\"539pt\" viewBox=\"0.00 0.00 551.63 539.00\" width=\"552pt\" xmlns=\"http://www.w3.org/2000/svg\" xmlns:xlink=\"http://www.w3.org/1999/xlink\">\n",
       "<g class=\"graph\" id=\"graph0\" transform=\"scale(1 1) rotate(0) translate(4 535)\">\n",
       "<title>G</title>\n",
       "<polygon fill=\"#ffffff\" points=\"-4,4 -4,-535 547.6348,-535 547.6348,4 -4,4\" stroke=\"transparent\"/>\n",
       "<!-- 4720038352 -->\n",
       "<g class=\"node\" id=\"node1\">\n",
       "<title>4720038352</title>\n",
       "<polygon fill=\"none\" points=\"136.1206,-486.5 136.1206,-530.5 403.8003,-530.5 403.8003,-486.5 136.1206,-486.5\" stroke=\"#000000\"/>\n",
       "<text fill=\"#000000\" font-family=\"Times,serif\" font-size=\"14.00\" text-anchor=\"middle\" x=\"200.3018\" y=\"-504.3\">input_1: InputLayer</text>\n",
       "<polyline fill=\"none\" points=\"264.4829,-486.5 264.4829,-530.5 \" stroke=\"#000000\"/>\n",
       "<text fill=\"#000000\" font-family=\"Times,serif\" font-size=\"14.00\" text-anchor=\"middle\" x=\"292.3174\" y=\"-515.3\">input:</text>\n",
       "<polyline fill=\"none\" points=\"264.4829,-508.5 320.1519,-508.5 \" stroke=\"#000000\"/>\n",
       "<text fill=\"#000000\" font-family=\"Times,serif\" font-size=\"14.00\" text-anchor=\"middle\" x=\"292.3174\" y=\"-493.3\">output:</text>\n",
       "<polyline fill=\"none\" points=\"320.1519,-486.5 320.1519,-530.5 \" stroke=\"#000000\"/>\n",
       "<text fill=\"#000000\" font-family=\"Times,serif\" font-size=\"14.00\" text-anchor=\"middle\" x=\"361.9761\" y=\"-515.3\">(None, 784)</text>\n",
       "<polyline fill=\"none\" points=\"320.1519,-508.5 403.8003,-508.5 \" stroke=\"#000000\"/>\n",
       "<text fill=\"#000000\" font-family=\"Times,serif\" font-size=\"14.00\" text-anchor=\"middle\" x=\"361.9761\" y=\"-493.3\">(None, 784)</text>\n",
       "</g>\n",
       "<!-- 4720038464 -->\n",
       "<g class=\"node\" id=\"node2\">\n",
       "<title>4720038464</title>\n",
       "<polygon fill=\"none\" points=\"58.4551,-405.5 58.4551,-449.5 321.4658,-449.5 321.4658,-405.5 58.4551,-405.5\" stroke=\"#000000\"/>\n",
       "<text fill=\"#000000\" font-family=\"Times,serif\" font-size=\"14.00\" text-anchor=\"middle\" x=\"120.3018\" y=\"-423.3\">L1_64_relu: Dense</text>\n",
       "<polyline fill=\"none\" points=\"182.1484,-405.5 182.1484,-449.5 \" stroke=\"#000000\"/>\n",
       "<text fill=\"#000000\" font-family=\"Times,serif\" font-size=\"14.00\" text-anchor=\"middle\" x=\"209.9829\" y=\"-434.3\">input:</text>\n",
       "<polyline fill=\"none\" points=\"182.1484,-427.5 237.8174,-427.5 \" stroke=\"#000000\"/>\n",
       "<text fill=\"#000000\" font-family=\"Times,serif\" font-size=\"14.00\" text-anchor=\"middle\" x=\"209.9829\" y=\"-412.3\">output:</text>\n",
       "<polyline fill=\"none\" points=\"237.8174,-405.5 237.8174,-449.5 \" stroke=\"#000000\"/>\n",
       "<text fill=\"#000000\" font-family=\"Times,serif\" font-size=\"14.00\" text-anchor=\"middle\" x=\"279.6416\" y=\"-434.3\">(None, 784)</text>\n",
       "<polyline fill=\"none\" points=\"237.8174,-427.5 321.4658,-427.5 \" stroke=\"#000000\"/>\n",
       "<text fill=\"#000000\" font-family=\"Times,serif\" font-size=\"14.00\" text-anchor=\"middle\" x=\"279.6416\" y=\"-412.3\">(None, 64)</text>\n",
       "</g>\n",
       "<!-- 4720038352&#45;&gt;4720038464 -->\n",
       "<g class=\"edge\" id=\"edge1\">\n",
       "<title>4720038352-&gt;4720038464</title>\n",
       "<path d=\"M248.1001,-486.3664C239.1049,-477.2587 228.5569,-466.5789 218.9329,-456.8346\" fill=\"none\" stroke=\"#000000\"/>\n",
       "<polygon fill=\"#000000\" points=\"221.3116,-454.2623 211.7944,-449.6068 216.3312,-459.1812 221.3116,-454.2623\" stroke=\"#000000\"/>\n",
       "</g>\n",
       "<!-- 4719167472 -->\n",
       "<g class=\"node\" id=\"node5\">\n",
       "<title>4719167472</title>\n",
       "<polygon fill=\"none\" points=\"278.2861,-324.5 278.2861,-368.5 543.6348,-368.5 543.6348,-324.5 278.2861,-324.5\" stroke=\"#000000\"/>\n",
       "<text fill=\"#000000\" font-family=\"Times,serif\" font-size=\"14.00\" text-anchor=\"middle\" x=\"341.3018\" y=\"-342.3\">L1_128_elu: Dense</text>\n",
       "<polyline fill=\"none\" points=\"404.3174,-324.5 404.3174,-368.5 \" stroke=\"#000000\"/>\n",
       "<text fill=\"#000000\" font-family=\"Times,serif\" font-size=\"14.00\" text-anchor=\"middle\" x=\"432.1519\" y=\"-353.3\">input:</text>\n",
       "<polyline fill=\"none\" points=\"404.3174,-346.5 459.9863,-346.5 \" stroke=\"#000000\"/>\n",
       "<text fill=\"#000000\" font-family=\"Times,serif\" font-size=\"14.00\" text-anchor=\"middle\" x=\"432.1519\" y=\"-331.3\">output:</text>\n",
       "<polyline fill=\"none\" points=\"459.9863,-324.5 459.9863,-368.5 \" stroke=\"#000000\"/>\n",
       "<text fill=\"#000000\" font-family=\"Times,serif\" font-size=\"14.00\" text-anchor=\"middle\" x=\"501.8105\" y=\"-353.3\">(None, 784)</text>\n",
       "<polyline fill=\"none\" points=\"459.9863,-346.5 543.6348,-346.5 \" stroke=\"#000000\"/>\n",
       "<text fill=\"#000000\" font-family=\"Times,serif\" font-size=\"14.00\" text-anchor=\"middle\" x=\"501.8105\" y=\"-331.3\">(None, 128)</text>\n",
       "</g>\n",
       "<!-- 4720038352&#45;&gt;4719167472 -->\n",
       "<g class=\"edge\" id=\"edge4\">\n",
       "<title>4720038352-&gt;4719167472</title>\n",
       "<path d=\"M294.8251,-486.2306C306.225,-475.6295 319.6803,-462.5498 330.9604,-450 352.043,-426.5446 373.7932,-398.0809 389.2832,-376.9442\" fill=\"none\" stroke=\"#000000\"/>\n",
       "<polygon fill=\"#000000\" points=\"392.2591,-378.8029 395.3111,-368.6572 386.5983,-374.6853 392.2591,-378.8029\" stroke=\"#000000\"/>\n",
       "</g>\n",
       "<!-- 4717974080 -->\n",
       "<g class=\"node\" id=\"node3\">\n",
       "<title>4717974080</title>\n",
       "<polygon fill=\"none\" points=\"0,-324.5 0,-368.5 259.9209,-368.5 259.9209,-324.5 0,-324.5\" stroke=\"#000000\"/>\n",
       "<text fill=\"#000000\" font-family=\"Times,serif\" font-size=\"14.00\" text-anchor=\"middle\" x=\"63.8018\" y=\"-342.3\">dropout_3: Dropout</text>\n",
       "<polyline fill=\"none\" points=\"127.6035,-324.5 127.6035,-368.5 \" stroke=\"#000000\"/>\n",
       "<text fill=\"#000000\" font-family=\"Times,serif\" font-size=\"14.00\" text-anchor=\"middle\" x=\"155.438\" y=\"-353.3\">input:</text>\n",
       "<polyline fill=\"none\" points=\"127.6035,-346.5 183.2725,-346.5 \" stroke=\"#000000\"/>\n",
       "<text fill=\"#000000\" font-family=\"Times,serif\" font-size=\"14.00\" text-anchor=\"middle\" x=\"155.438\" y=\"-331.3\">output:</text>\n",
       "<polyline fill=\"none\" points=\"183.2725,-324.5 183.2725,-368.5 \" stroke=\"#000000\"/>\n",
       "<text fill=\"#000000\" font-family=\"Times,serif\" font-size=\"14.00\" text-anchor=\"middle\" x=\"221.5967\" y=\"-353.3\">(None, 64)</text>\n",
       "<polyline fill=\"none\" points=\"183.2725,-346.5 259.9209,-346.5 \" stroke=\"#000000\"/>\n",
       "<text fill=\"#000000\" font-family=\"Times,serif\" font-size=\"14.00\" text-anchor=\"middle\" x=\"221.5967\" y=\"-331.3\">(None, 64)</text>\n",
       "</g>\n",
       "<!-- 4720038464&#45;&gt;4717974080 -->\n",
       "<g class=\"edge\" id=\"edge2\">\n",
       "<title>4720038464-&gt;4717974080</title>\n",
       "<path d=\"M173.5652,-405.3664C167.0172,-396.5266 159.3722,-386.2058 152.3284,-376.6967\" fill=\"none\" stroke=\"#000000\"/>\n",
       "<polygon fill=\"#000000\" points=\"155.1007,-374.5591 146.3359,-368.6068 149.4757,-378.7257 155.1007,-374.5591\" stroke=\"#000000\"/>\n",
       "</g>\n",
       "<!-- 4718900000 -->\n",
       "<g class=\"node\" id=\"node4\">\n",
       "<title>4718900000</title>\n",
       "<polygon fill=\"none\" points=\"2.9551,-243.5 2.9551,-287.5 258.9658,-287.5 258.9658,-243.5 2.9551,-243.5\" stroke=\"#000000\"/>\n",
       "<text fill=\"#000000\" font-family=\"Times,serif\" font-size=\"14.00\" text-anchor=\"middle\" x=\"64.8018\" y=\"-261.3\">L2_64_relu: Dense</text>\n",
       "<polyline fill=\"none\" points=\"126.6484,-243.5 126.6484,-287.5 \" stroke=\"#000000\"/>\n",
       "<text fill=\"#000000\" font-family=\"Times,serif\" font-size=\"14.00\" text-anchor=\"middle\" x=\"154.4829\" y=\"-272.3\">input:</text>\n",
       "<polyline fill=\"none\" points=\"126.6484,-265.5 182.3174,-265.5 \" stroke=\"#000000\"/>\n",
       "<text fill=\"#000000\" font-family=\"Times,serif\" font-size=\"14.00\" text-anchor=\"middle\" x=\"154.4829\" y=\"-250.3\">output:</text>\n",
       "<polyline fill=\"none\" points=\"182.3174,-243.5 182.3174,-287.5 \" stroke=\"#000000\"/>\n",
       "<text fill=\"#000000\" font-family=\"Times,serif\" font-size=\"14.00\" text-anchor=\"middle\" x=\"220.6416\" y=\"-272.3\">(None, 64)</text>\n",
       "<polyline fill=\"none\" points=\"182.3174,-265.5 258.9658,-265.5 \" stroke=\"#000000\"/>\n",
       "<text fill=\"#000000\" font-family=\"Times,serif\" font-size=\"14.00\" text-anchor=\"middle\" x=\"220.6416\" y=\"-250.3\">(None, 64)</text>\n",
       "</g>\n",
       "<!-- 4717974080&#45;&gt;4718900000 -->\n",
       "<g class=\"edge\" id=\"edge3\">\n",
       "<title>4717974080-&gt;4718900000</title>\n",
       "<path d=\"M130.2337,-324.3664C130.3351,-316.1516 130.4523,-306.6579 130.5626,-297.7252\" fill=\"none\" stroke=\"#000000\"/>\n",
       "<polygon fill=\"#000000\" points=\"134.0637,-297.6493 130.6875,-287.6068 127.0642,-297.5628 134.0637,-297.6493\" stroke=\"#000000\"/>\n",
       "</g>\n",
       "<!-- 4720038072 -->\n",
       "<g class=\"node\" id=\"node6\">\n",
       "<title>4720038072</title>\n",
       "<polygon fill=\"none\" points=\"61,-162.5 61,-206.5 320.9209,-206.5 320.9209,-162.5 61,-162.5\" stroke=\"#000000\"/>\n",
       "<text fill=\"#000000\" font-family=\"Times,serif\" font-size=\"14.00\" text-anchor=\"middle\" x=\"124.8018\" y=\"-180.3\">dropout_4: Dropout</text>\n",
       "<polyline fill=\"none\" points=\"188.6035,-162.5 188.6035,-206.5 \" stroke=\"#000000\"/>\n",
       "<text fill=\"#000000\" font-family=\"Times,serif\" font-size=\"14.00\" text-anchor=\"middle\" x=\"216.438\" y=\"-191.3\">input:</text>\n",
       "<polyline fill=\"none\" points=\"188.6035,-184.5 244.2725,-184.5 \" stroke=\"#000000\"/>\n",
       "<text fill=\"#000000\" font-family=\"Times,serif\" font-size=\"14.00\" text-anchor=\"middle\" x=\"216.438\" y=\"-169.3\">output:</text>\n",
       "<polyline fill=\"none\" points=\"244.2725,-162.5 244.2725,-206.5 \" stroke=\"#000000\"/>\n",
       "<text fill=\"#000000\" font-family=\"Times,serif\" font-size=\"14.00\" text-anchor=\"middle\" x=\"282.5967\" y=\"-191.3\">(None, 64)</text>\n",
       "<polyline fill=\"none\" points=\"244.2725,-184.5 320.9209,-184.5 \" stroke=\"#000000\"/>\n",
       "<text fill=\"#000000\" font-family=\"Times,serif\" font-size=\"14.00\" text-anchor=\"middle\" x=\"282.5967\" y=\"-169.3\">(None, 64)</text>\n",
       "</g>\n",
       "<!-- 4718900000&#45;&gt;4720038072 -->\n",
       "<g class=\"edge\" id=\"edge5\">\n",
       "<title>4718900000-&gt;4720038072</title>\n",
       "<path d=\"M147.3557,-243.3664C153.9037,-234.5266 161.5487,-224.2058 168.5925,-214.6967\" fill=\"none\" stroke=\"#000000\"/>\n",
       "<polygon fill=\"#000000\" points=\"171.4452,-216.7257 174.585,-206.6068 165.8202,-212.5591 171.4452,-216.7257\" stroke=\"#000000\"/>\n",
       "</g>\n",
       "<!-- 4718541848 -->\n",
       "<g class=\"node\" id=\"node7\">\n",
       "<title>4718541848</title>\n",
       "<polygon fill=\"none\" points=\"276.5,-243.5 276.5,-287.5 543.4209,-287.5 543.4209,-243.5 276.5,-243.5\" stroke=\"#000000\"/>\n",
       "<text fill=\"#000000\" font-family=\"Times,serif\" font-size=\"14.00\" text-anchor=\"middle\" x=\"340.3018\" y=\"-261.3\">dropout_5: Dropout</text>\n",
       "<polyline fill=\"none\" points=\"404.1035,-243.5 404.1035,-287.5 \" stroke=\"#000000\"/>\n",
       "<text fill=\"#000000\" font-family=\"Times,serif\" font-size=\"14.00\" text-anchor=\"middle\" x=\"431.938\" y=\"-272.3\">input:</text>\n",
       "<polyline fill=\"none\" points=\"404.1035,-265.5 459.7725,-265.5 \" stroke=\"#000000\"/>\n",
       "<text fill=\"#000000\" font-family=\"Times,serif\" font-size=\"14.00\" text-anchor=\"middle\" x=\"431.938\" y=\"-250.3\">output:</text>\n",
       "<polyline fill=\"none\" points=\"459.7725,-243.5 459.7725,-287.5 \" stroke=\"#000000\"/>\n",
       "<text fill=\"#000000\" font-family=\"Times,serif\" font-size=\"14.00\" text-anchor=\"middle\" x=\"501.5967\" y=\"-272.3\">(None, 128)</text>\n",
       "<polyline fill=\"none\" points=\"459.7725,-265.5 543.4209,-265.5 \" stroke=\"#000000\"/>\n",
       "<text fill=\"#000000\" font-family=\"Times,serif\" font-size=\"14.00\" text-anchor=\"middle\" x=\"501.5967\" y=\"-250.3\">(None, 128)</text>\n",
       "</g>\n",
       "<!-- 4719167472&#45;&gt;4718541848 -->\n",
       "<g class=\"edge\" id=\"edge6\">\n",
       "<title>4719167472-&gt;4718541848</title>\n",
       "<path d=\"M410.6872,-324.3664C410.5858,-316.1516 410.4686,-306.6579 410.3583,-297.7252\" fill=\"none\" stroke=\"#000000\"/>\n",
       "<polygon fill=\"#000000\" points=\"413.8567,-297.5628 410.2334,-287.6068 406.8572,-297.6493 413.8567,-297.5628\" stroke=\"#000000\"/>\n",
       "</g>\n",
       "<!-- 4719825192 -->\n",
       "<g class=\"node\" id=\"node8\">\n",
       "<title>4719825192</title>\n",
       "<polygon fill=\"none\" points=\"75.4961,-81.5 75.4961,-125.5 464.4248,-125.5 464.4248,-81.5 75.4961,-81.5\" stroke=\"#000000\"/>\n",
       "<text fill=\"#000000\" font-family=\"Times,serif\" font-size=\"14.00\" text-anchor=\"middle\" x=\"161.8154\" y=\"-99.3\">concatenate_1: Concatenate</text>\n",
       "<polyline fill=\"none\" points=\"248.1348,-81.5 248.1348,-125.5 \" stroke=\"#000000\"/>\n",
       "<text fill=\"#000000\" font-family=\"Times,serif\" font-size=\"14.00\" text-anchor=\"middle\" x=\"275.9692\" y=\"-110.3\">input:</text>\n",
       "<polyline fill=\"none\" points=\"248.1348,-103.5 303.8037,-103.5 \" stroke=\"#000000\"/>\n",
       "<text fill=\"#000000\" font-family=\"Times,serif\" font-size=\"14.00\" text-anchor=\"middle\" x=\"275.9692\" y=\"-88.3\">output:</text>\n",
       "<polyline fill=\"none\" points=\"303.8037,-81.5 303.8037,-125.5 \" stroke=\"#000000\"/>\n",
       "<text fill=\"#000000\" font-family=\"Times,serif\" font-size=\"14.00\" text-anchor=\"middle\" x=\"384.1143\" y=\"-110.3\">[(None, 64), (None, 128)]</text>\n",
       "<polyline fill=\"none\" points=\"303.8037,-103.5 464.4248,-103.5 \" stroke=\"#000000\"/>\n",
       "<text fill=\"#000000\" font-family=\"Times,serif\" font-size=\"14.00\" text-anchor=\"middle\" x=\"383.6279\" y=\"-88.3\">(None, 192)</text>\n",
       "</g>\n",
       "<!-- 4720038072&#45;&gt;4719825192 -->\n",
       "<g class=\"edge\" id=\"edge7\">\n",
       "<title>4720038072-&gt;4719825192</title>\n",
       "<path d=\"M212.5475,-162.3664C221.4303,-153.2587 231.8464,-142.5789 241.3502,-132.8346\" fill=\"none\" stroke=\"#000000\"/>\n",
       "<polygon fill=\"#000000\" points=\"243.9229,-135.2095 248.3995,-125.6068 238.9117,-130.322 243.9229,-135.2095\" stroke=\"#000000\"/>\n",
       "</g>\n",
       "<!-- 4718541848&#45;&gt;4719825192 -->\n",
       "<g class=\"edge\" id=\"edge8\">\n",
       "<title>4718541848-&gt;4719825192</title>\n",
       "<path d=\"M394.2626,-243.3863C378.7148,-221.9332 353.8373,-188.7859 329.9604,-162 321.0996,-152.0596 310.9048,-141.749 301.4627,-132.6036\" fill=\"none\" stroke=\"#000000\"/>\n",
       "<polygon fill=\"#000000\" points=\"303.7358,-129.9345 294.0915,-125.5484 298.8956,-134.9914 303.7358,-129.9345\" stroke=\"#000000\"/>\n",
       "</g>\n",
       "<!-- 4720069488 -->\n",
       "<g class=\"node\" id=\"node9\">\n",
       "<title>4720069488</title>\n",
       "<polygon fill=\"none\" points=\"147.3931,-.5 147.3931,-44.5 392.5278,-44.5 392.5278,-.5 147.3931,-.5\" stroke=\"#000000\"/>\n",
       "<text fill=\"#000000\" font-family=\"Times,serif\" font-size=\"14.00\" text-anchor=\"middle\" x=\"200.3018\" y=\"-18.3\">Softmax: Dense</text>\n",
       "<polyline fill=\"none\" points=\"253.2104,-.5 253.2104,-44.5 \" stroke=\"#000000\"/>\n",
       "<text fill=\"#000000\" font-family=\"Times,serif\" font-size=\"14.00\" text-anchor=\"middle\" x=\"281.0449\" y=\"-29.3\">input:</text>\n",
       "<polyline fill=\"none\" points=\"253.2104,-22.5 308.8794,-22.5 \" stroke=\"#000000\"/>\n",
       "<text fill=\"#000000\" font-family=\"Times,serif\" font-size=\"14.00\" text-anchor=\"middle\" x=\"281.0449\" y=\"-7.3\">output:</text>\n",
       "<polyline fill=\"none\" points=\"308.8794,-.5 308.8794,-44.5 \" stroke=\"#000000\"/>\n",
       "<text fill=\"#000000\" font-family=\"Times,serif\" font-size=\"14.00\" text-anchor=\"middle\" x=\"350.7036\" y=\"-29.3\">(None, 192)</text>\n",
       "<polyline fill=\"none\" points=\"308.8794,-22.5 392.5278,-22.5 \" stroke=\"#000000\"/>\n",
       "<text fill=\"#000000\" font-family=\"Times,serif\" font-size=\"14.00\" text-anchor=\"middle\" x=\"350.7036\" y=\"-7.3\">(None, 10)</text>\n",
       "</g>\n",
       "<!-- 4719825192&#45;&gt;4720069488 -->\n",
       "<g class=\"edge\" id=\"edge9\">\n",
       "<title>4719825192-&gt;4720069488</title>\n",
       "<path d=\"M269.9604,-81.3664C269.9604,-73.1516 269.9604,-63.6579 269.9604,-54.7252\" fill=\"none\" stroke=\"#000000\"/>\n",
       "<polygon fill=\"#000000\" points=\"273.4605,-54.6068 269.9604,-44.6068 266.4605,-54.6069 273.4605,-54.6068\" stroke=\"#000000\"/>\n",
       "</g>\n",
       "</g>\n",
       "</svg>"
      ],
      "text/plain": [
       "<IPython.core.display.SVG object>"
      ]
     },
     "execution_count": 51,
     "metadata": {},
     "output_type": "execute_result"
    }
   ],
   "source": [
    "SVG(model_to_dot(model, show_layer_names=True, show_shapes=True).create(prog='dot', format='svg'))"
   ]
  },
  {
   "cell_type": "markdown",
   "metadata": {
    "slideshow": {
     "slide_type": "slide"
    }
   },
   "source": [
    "# Пример на мрежа с няколко различни входа и изхода."
   ]
  },
  {
   "cell_type": "markdown",
   "metadata": {
    "slideshow": {
     "slide_type": "slide"
    }
   },
   "source": [
    "![](imgs/multi-input-multi-output-graph.png)"
   ]
  },
  {
   "cell_type": "markdown",
   "metadata": {
    "slideshow": {
     "slide_type": "slide"
    }
   },
   "source": [
    "# Записване и зареждане на модела на диска"
   ]
  },
  {
   "cell_type": "code",
   "execution_count": 52,
   "metadata": {
    "slideshow": {
     "slide_type": "slide"
    }
   },
   "outputs": [
    {
     "name": "stdout",
     "output_type": "stream",
     "text": [
      "-rw-r--r--  1 lachezar  staff   1,2M 30 Нов 16:58 model.hdf5\r\n"
     ]
    }
   ],
   "source": [
    "# pip install h5py\n",
    "\n",
    "model.save('model.hdf5')\n",
    "!ls -lh model.hdf5"
   ]
  },
  {
   "cell_type": "code",
   "execution_count": 53,
   "metadata": {
    "slideshow": {
     "slide_type": "slide"
    }
   },
   "outputs": [
    {
     "name": "stdout",
     "output_type": "stream",
     "text": [
      "10000/10000 [==============================] - 1s 51us/step\n",
      "Test loss: 0.0884788031693\n",
      "Test accuracy: 0.9761\n"
     ]
    }
   ],
   "source": [
    "new_model = keras.models.load_model('model.hdf5')\n",
    "\n",
    "score = new_model.evaluate(x_test, y_test)\n",
    "print('Test loss:', score[0])\n",
    "print('Test accuracy:', score[1])"
   ]
  },
  {
   "cell_type": "markdown",
   "metadata": {
    "slideshow": {
     "slide_type": "slide"
    }
   },
   "source": [
    "# Предсказване на категорийте"
   ]
  },
  {
   "cell_type": "code",
   "execution_count": 54,
   "metadata": {
    "slideshow": {
     "slide_type": "slide"
    }
   },
   "outputs": [
    {
     "name": "stdout",
     "output_type": "stream",
     "text": [
      "[[  1.57085789e-10   9.36015265e-10   1.70116937e-06   4.00841282e-06\n",
      "    2.73315810e-12   3.66324144e-08   3.71637479e-16   9.99993563e-01\n",
      "    1.91233229e-09   7.72712099e-07]\n",
      " [  6.41493914e-10   3.52659022e-08   9.99999642e-01   3.71865838e-07\n",
      "    3.19827316e-18   1.03249319e-11   2.80265150e-13   1.65241844e-13\n",
      "    7.14501652e-11   7.65649594e-19]\n",
      " [  3.02232017e-08   9.99088049e-01   2.40679743e-04   1.99665828e-06\n",
      "    1.85227327e-05   7.18639399e-07   1.53430983e-06   6.14820048e-04\n",
      "    3.27115522e-05   9.60526677e-07]\n",
      " [  9.99697924e-01   1.90893928e-07   6.13768061e-05   7.02689306e-07\n",
      "    2.55131090e-06   4.09762542e-05   1.28325424e-04   1.92228290e-05\n",
      "    9.54459665e-07   4.78333677e-05]]\n",
      "[7 2 1 0]\n",
      "[7 2 1 0]\n"
     ]
    }
   ],
   "source": [
    "y_hat = new_model.predict(x_test[:4])\n",
    "print(y_hat)\n",
    "print(np.argmax(y_hat, axis=1))\n",
    "print(np.argmax(y_test[:4], axis=1))"
   ]
  },
  {
   "cell_type": "markdown",
   "metadata": {
    "slideshow": {
     "slide_type": "slide"
    }
   },
   "source": [
    "# Да погледнем какви класове имаме на разположение в `keras.optimizers`"
   ]
  },
  {
   "cell_type": "code",
   "execution_count": 55,
   "metadata": {
    "slideshow": {
     "slide_type": "slide"
    }
   },
   "outputs": [
    {
     "data": {
      "text/plain": [
       "['Adadelta',\n",
       " 'Adagrad',\n",
       " 'Adam',\n",
       " 'Adamax',\n",
       " 'K',\n",
       " 'Nadam',\n",
       " 'Optimizer',\n",
       " 'RMSprop',\n",
       " 'SGD',\n",
       " 'TFOptimizer']"
      ]
     },
     "execution_count": 55,
     "metadata": {},
     "output_type": "execute_result"
    }
   ],
   "source": [
    "[c for c in dir(keras.optimizers) if c[0].isupper()]"
   ]
  },
  {
   "cell_type": "markdown",
   "metadata": {
    "slideshow": {
     "slide_type": "slide"
    }
   },
   "source": [
    "# И какви слоеве има в `keras.layers`"
   ]
  },
  {
   "cell_type": "code",
   "execution_count": 56,
   "metadata": {
    "slideshow": {
     "slide_type": "slide"
    }
   },
   "outputs": [
    {
     "data": {
      "text/plain": [
       "['Activation',\n",
       " 'ActivityRegularization',\n",
       " 'Add',\n",
       " 'AlphaDropout',\n",
       " 'AtrousConv1D',\n",
       " 'AtrousConv2D',\n",
       " 'AtrousConvolution1D',\n",
       " 'AtrousConvolution2D',\n",
       " 'Average',\n",
       " 'AveragePooling1D',\n",
       " 'AveragePooling2D',\n",
       " 'AveragePooling3D',\n",
       " 'AvgPool1D',\n",
       " 'AvgPool2D',\n",
       " 'AvgPool3D',\n",
       " 'BatchNormalization',\n",
       " 'Bidirectional',\n",
       " 'Concatenate',\n",
       " 'Conv1D',\n",
       " 'Conv2D',\n",
       " 'Conv2DTranspose',\n",
       " 'Conv3D',\n",
       " 'Conv3DTranspose',\n",
       " 'ConvLSTM2D',\n",
       " 'ConvRecurrent2D',\n",
       " 'Convolution1D',\n",
       " 'Convolution2D',\n",
       " 'Convolution2DTranspose',\n",
       " 'Convolution3D',\n",
       " 'Cropping1D',\n",
       " 'Cropping2D',\n",
       " 'Cropping3D',\n",
       " 'CuDNNGRU',\n",
       " 'CuDNNLSTM',\n",
       " 'Deconv2D',\n",
       " 'Deconv3D',\n",
       " 'Deconvolution2D',\n",
       " 'Deconvolution3D',\n",
       " 'Dense',\n",
       " 'Dot',\n",
       " 'Dropout',\n",
       " 'ELU',\n",
       " 'Embedding',\n",
       " 'Flatten',\n",
       " 'GRU',\n",
       " 'GRUCell',\n",
       " 'GaussianDropout',\n",
       " 'GaussianNoise',\n",
       " 'GlobalAveragePooling1D',\n",
       " 'GlobalAveragePooling2D',\n",
       " 'GlobalAveragePooling3D',\n",
       " 'GlobalAvgPool1D',\n",
       " 'GlobalAvgPool2D',\n",
       " 'GlobalAvgPool3D',\n",
       " 'GlobalMaxPool1D',\n",
       " 'GlobalMaxPool2D',\n",
       " 'GlobalMaxPool3D',\n",
       " 'GlobalMaxPooling1D',\n",
       " 'GlobalMaxPooling2D',\n",
       " 'GlobalMaxPooling3D',\n",
       " 'Highway',\n",
       " 'Input',\n",
       " 'InputLayer',\n",
       " 'InputSpec',\n",
       " 'K',\n",
       " 'LSTM',\n",
       " 'LSTMCell',\n",
       " 'Lambda',\n",
       " 'Layer',\n",
       " 'LeakyReLU',\n",
       " 'LocallyConnected1D',\n",
       " 'LocallyConnected2D',\n",
       " 'Masking',\n",
       " 'MaxPool1D',\n",
       " 'MaxPool2D',\n",
       " 'MaxPool3D',\n",
       " 'MaxPooling1D',\n",
       " 'MaxPooling2D',\n",
       " 'MaxPooling3D',\n",
       " 'Maximum',\n",
       " 'MaxoutDense',\n",
       " 'Merge',\n",
       " 'Minimum',\n",
       " 'Model',\n",
       " 'Multiply',\n",
       " 'PReLU',\n",
       " 'Permute',\n",
       " 'RNN',\n",
       " 'Recurrent',\n",
       " 'RepeatVector',\n",
       " 'Reshape',\n",
       " 'SeparableConv2D',\n",
       " 'SeparableConvolution2D',\n",
       " 'Sequential',\n",
       " 'SimpleRNN',\n",
       " 'SimpleRNNCell',\n",
       " 'SpatialDropout1D',\n",
       " 'SpatialDropout2D',\n",
       " 'SpatialDropout3D',\n",
       " 'StackedRNNCells',\n",
       " 'Subtract',\n",
       " 'ThresholdedReLU',\n",
       " 'TimeDistributed',\n",
       " 'UpSampling1D',\n",
       " 'UpSampling2D',\n",
       " 'UpSampling3D',\n",
       " 'Wrapper',\n",
       " 'ZeroPadding1D',\n",
       " 'ZeroPadding2D',\n",
       " 'ZeroPadding3D']"
      ]
     },
     "execution_count": 56,
     "metadata": {},
     "output_type": "execute_result"
    }
   ],
   "source": [
    "[c for c in dir(keras.layers) if c[0].isupper()]"
   ]
  },
  {
   "cell_type": "markdown",
   "metadata": {
    "slideshow": {
     "slide_type": "slide"
    }
   },
   "source": [
    "# Следващият път:\n",
    "    * Unsupervised NN:\n",
    "    * Autoencoders\n",
    "    * Word Embeddings"
   ]
  },
  {
   "cell_type": "markdown",
   "metadata": {
    "slideshow": {
     "slide_type": "slide"
    }
   },
   "source": [
    "Ако има останало време, ще погледнем документацията на [керас](https://keras.io/)."
   ]
  }
 ],
 "metadata": {
  "celltoolbar": "Slideshow",
  "kernelspec": {
   "display_name": "Python 3",
   "language": "python",
   "name": "python3"
  },
  "language_info": {
   "codemirror_mode": {
    "name": "ipython",
    "version": 3
   },
   "file_extension": ".py",
   "mimetype": "text/x-python",
   "name": "python",
   "nbconvert_exporter": "python",
   "pygments_lexer": "ipython3",
   "version": "3.6.2"
  }
 },
 "nbformat": 4,
 "nbformat_minor": 2
}
