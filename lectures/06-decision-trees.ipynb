{
 "cells": [
  {
   "cell_type": "markdown",
   "metadata": {
    "slideshow": {
     "slide_type": "slide"
    }
   },
   "source": [
    "## Класификационни и регресионни дървета"
   ]
  },
  {
   "cell_type": "code",
   "execution_count": 1,
   "metadata": {
    "slideshow": {
     "slide_type": "skip"
    }
   },
   "outputs": [],
   "source": [
    "from sklearn.datasets import make_classification\n",
    "from sklearn.tree import DecisionTreeClassifier\n",
    "from sklearn import tree\n",
    "from sklearn.model_selection import cross_val_score\n",
    "\n",
    "import matplotlib.pyplot as plt\n",
    "import seaborn as sns\n",
    "import numpy as np\n",
    "\n",
    "%matplotlib inline"
   ]
  },
  {
   "cell_type": "markdown",
   "metadata": {
    "slideshow": {
     "slide_type": "slide"
    }
   },
   "source": [
    "Днес: decision trees\n",
    "\n",
    "Преди това: да си припомним малко от предния път."
   ]
  },
  {
   "cell_type": "markdown",
   "metadata": {
    "slideshow": {
     "slide_type": "subslide"
    }
   },
   "source": [
    "# NumPy и векторизация\n",
    "\n",
    "Повечето операции в NumPy работят с така наречената векторизация. Това по-лесно се илюстрира с пример:"
   ]
  },
  {
   "cell_type": "code",
   "execution_count": 2,
   "metadata": {
    "slideshow": {
     "slide_type": "subslide"
    }
   },
   "outputs": [
    {
     "data": {
      "text/plain": [
       "array([ 5, 10, 15, 20])"
      ]
     },
     "execution_count": 2,
     "metadata": {},
     "output_type": "execute_result"
    }
   ],
   "source": [
    "np.array([1, 2, 3, 4]) * 5"
   ]
  },
  {
   "cell_type": "code",
   "execution_count": 3,
   "metadata": {
    "slideshow": {
     "slide_type": "subslide"
    }
   },
   "outputs": [
    {
     "data": {
      "text/plain": [
       "array([ 3,  8, 15])"
      ]
     },
     "execution_count": 3,
     "metadata": {},
     "output_type": "execute_result"
    }
   ],
   "source": [
    "np.array([1, 2, 3]) * np.array([3, 4, 5])"
   ]
  },
  {
   "cell_type": "code",
   "execution_count": 4,
   "metadata": {
    "slideshow": {
     "slide_type": "subslide"
    }
   },
   "outputs": [
    {
     "data": {
      "text/plain": [
       "array([ True, False, False, False,  True, False], dtype=bool)"
      ]
     },
     "execution_count": 4,
     "metadata": {},
     "output_type": "execute_result"
    }
   ],
   "source": [
    "np.array([8, 3, 4, 1, 9, 4]) > 4"
   ]
  },
  {
   "cell_type": "code",
   "execution_count": 5,
   "metadata": {
    "slideshow": {
     "slide_type": "subslide"
    }
   },
   "outputs": [
    {
     "data": {
      "text/plain": [
       "array([ 1.,  0.,  0.,  0.,  1.,  0.])"
      ]
     },
     "execution_count": 5,
     "metadata": {},
     "output_type": "execute_result"
    }
   ],
   "source": [
    "(np.array([8, 3, 4, 1, 9, 4]) > 4).astype(float)"
   ]
  },
  {
   "cell_type": "code",
   "execution_count": 6,
   "metadata": {
    "slideshow": {
     "slide_type": "subslide"
    }
   },
   "outputs": [
    {
     "data": {
      "text/plain": [
       "array([20, 10, 30, 10, 20])"
      ]
     },
     "execution_count": 6,
     "metadata": {},
     "output_type": "execute_result"
    }
   ],
   "source": [
    "np.array([10, 20, 30])[np.array([1, 0, 2, 0, 1])]"
   ]
  },
  {
   "cell_type": "markdown",
   "metadata": {
    "slideshow": {
     "slide_type": "subslide"
    }
   },
   "source": [
    "# LabelEncoder\n",
    "\n",
    "Ако има категорийни данни (например низове), може да ползваме `LabelEncoder` да ги заменим с числа:"
   ]
  },
  {
   "cell_type": "code",
   "execution_count": 7,
   "metadata": {
    "slideshow": {
     "slide_type": "subslide"
    }
   },
   "outputs": [
    {
     "name": "stdout",
     "output_type": "stream",
     "text": [
      "transofrmed: [1 1 0]\n",
      "inverse:     ['blue' 'green' 'red']\n"
     ]
    }
   ],
   "source": [
    "from sklearn.preprocessing import LabelEncoder\n",
    "\n",
    "encoder = LabelEncoder()\n",
    "encoder.fit([\"red\", \"green\", \"red\", \"blue\", \"red\", \"green\"])\n",
    "\n",
    "colors = [\"green\", \"green\", \"blue\"]\n",
    "\n",
    "print(\"transofrmed:\", encoder.transform([\"green\", \"green\", \"blue\"])) \n",
    "print(\"inverse:    \", encoder.inverse_transform([0, 1, 2]))"
   ]
  },
  {
   "cell_type": "markdown",
   "metadata": {
    "slideshow": {
     "slide_type": "subslide"
    }
   },
   "source": [
    "# OneHotEncoder\n",
    "\n",
    "Може да кодираме категории с label encoder, когато в категориите има някакъв естествен ред (напр. 4 е по-голямо от 2). Ако няма такъв ред обаче, на най-добре е да ползваме one-hot – така създаваме по един фийчър за всяка категория, който има стойности 0 или 1."
   ]
  },
  {
   "cell_type": "code",
   "execution_count": 8,
   "metadata": {
    "slideshow": {
     "slide_type": "subslide"
    }
   },
   "outputs": [
    {
     "name": "stdout",
     "output_type": "stream",
     "text": [
      "[[ 1.  0.  0.]\n",
      " [ 0.  1.  0.]\n",
      " [ 0.  1.  0.]\n",
      " [ 0.  0.  1.]\n",
      " [ 1.  0.  0.]]\n"
     ]
    }
   ],
   "source": [
    "from sklearn.preprocessing import OneHotEncoder\n",
    "\n",
    "encoder = OneHotEncoder()\n",
    "\n",
    "encoder.fit([[0], \n",
    "             [1], \n",
    "             [0], \n",
    "             [2]])\n",
    "\n",
    "print(encoder.transform([[0], [1], [1], [2], [0]]).toarray())"
   ]
  },
  {
   "cell_type": "markdown",
   "metadata": {
    "slideshow": {
     "slide_type": "subslide"
    }
   },
   "source": [
    "Но да се върнем към днешната тема!"
   ]
  },
  {
   "cell_type": "code",
   "execution_count": 9,
   "metadata": {
    "slideshow": {
     "slide_type": "slide"
    }
   },
   "outputs": [],
   "source": [
    "x, y = make_classification(n_samples=100,\n",
    "                           n_features=2,\n",
    "                           n_redundant=0, \n",
    "                           n_clusters_per_class=2, \n",
    "                           random_state=123)"
   ]
  },
  {
   "cell_type": "code",
   "execution_count": 10,
   "metadata": {
    "slideshow": {
     "slide_type": "slide"
    }
   },
   "outputs": [
    {
     "name": "stdout",
     "output_type": "stream",
     "text": [
      "[[-0.01032243 -0.80566819]\n",
      " [-1.10293659  2.21661117]\n",
      " [-1.90795358 -0.20839902]\n",
      " [ 0.53115524  2.2762704 ]]\n",
      "[1 0 0 1]\n"
     ]
    }
   ],
   "source": [
    "print(x[:4])\n",
    "print(y[:4])"
   ]
  },
  {
   "cell_type": "code",
   "execution_count": 11,
   "metadata": {
    "slideshow": {
     "slide_type": "slide"
    }
   },
   "outputs": [
    {
     "data": {
      "image/png": "[encoded data removed]",
      "text/plain": [
       "<matplotlib.figure.Figure at 0x111f13c88>"
      ]
     },
     "metadata": {},
     "output_type": "display_data"
    }
   ],
   "source": [
    "plt.scatter(x[:,0], x[:,1], c=y);"
   ]
  },
  {
   "cell_type": "code",
   "execution_count": 12,
   "metadata": {
    "slideshow": {
     "slide_type": "skip"
    }
   },
   "outputs": [],
   "source": [
    "# Plotting decision regions adapted from \n",
    "# http://scikit-learn.org/stable/auto_examples/ensemble/plot_voting_decision_regions.html\n",
    "\n",
    "def plot_boundary(clf, X, y):\n",
    "    x_min, x_max = X[:, 0].min() - 1, X[:, 0].max() + 1\n",
    "    y_min, y_max = X[:, 1].min() - 1, X[:, 1].max() + 1\n",
    "    xx, yy = np.meshgrid(np.arange(x_min, x_max, 0.1),\n",
    "                         np.arange(y_min, y_max, 0.1))\n",
    "\n",
    "    f, ax = plt.subplots(figsize=(10, 8))\n",
    "\n",
    "    Z = clf.predict(np.c_[xx.ravel(), yy.ravel()])\n",
    "    Z = Z.reshape(xx.shape)\n",
    "\n",
    "    ax.contourf(xx, yy, Z, alpha=0.4)\n",
    "    ax.scatter(X[:, 0], X[:, 1], c=y, s=20, edgecolor='k')\n",
    "    \n",
    "    plt.show()"
   ]
  },
  {
   "cell_type": "code",
   "execution_count": 13,
   "metadata": {
    "slideshow": {
     "slide_type": "slide"
    }
   },
   "outputs": [
    {
     "name": "stdout",
     "output_type": "stream",
     "text": [
      "1.0\n",
      "[ 0.95238095  0.95238095  0.95        0.68421053  1.        ]\n",
      "0.907794486216\n"
     ]
    }
   ],
   "source": [
    "clf = DecisionTreeClassifier().fit(x,y)\n",
    "print(clf.score(x, y))\n",
    "\n",
    "scores = cross_val_score(clf, x, y, cv=5)\n",
    "print(scores)\n",
    "print(scores.mean())"
   ]
  },
  {
   "cell_type": "markdown",
   "metadata": {
    "slideshow": {
     "slide_type": "slide"
    }
   },
   "source": [
    "### Как се учи алгоритъмът?"
   ]
  },
  {
   "cell_type": "code",
   "execution_count": 14,
   "metadata": {
    "slideshow": {
     "slide_type": "slide"
    }
   },
   "outputs": [
    {
     "data": {
      "image/png": "[encoded data removed]",
      "text/plain": [
       "<matplotlib.figure.Figure at 0x111f32eb8>"
      ]
     },
     "metadata": {},
     "output_type": "display_data"
    }
   ],
   "source": [
    "clf = DecisionTreeClassifier().fit(x, y)\n",
    "plot_boundary(clf, x, y)"
   ]
  },
  {
   "cell_type": "code",
   "execution_count": 15,
   "metadata": {
    "slideshow": {
     "slide_type": "slide"
    }
   },
   "outputs": [
    {
     "data": {
      "image/png": "[encoded data removed]",
      "text/plain": [
       "<matplotlib.figure.Figure at 0x11204fac8>"
      ]
     },
     "metadata": {},
     "output_type": "display_data"
    }
   ],
   "source": [
    "clf = DecisionTreeClassifier(min_samples_split=50).fit(x, y)\n",
    "plot_boundary(clf, x, y)"
   ]
  },
  {
   "cell_type": "code",
   "execution_count": 16,
   "metadata": {
    "slideshow": {
     "slide_type": "slide"
    }
   },
   "outputs": [],
   "source": [
    "import graphviz \n",
    "dot_data = tree.export_graphviz(clf, out_file=None) \n",
    "graph = graphviz.Source(dot_data) \n",
    "graph.render(\"tree\") \n",
    "\n",
    "dot_data = tree.export_graphviz(clf, out_file=None, \n",
    "                         feature_names=np.array(['X_0 Vertical', 'X_1 Horizontal']),  \n",
    "                         class_names=np.array(['Class_0', 'Class_1']),  \n",
    "                         filled=True, rounded=True,  \n",
    "                         special_characters=True)\n",
    "\n",
    "graph = graphviz.Source(dot_data) "
   ]
  },
  {
   "cell_type": "code",
   "execution_count": 17,
   "metadata": {
    "slideshow": {
     "slide_type": "slide"
    }
   },
   "outputs": [
    {
     "data": {
      "image/svg+xml": [
       "<?xml version=\"1.0\" encoding=\"UTF-8\" standalone=\"no\"?>\n",
       "<!DOCTYPE svg PUBLIC \"-//W3C//DTD SVG 1.1//EN\"\n",
       " \"http://www.w3.org/Graphics/SVG/1.1/DTD/svg11.dtd\">\n",
       "<!-- Generated by graphviz version 2.38.0 (20140413.2041)\n",
       " -->\n",
       "<!-- Title: Tree Pages: 1 -->\n",
       "<svg width=\"345pt\" height=\"300pt\"\n",
       " viewBox=\"0.00 0.00 345.43 300.00\" xmlns=\"http://www.w3.org/2000/svg\" xmlns:xlink=\"http://www.w3.org/1999/xlink\">\n",
       "<g id=\"graph0\" class=\"graph\" transform=\"scale(1 1) rotate(0) translate(4 296)\">\n",
       "<title>Tree</title>\n",
       "<polygon fill=\"white\" stroke=\"none\" points=\"-4,4 -4,-296 341.431,-296 341.431,4 -4,4\"/>\n",
       "<!-- 0 -->\n",
       "<g id=\"node1\" class=\"node\"><title>0</title>\n",
       "<path fill=\"#399de5\" fill-opacity=\"0.078431\" stroke=\"black\" d=\"M196.091,-292C196.091,-292 74.3393,-292 74.3393,-292 68.3393,-292 62.3393,-286 62.3393,-280 62.3393,-280 62.3393,-226 62.3393,-226 62.3393,-220 68.3393,-214 74.3393,-214 74.3393,-214 196.091,-214 196.091,-214 202.091,-214 208.091,-220 208.091,-226 208.091,-226 208.091,-280 208.091,-280 208.091,-286 202.091,-292 196.091,-292\"/>\n",
       "<text text-anchor=\"start\" x=\"70.2773\" y=\"-276.8\" font-family=\"Helvetica,sans-Serif\" font-size=\"14.00\">X_0 Vertical ≤ &#45;0.516</text>\n",
       "<text text-anchor=\"start\" x=\"98.8242\" y=\"-262.8\" font-family=\"Helvetica,sans-Serif\" font-size=\"14.00\">gini = 0.499</text>\n",
       "<text text-anchor=\"start\" x=\"89.4932\" y=\"-248.8\" font-family=\"Helvetica,sans-Serif\" font-size=\"14.00\">samples = 100</text>\n",
       "<text text-anchor=\"start\" x=\"87.1519\" y=\"-234.8\" font-family=\"Helvetica,sans-Serif\" font-size=\"14.00\">value = [48, 52]</text>\n",
       "<text text-anchor=\"start\" x=\"86\" y=\"-220.8\" font-family=\"Helvetica,sans-Serif\" font-size=\"14.00\">class = Class_1</text>\n",
       "</g>\n",
       "<!-- 1 -->\n",
       "<g id=\"node2\" class=\"node\"><title>1</title>\n",
       "<path fill=\"#e58139\" fill-opacity=\"0.921569\" stroke=\"black\" d=\"M102.647,-171C102.647,-171 11.7839,-171 11.7839,-171 5.78385,-171 -0.216146,-165 -0.216146,-159 -0.216146,-159 -0.216146,-119 -0.216146,-119 -0.216146,-113 5.78385,-107 11.7839,-107 11.7839,-107 102.647,-107 102.647,-107 108.647,-107 114.647,-113 114.647,-119 114.647,-119 114.647,-159 114.647,-159 114.647,-165 108.647,-171 102.647,-171\"/>\n",
       "<text text-anchor=\"start\" x=\"20.8242\" y=\"-155.8\" font-family=\"Helvetica,sans-Serif\" font-size=\"14.00\">gini = 0.133</text>\n",
       "<text text-anchor=\"start\" x=\"15.3862\" y=\"-141.8\" font-family=\"Helvetica,sans-Serif\" font-size=\"14.00\">samples = 42</text>\n",
       "<text text-anchor=\"start\" x=\"13.0449\" y=\"-127.8\" font-family=\"Helvetica,sans-Serif\" font-size=\"14.00\">value = [39, 3]</text>\n",
       "<text text-anchor=\"start\" x=\"8\" y=\"-113.8\" font-family=\"Helvetica,sans-Serif\" font-size=\"14.00\">class = Class_0</text>\n",
       "</g>\n",
       "<!-- 0&#45;&gt;1 -->\n",
       "<g id=\"edge1\" class=\"edge\"><title>0&#45;&gt;1</title>\n",
       "<path fill=\"none\" stroke=\"black\" d=\"M108.59,-213.769C100.853,-202.66 92.3913,-190.509 84.608,-179.333\"/>\n",
       "<polygon fill=\"black\" stroke=\"black\" points=\"87.3987,-177.216 78.8116,-171.01 81.6545,-181.216 87.3987,-177.216\"/>\n",
       "<text text-anchor=\"middle\" x=\"74.4079\" y=\"-191.419\" font-family=\"Helvetica,sans-Serif\" font-size=\"14.00\">True</text>\n",
       "</g>\n",
       "<!-- 2 -->\n",
       "<g id=\"node3\" class=\"node\"><title>2</title>\n",
       "<path fill=\"#399de5\" fill-opacity=\"0.815686\" stroke=\"black\" d=\"M283.702,-178C283.702,-178 144.729,-178 144.729,-178 138.729,-178 132.729,-172 132.729,-166 132.729,-166 132.729,-112 132.729,-112 132.729,-106 138.729,-100 144.729,-100 144.729,-100 283.702,-100 283.702,-100 289.702,-100 295.702,-106 295.702,-112 295.702,-112 295.702,-166 295.702,-166 295.702,-172 289.702,-178 283.702,-178\"/>\n",
       "<text text-anchor=\"start\" x=\"140.722\" y=\"-162.8\" font-family=\"Helvetica,sans-Serif\" font-size=\"14.00\">X_1 Horizontal ≤ &#45;1.601</text>\n",
       "<text text-anchor=\"start\" x=\"177.824\" y=\"-148.8\" font-family=\"Helvetica,sans-Serif\" font-size=\"14.00\">gini = 0.262</text>\n",
       "<text text-anchor=\"start\" x=\"172.386\" y=\"-134.8\" font-family=\"Helvetica,sans-Serif\" font-size=\"14.00\">samples = 58</text>\n",
       "<text text-anchor=\"start\" x=\"170.045\" y=\"-120.8\" font-family=\"Helvetica,sans-Serif\" font-size=\"14.00\">value = [9, 49]</text>\n",
       "<text text-anchor=\"start\" x=\"165\" y=\"-106.8\" font-family=\"Helvetica,sans-Serif\" font-size=\"14.00\">class = Class_1</text>\n",
       "</g>\n",
       "<!-- 0&#45;&gt;2 -->\n",
       "<g id=\"edge2\" class=\"edge\"><title>0&#45;&gt;2</title>\n",
       "<path fill=\"none\" stroke=\"black\" d=\"M162.182,-213.769C168.41,-204.939 175.102,-195.451 181.545,-186.318\"/>\n",
       "<polygon fill=\"black\" stroke=\"black\" points=\"184.467,-188.248 187.371,-178.058 178.746,-184.213 184.467,-188.248\"/>\n",
       "<text text-anchor=\"middle\" x=\"191.627\" y=\"-198.494\" font-family=\"Helvetica,sans-Serif\" font-size=\"14.00\">False</text>\n",
       "</g>\n",
       "<!-- 3 -->\n",
       "<g id=\"node4\" class=\"node\"><title>3</title>\n",
       "<path fill=\"#e58139\" fill-opacity=\"0.666667\" stroke=\"black\" d=\"M193.647,-64C193.647,-64 102.784,-64 102.784,-64 96.7839,-64 90.7839,-58 90.7839,-52 90.7839,-52 90.7839,-12 90.7839,-12 90.7839,-6 96.7839,-0 102.784,-0 102.784,-0 193.647,-0 193.647,-0 199.647,-0 205.647,-6 205.647,-12 205.647,-12 205.647,-52 205.647,-52 205.647,-58 199.647,-64 193.647,-64\"/>\n",
       "<text text-anchor=\"start\" x=\"111.824\" y=\"-48.8\" font-family=\"Helvetica,sans-Serif\" font-size=\"14.00\">gini = 0.375</text>\n",
       "<text text-anchor=\"start\" x=\"106.386\" y=\"-34.8\" font-family=\"Helvetica,sans-Serif\" font-size=\"14.00\">samples = 12</text>\n",
       "<text text-anchor=\"start\" x=\"107.938\" y=\"-20.8\" font-family=\"Helvetica,sans-Serif\" font-size=\"14.00\">value = [9, 3]</text>\n",
       "<text text-anchor=\"start\" x=\"99\" y=\"-6.8\" font-family=\"Helvetica,sans-Serif\" font-size=\"14.00\">class = Class_0</text>\n",
       "</g>\n",
       "<!-- 2&#45;&gt;3 -->\n",
       "<g id=\"edge3\" class=\"edge\"><title>2&#45;&gt;3</title>\n",
       "<path fill=\"none\" stroke=\"black\" d=\"M190.201,-99.7956C184.672,-91 178.78,-81.625 173.21,-72.765\"/>\n",
       "<polygon fill=\"black\" stroke=\"black\" points=\"176.06,-70.7209 167.775,-64.1172 170.133,-74.4462 176.06,-70.7209\"/>\n",
       "</g>\n",
       "<!-- 4 -->\n",
       "<g id=\"node5\" class=\"node\"><title>4</title>\n",
       "<path fill=\"#399de5\" stroke=\"black\" d=\"M325.647,-64C325.647,-64 234.784,-64 234.784,-64 228.784,-64 222.784,-58 222.784,-52 222.784,-52 222.784,-12 222.784,-12 222.784,-6 228.784,-0 234.784,-0 234.784,-0 325.647,-0 325.647,-0 331.647,-0 337.647,-6 337.647,-12 337.647,-12 337.647,-52 337.647,-52 337.647,-58 331.647,-64 325.647,-64\"/>\n",
       "<text text-anchor=\"start\" x=\"251.61\" y=\"-48.8\" font-family=\"Helvetica,sans-Serif\" font-size=\"14.00\">gini = 0.0</text>\n",
       "<text text-anchor=\"start\" x=\"238.386\" y=\"-34.8\" font-family=\"Helvetica,sans-Serif\" font-size=\"14.00\">samples = 46</text>\n",
       "<text text-anchor=\"start\" x=\"236.045\" y=\"-20.8\" font-family=\"Helvetica,sans-Serif\" font-size=\"14.00\">value = [0, 46]</text>\n",
       "<text text-anchor=\"start\" x=\"231\" y=\"-6.8\" font-family=\"Helvetica,sans-Serif\" font-size=\"14.00\">class = Class_1</text>\n",
       "</g>\n",
       "<!-- 2&#45;&gt;4 -->\n",
       "<g id=\"edge4\" class=\"edge\"><title>2&#45;&gt;4</title>\n",
       "<path fill=\"none\" stroke=\"black\" d=\"M238.23,-99.7956C243.758,-91 249.651,-81.625 255.22,-72.765\"/>\n",
       "<polygon fill=\"black\" stroke=\"black\" points=\"258.297,-74.4462 260.656,-64.1172 252.371,-70.7209 258.297,-74.4462\"/>\n",
       "</g>\n",
       "</g>\n",
       "</svg>\n"
      ],
      "text/plain": [
       "<graphviz.files.Source at 0x11228bfd0>"
      ]
     },
     "execution_count": 17,
     "metadata": {},
     "output_type": "execute_result"
    }
   ],
   "source": [
    "graph"
   ]
  },
  {
   "cell_type": "markdown",
   "metadata": {
    "slideshow": {
     "slide_type": "slide"
    }
   },
   "source": [
    "## В `sklearn` е имплементиран CART алгоритъм. \n",
    "\n",
    "### Classification and Regression Trees\n",
    "\n",
    "L. Breiman, J. Friedman, R. Olshen, and C. Stone. Classification and Regression Trees. Wadsworth, Belmont, CA, 1984\n",
    "\n",
    "http://scikit-learn.org/stable/modules/tree.html#tree"
   ]
  },
  {
   "cell_type": "markdown",
   "metadata": {
    "slideshow": {
     "slide_type": "slide"
    }
   },
   "source": [
    "### Моделът CART е двоично дърво. \n",
    "* Всеки елемент от дървото може да има нула, едно или две деца.\n",
    "\n",
    "### Алгоритъмът работи рекурсивно. \n",
    "\n",
    "### Критерии за спиране могат да бъдат:\n",
    "* Достигната е абсолютна чистота на елементите в дървото. (останали са само един клас данни в последните деца)\n",
    "* Достигната е максимална дълбочина на дървото. (max_depth)\n",
    "* Достигнат е минимален брой примери за разделяне. (min_samples_split)"
   ]
  },
  {
   "cell_type": "markdown",
   "metadata": {
    "slideshow": {
     "slide_type": "slide"
    }
   },
   "source": [
    "### Алгоритъмът е алчен (greedy):\n",
    "* Проверява всяка възможна колона (feature) за всички възможни раздвоявания и избира най-доброто.\n",
    "* Сложност при трениране: $O(n_{features}n_{samples}\\log(n_{samples}))$"
   ]
  },
  {
   "cell_type": "markdown",
   "metadata": {
    "slideshow": {
     "slide_type": "slide"
    }
   },
   "source": [
    "### Оценяваща функция:\n",
    "* Оценяващата функция работи, чрез Information Gain:\n",
    "$$ InformationGain = impurity(parent) - {WeightedAverageBySamplesCount}\\sum{impurity(children)}$$\n",
    "\n",
    "### Измерване на \"примеси\"(Impurity measures)\n",
    "\n",
    "#### Класификация:\n",
    "1. Ентропия (Entropy)\n",
    "2. Gini\n",
    "3. Неправилна класификация (Misclassification)\n",
    "\n",
    "#### Регресия:\n",
    "1. Средно аритметично от разликата на квадратите (Mean Squared Error)\n",
    "2. Средно аритметично от абсолютната стойност на разликата (Mean Absolute Error)"
   ]
  },
  {
   "cell_type": "markdown",
   "metadata": {
    "slideshow": {
     "slide_type": "slide"
    }
   },
   "source": [
    "### При предвиждане на нов запис, алгоритъмът се спуска по построеното дърво докато стигне възел без наследници.\n",
    "* Предвижда средната стойнoст от записите останали в последния елемент при регресия.\n",
    "* При класификация избира класа представен от мнозинството от записи останали в последния елемент.\n",
    "* Сложност при предвиждане: $O(\\log(n_{samples}))$"
   ]
  },
  {
   "cell_type": "markdown",
   "metadata": {
    "slideshow": {
     "slide_type": "slide"
    }
   },
   "source": [
    "## Измерване на примесите (impurity)"
   ]
  },
  {
   "cell_type": "markdown",
   "metadata": {
    "slideshow": {
     "slide_type": "slide"
    }
   },
   "source": [
    "### Ентропия\n",
    "\n",
    " $entropy = \\sum_i{ - p_i  log_2(  p_i )}$\n",
    " \n",
    " $p_i= \\frac{size of class_i}{size of set}$"
   ]
  },
  {
   "cell_type": "markdown",
   "metadata": {
    "slideshow": {
     "slide_type": "slide"
    }
   },
   "source": [
    "### Пример:\n",
    "\n",
    "['Лъчо', 'Лъчо', 'Стефан', Стефан']\n",
    "\n",
    "Лъчо - 2, Стефан - 2\n",
    "\n",
    "Пропорции:\n",
    "\n",
    "Лъчо: $\\frac{2}{4}$, Стефан: $\\frac{2}{4}$\n",
    "\n",
    "Стойност за Лъчо: \n",
    "$$-\\frac{2}{4} * log_2(\\frac{2}{4})$$\n",
    "$$-0.5 * -1$$\n",
    "$$0.5$$\n",
    "\n",
    "Стефан има същата стойност $0.5$.\n",
    "\n",
    "Ентропията на множеството е $$entropy=0.5+0.5 = 1.0$$\n"
   ]
  },
  {
   "cell_type": "markdown",
   "metadata": {
    "slideshow": {
     "slide_type": "slide"
    }
   },
   "source": [
    "### Пример 2:\n",
    "\n",
    "['Круши', 'Круши', 'Круши']\n",
    "\n",
    "Круши - 3\n",
    "\n",
    "Пропорции:\n",
    "\n",
    "Круши $\\frac{3}{3} = 1$\n",
    "\n",
    "$$-1 * log_2(1)$$\n",
    "$$-1 * 0$$\n",
    "$$entropy=0$$"
   ]
  },
  {
   "cell_type": "code",
   "execution_count": 18,
   "metadata": {
    "slideshow": {
     "slide_type": "slide"
    }
   },
   "outputs": [],
   "source": [
    "def entropy(subset_counts):\n",
    "    subset_counts = np.array(subset_counts)\n",
    "    subset_counts_normalized = subset_counts / subset_counts.sum()\n",
    "    \n",
    "    entropy = sum([-subset_count * np.log2(subset_count +0.000000000001) \n",
    "                   for subset_count in subset_counts_normalized])\n",
    "    \n",
    "    entropy = np.round(entropy, 4)\n",
    "    print('Entropy for', subset_counts, \" is:\", entropy)\n",
    "    return entropy"
   ]
  },
  {
   "cell_type": "code",
   "execution_count": 19,
   "metadata": {
    "slideshow": {
     "slide_type": "slide"
    }
   },
   "outputs": [
    {
     "name": "stdout",
     "output_type": "stream",
     "text": [
      "Entropy for [2 0]  is: -0.0\n",
      "Entropy for [1 0]  is: -0.0\n",
      "Entropy for [9 1]  is: 0.469\n",
      "Entropy for [4 4]  is: 1.0\n"
     ]
    }
   ],
   "source": [
    "samples = [[2,0], [1,0], [9,1], [4,4]]\n",
    "\n",
    "for sample in samples:\n",
    "    entropy(sample)"
   ]
  },
  {
   "cell_type": "code",
   "execution_count": 20,
   "metadata": {
    "slideshow": {
     "slide_type": "slide"
    }
   },
   "outputs": [
    {
     "name": "stdout",
     "output_type": "stream",
     "text": [
      "Entropy for [2 0 1]  is: 0.9183\n",
      "Entropy for [6 0 0]  is: -0.0\n",
      "Entropy for [9 1 0]  is: 0.469\n",
      "Entropy for [5 5 0]  is: 1.0\n",
      "Entropy for [5 5 5]  is: 1.585\n"
     ]
    }
   ],
   "source": [
    "samples = [[2,0,1], [6,0,0], [9,1,0], [5,5,0], [5,5,5]]\n",
    "\n",
    "for sample in samples:\n",
    "    entropy(sample)"
   ]
  },
  {
   "cell_type": "markdown",
   "metadata": {
    "slideshow": {
     "slide_type": "slide"
    }
   },
   "source": [
    "## Gini\n",
    "\n",
    "$H(X_m) = \\sum_k p_{mk} (1 - p_{mk})$"
   ]
  },
  {
   "cell_type": "markdown",
   "metadata": {
    "slideshow": {
     "slide_type": "slide"
    }
   },
   "source": [
    "### Пример:\n",
    "\n",
    "['Лъчо', 'Лъчо', 'Стефан', Стефан']\n",
    "\n",
    "Лъчо - 2, Стефан - 2\n",
    "\n",
    "Пропорции:\n",
    "\n",
    "Лъчо: $\\frac{2}{4}$, Стефан: $\\frac{2}{4}$\n",
    "\n",
    "Стойност за Лъчо: \n",
    "$$-\\frac{2}{4} * (1 - \\frac{2}{4})$$\n",
    "$$-0.5 * -0.5$$\n",
    "$$0.25$$\n",
    "\n",
    "Стефан има същата стойност $0.25$.\n",
    "\n",
    "$$gini=0.25+0.25 = 0.5$$\n"
   ]
  },
  {
   "cell_type": "markdown",
   "metadata": {
    "slideshow": {
     "slide_type": "slide"
    }
   },
   "source": [
    "### Пример 2:\n",
    "\n",
    "['Круши', 'Круши', 'Круши']\n",
    "\n",
    "Круши - 3\n",
    "\n",
    "Пропорции:\n",
    "\n",
    "Круши $\\frac{3}{3} = 1$\n",
    "\n",
    "$$1 * (1 - 1)$$\n",
    "$$1 * 0$$\n",
    "$$gini=0$$"
   ]
  },
  {
   "cell_type": "code",
   "execution_count": 21,
   "metadata": {
    "slideshow": {
     "slide_type": "slide"
    }
   },
   "outputs": [],
   "source": [
    "def gini_impurity(subset_counts):\n",
    "    subset_counts = np.array(subset_counts)\n",
    "    subset_counts_normalized = subset_counts / subset_counts.sum()\n",
    "    \n",
    "    impurity = sum([subset_count * (1 - subset_count) \n",
    "                    for subset_count in subset_counts_normalized])\n",
    "    \n",
    "    print('Gini impurity for', subset_counts, \" is:\", impurity)\n",
    "    return impurity"
   ]
  },
  {
   "cell_type": "code",
   "execution_count": 22,
   "metadata": {
    "slideshow": {
     "slide_type": "slide"
    }
   },
   "outputs": [
    {
     "name": "stdout",
     "output_type": "stream",
     "text": [
      "Gini impurity for [2 0]  is: 0.0\n",
      "Gini impurity for [1 0]  is: 0.0\n",
      "Gini impurity for [9 1]  is: 0.18\n",
      "Gini impurity for [4 4]  is: 0.5\n"
     ]
    }
   ],
   "source": [
    "samples = [[2,0], [1,0], [9,1], [4,4]]\n",
    "\n",
    "for sample in samples:\n",
    "    gini_impurity(sample)"
   ]
  },
  {
   "cell_type": "code",
   "execution_count": 23,
   "metadata": {
    "slideshow": {
     "slide_type": "slide"
    }
   },
   "outputs": [
    {
     "name": "stdout",
     "output_type": "stream",
     "text": [
      "Gini impurity for [2 0 1]  is: 0.444444444444\n",
      "Gini impurity for [6 0 0]  is: 0.0\n",
      "Gini impurity for [9 1 0]  is: 0.18\n",
      "Gini impurity for [5 5 0]  is: 0.5\n",
      "Gini impurity for [5 5 5]  is: 0.666666666667\n"
     ]
    }
   ],
   "source": [
    "samples = [[2,0,1], [6,0,0], [9,1,0], [5,5,0], [5,5,5]]\n",
    "\n",
    "for sample in samples:\n",
    "    gini_impurity(sample)"
   ]
  },
  {
   "cell_type": "markdown",
   "metadata": {
    "slideshow": {
     "slide_type": "slide"
    }
   },
   "source": [
    "## Неправилна класификация (Misclassification)\n",
    "\n",
    "$H(X_m) = 1 - \\max(p_{mk})$\n"
   ]
  },
  {
   "cell_type": "code",
   "execution_count": 24,
   "metadata": {
    "slideshow": {
     "slide_type": "slide"
    }
   },
   "outputs": [],
   "source": [
    "def missclassification_impurity(subset_counts):\n",
    "    subset_counts = np.array(subset_counts)\n",
    "    subset_counts_normalized = subset_counts / subset_counts.sum()\n",
    "    \n",
    "    impurity = 1 - max(subset_counts_normalized)\n",
    "    \n",
    "    print('Misclassification impurity for', subset_counts, \" is:\", impurity)\n",
    "    return impurity"
   ]
  },
  {
   "cell_type": "code",
   "execution_count": 25,
   "metadata": {
    "slideshow": {
     "slide_type": "slide"
    }
   },
   "outputs": [
    {
     "name": "stdout",
     "output_type": "stream",
     "text": [
      "Misclassification impurity for [2 0]  is: 0.0\n",
      "Misclassification impurity for [1 0]  is: 0.0\n",
      "Misclassification impurity for [9 1]  is: 0.1\n",
      "Misclassification impurity for [4 4]  is: 0.5\n"
     ]
    }
   ],
   "source": [
    "samples = [[2,0], [1,0], [9,1], [4,4]]\n",
    "\n",
    "for sample in samples:\n",
    "    missclassification_impurity(sample)"
   ]
  },
  {
   "cell_type": "code",
   "execution_count": 26,
   "metadata": {
    "slideshow": {
     "slide_type": "slide"
    }
   },
   "outputs": [
    {
     "name": "stdout",
     "output_type": "stream",
     "text": [
      "Misclassification impurity for [2 0 1]  is: 0.333333333333\n",
      "Misclassification impurity for [6 0 0]  is: 0.0\n",
      "Misclassification impurity for [9 1 0]  is: 0.1\n",
      "Misclassification impurity for [5 5 0]  is: 0.5\n",
      "Misclassification impurity for [5 5 5]  is: 0.666666666667\n"
     ]
    }
   ],
   "source": [
    "samples = [[2,0,1], [6,0,0], [9,1,0], [5,5,0], [5,5,5]]\n",
    "\n",
    "for sample in samples:\n",
    "    missclassification_impurity(sample)"
   ]
  },
  {
   "cell_type": "markdown",
   "metadata": {
    "slideshow": {
     "slide_type": "slide"
    }
   },
   "source": [
    "## Information Gain\n",
    "\n",
    "$ InformationGain = impurity(parent) - {WeightedAverageBySamplesCount}\\sum{impurity(children)}$\n"
   ]
  },
  {
   "cell_type": "code",
   "execution_count": 27,
   "metadata": {
    "slideshow": {
     "slide_type": "slide"
    }
   },
   "outputs": [],
   "source": [
    "def information_gain(subsets, parent_entropy=1, f=entropy):\n",
    "    total_count = sum([sum(i) for i in subsets])\n",
    "    print(\"total count:\", total_count)\n",
    "    subsets_impurity = sum((sum(subset) / total_count * f(subset) for subset in subsets))\n",
    "    IG = parent_entropy - subsets_impurity\n",
    "    print(\"Information gain:\", IG)\n",
    "    return IG"
   ]
  },
  {
   "cell_type": "code",
   "execution_count": 28,
   "metadata": {
    "slideshow": {
     "slide_type": "slide"
    }
   },
   "outputs": [
    {
     "name": "stdout",
     "output_type": "stream",
     "text": [
      "total count: 4\n",
      "Entropy for [2 1]  is: 0.9183\n",
      "Entropy for [1]  is: -0.0\n",
      "Information gain: 0.311275\n",
      "\n",
      "total count: 4\n",
      "Gini impurity for [2 1]  is: 0.444444444444\n",
      "Gini impurity for [1]  is: 0.0\n",
      "Information gain: 0.666666666667\n",
      "\n",
      "total count: 4\n",
      "Misclassification impurity for [2 1]  is: 0.333333333333\n",
      "Misclassification impurity for [1]  is: 0.0\n",
      "Information gain: 0.75\n",
      "\n"
     ]
    }
   ],
   "source": [
    "subsets = [[2,1], [1]]\n",
    "for f in [entropy, gini_impurity, missclassification_impurity]:\n",
    "    information_gain(subsets, parent_entropy=1, f=f); \n",
    "    print();"
   ]
  },
  {
   "cell_type": "code",
   "execution_count": 29,
   "metadata": {
    "slideshow": {
     "slide_type": "slide"
    }
   },
   "outputs": [
    {
     "name": "stdout",
     "output_type": "stream",
     "text": [
      "total count: 4\n",
      "Entropy for [2]  is: -0.0\n",
      "Entropy for [2]  is: -0.0\n",
      "Information gain: 1.0\n",
      "\n",
      "total count: 4\n",
      "Gini impurity for [2]  is: 0.0\n",
      "Gini impurity for [2]  is: 0.0\n",
      "Information gain: 1.0\n",
      "\n",
      "total count: 4\n",
      "Misclassification impurity for [2]  is: 0.0\n",
      "Misclassification impurity for [2]  is: 0.0\n",
      "Information gain: 1.0\n",
      "\n"
     ]
    }
   ],
   "source": [
    "subsets = [[2], [2]]\n",
    "for f in [entropy, gini_impurity, missclassification_impurity]:\n",
    "    information_gain(subsets, parent_entropy=1, f=f); \n",
    "    print();"
   ]
  },
  {
   "cell_type": "code",
   "execution_count": 30,
   "metadata": {
    "slideshow": {
     "slide_type": "slide"
    }
   },
   "outputs": [
    {
     "data": {
      "image/svg+xml": [
       "<?xml version=\"1.0\" encoding=\"UTF-8\" standalone=\"no\"?>\n",
       "<!DOCTYPE svg PUBLIC \"-//W3C//DTD SVG 1.1//EN\"\n",
       " \"http://www.w3.org/Graphics/SVG/1.1/DTD/svg11.dtd\">\n",
       "<!-- Generated by graphviz version 2.38.0 (20140413.2041)\n",
       " -->\n",
       "<!-- Title: Tree Pages: 1 -->\n",
       "<svg width=\"345pt\" height=\"300pt\"\n",
       " viewBox=\"0.00 0.00 345.43 300.00\" xmlns=\"http://www.w3.org/2000/svg\" xmlns:xlink=\"http://www.w3.org/1999/xlink\">\n",
       "<g id=\"graph0\" class=\"graph\" transform=\"scale(1 1) rotate(0) translate(4 296)\">\n",
       "<title>Tree</title>\n",
       "<polygon fill=\"white\" stroke=\"none\" points=\"-4,4 -4,-296 341.431,-296 341.431,4 -4,4\"/>\n",
       "<!-- 0 -->\n",
       "<g id=\"node1\" class=\"node\"><title>0</title>\n",
       "<path fill=\"#399de5\" fill-opacity=\"0.078431\" stroke=\"black\" d=\"M196.091,-292C196.091,-292 74.3393,-292 74.3393,-292 68.3393,-292 62.3393,-286 62.3393,-280 62.3393,-280 62.3393,-226 62.3393,-226 62.3393,-220 68.3393,-214 74.3393,-214 74.3393,-214 196.091,-214 196.091,-214 202.091,-214 208.091,-220 208.091,-226 208.091,-226 208.091,-280 208.091,-280 208.091,-286 202.091,-292 196.091,-292\"/>\n",
       "<text text-anchor=\"start\" x=\"70.2773\" y=\"-276.8\" font-family=\"Helvetica,sans-Serif\" font-size=\"14.00\">X_0 Vertical ≤ &#45;0.516</text>\n",
       "<text text-anchor=\"start\" x=\"98.8242\" y=\"-262.8\" font-family=\"Helvetica,sans-Serif\" font-size=\"14.00\">gini = 0.499</text>\n",
       "<text text-anchor=\"start\" x=\"89.4932\" y=\"-248.8\" font-family=\"Helvetica,sans-Serif\" font-size=\"14.00\">samples = 100</text>\n",
       "<text text-anchor=\"start\" x=\"87.1519\" y=\"-234.8\" font-family=\"Helvetica,sans-Serif\" font-size=\"14.00\">value = [48, 52]</text>\n",
       "<text text-anchor=\"start\" x=\"86\" y=\"-220.8\" font-family=\"Helvetica,sans-Serif\" font-size=\"14.00\">class = Class_1</text>\n",
       "</g>\n",
       "<!-- 1 -->\n",
       "<g id=\"node2\" class=\"node\"><title>1</title>\n",
       "<path fill=\"#e58139\" fill-opacity=\"0.921569\" stroke=\"black\" d=\"M102.647,-171C102.647,-171 11.7839,-171 11.7839,-171 5.78385,-171 -0.216146,-165 -0.216146,-159 -0.216146,-159 -0.216146,-119 -0.216146,-119 -0.216146,-113 5.78385,-107 11.7839,-107 11.7839,-107 102.647,-107 102.647,-107 108.647,-107 114.647,-113 114.647,-119 114.647,-119 114.647,-159 114.647,-159 114.647,-165 108.647,-171 102.647,-171\"/>\n",
       "<text text-anchor=\"start\" x=\"20.8242\" y=\"-155.8\" font-family=\"Helvetica,sans-Serif\" font-size=\"14.00\">gini = 0.133</text>\n",
       "<text text-anchor=\"start\" x=\"15.3862\" y=\"-141.8\" font-family=\"Helvetica,sans-Serif\" font-size=\"14.00\">samples = 42</text>\n",
       "<text text-anchor=\"start\" x=\"13.0449\" y=\"-127.8\" font-family=\"Helvetica,sans-Serif\" font-size=\"14.00\">value = [39, 3]</text>\n",
       "<text text-anchor=\"start\" x=\"8\" y=\"-113.8\" font-family=\"Helvetica,sans-Serif\" font-size=\"14.00\">class = Class_0</text>\n",
       "</g>\n",
       "<!-- 0&#45;&gt;1 -->\n",
       "<g id=\"edge1\" class=\"edge\"><title>0&#45;&gt;1</title>\n",
       "<path fill=\"none\" stroke=\"black\" d=\"M108.59,-213.769C100.853,-202.66 92.3913,-190.509 84.608,-179.333\"/>\n",
       "<polygon fill=\"black\" stroke=\"black\" points=\"87.3987,-177.216 78.8116,-171.01 81.6545,-181.216 87.3987,-177.216\"/>\n",
       "<text text-anchor=\"middle\" x=\"74.4079\" y=\"-191.419\" font-family=\"Helvetica,sans-Serif\" font-size=\"14.00\">True</text>\n",
       "</g>\n",
       "<!-- 2 -->\n",
       "<g id=\"node3\" class=\"node\"><title>2</title>\n",
       "<path fill=\"#399de5\" fill-opacity=\"0.815686\" stroke=\"black\" d=\"M283.702,-178C283.702,-178 144.729,-178 144.729,-178 138.729,-178 132.729,-172 132.729,-166 132.729,-166 132.729,-112 132.729,-112 132.729,-106 138.729,-100 144.729,-100 144.729,-100 283.702,-100 283.702,-100 289.702,-100 295.702,-106 295.702,-112 295.702,-112 295.702,-166 295.702,-166 295.702,-172 289.702,-178 283.702,-178\"/>\n",
       "<text text-anchor=\"start\" x=\"140.722\" y=\"-162.8\" font-family=\"Helvetica,sans-Serif\" font-size=\"14.00\">X_1 Horizontal ≤ &#45;1.601</text>\n",
       "<text text-anchor=\"start\" x=\"177.824\" y=\"-148.8\" font-family=\"Helvetica,sans-Serif\" font-size=\"14.00\">gini = 0.262</text>\n",
       "<text text-anchor=\"start\" x=\"172.386\" y=\"-134.8\" font-family=\"Helvetica,sans-Serif\" font-size=\"14.00\">samples = 58</text>\n",
       "<text text-anchor=\"start\" x=\"170.045\" y=\"-120.8\" font-family=\"Helvetica,sans-Serif\" font-size=\"14.00\">value = [9, 49]</text>\n",
       "<text text-anchor=\"start\" x=\"165\" y=\"-106.8\" font-family=\"Helvetica,sans-Serif\" font-size=\"14.00\">class = Class_1</text>\n",
       "</g>\n",
       "<!-- 0&#45;&gt;2 -->\n",
       "<g id=\"edge2\" class=\"edge\"><title>0&#45;&gt;2</title>\n",
       "<path fill=\"none\" stroke=\"black\" d=\"M162.182,-213.769C168.41,-204.939 175.102,-195.451 181.545,-186.318\"/>\n",
       "<polygon fill=\"black\" stroke=\"black\" points=\"184.467,-188.248 187.371,-178.058 178.746,-184.213 184.467,-188.248\"/>\n",
       "<text text-anchor=\"middle\" x=\"191.627\" y=\"-198.494\" font-family=\"Helvetica,sans-Serif\" font-size=\"14.00\">False</text>\n",
       "</g>\n",
       "<!-- 3 -->\n",
       "<g id=\"node4\" class=\"node\"><title>3</title>\n",
       "<path fill=\"#e58139\" fill-opacity=\"0.666667\" stroke=\"black\" d=\"M193.647,-64C193.647,-64 102.784,-64 102.784,-64 96.7839,-64 90.7839,-58 90.7839,-52 90.7839,-52 90.7839,-12 90.7839,-12 90.7839,-6 96.7839,-0 102.784,-0 102.784,-0 193.647,-0 193.647,-0 199.647,-0 205.647,-6 205.647,-12 205.647,-12 205.647,-52 205.647,-52 205.647,-58 199.647,-64 193.647,-64\"/>\n",
       "<text text-anchor=\"start\" x=\"111.824\" y=\"-48.8\" font-family=\"Helvetica,sans-Serif\" font-size=\"14.00\">gini = 0.375</text>\n",
       "<text text-anchor=\"start\" x=\"106.386\" y=\"-34.8\" font-family=\"Helvetica,sans-Serif\" font-size=\"14.00\">samples = 12</text>\n",
       "<text text-anchor=\"start\" x=\"107.938\" y=\"-20.8\" font-family=\"Helvetica,sans-Serif\" font-size=\"14.00\">value = [9, 3]</text>\n",
       "<text text-anchor=\"start\" x=\"99\" y=\"-6.8\" font-family=\"Helvetica,sans-Serif\" font-size=\"14.00\">class = Class_0</text>\n",
       "</g>\n",
       "<!-- 2&#45;&gt;3 -->\n",
       "<g id=\"edge3\" class=\"edge\"><title>2&#45;&gt;3</title>\n",
       "<path fill=\"none\" stroke=\"black\" d=\"M190.201,-99.7956C184.672,-91 178.78,-81.625 173.21,-72.765\"/>\n",
       "<polygon fill=\"black\" stroke=\"black\" points=\"176.06,-70.7209 167.775,-64.1172 170.133,-74.4462 176.06,-70.7209\"/>\n",
       "</g>\n",
       "<!-- 4 -->\n",
       "<g id=\"node5\" class=\"node\"><title>4</title>\n",
       "<path fill=\"#399de5\" stroke=\"black\" d=\"M325.647,-64C325.647,-64 234.784,-64 234.784,-64 228.784,-64 222.784,-58 222.784,-52 222.784,-52 222.784,-12 222.784,-12 222.784,-6 228.784,-0 234.784,-0 234.784,-0 325.647,-0 325.647,-0 331.647,-0 337.647,-6 337.647,-12 337.647,-12 337.647,-52 337.647,-52 337.647,-58 331.647,-64 325.647,-64\"/>\n",
       "<text text-anchor=\"start\" x=\"251.61\" y=\"-48.8\" font-family=\"Helvetica,sans-Serif\" font-size=\"14.00\">gini = 0.0</text>\n",
       "<text text-anchor=\"start\" x=\"238.386\" y=\"-34.8\" font-family=\"Helvetica,sans-Serif\" font-size=\"14.00\">samples = 46</text>\n",
       "<text text-anchor=\"start\" x=\"236.045\" y=\"-20.8\" font-family=\"Helvetica,sans-Serif\" font-size=\"14.00\">value = [0, 46]</text>\n",
       "<text text-anchor=\"start\" x=\"231\" y=\"-6.8\" font-family=\"Helvetica,sans-Serif\" font-size=\"14.00\">class = Class_1</text>\n",
       "</g>\n",
       "<!-- 2&#45;&gt;4 -->\n",
       "<g id=\"edge4\" class=\"edge\"><title>2&#45;&gt;4</title>\n",
       "<path fill=\"none\" stroke=\"black\" d=\"M238.23,-99.7956C243.758,-91 249.651,-81.625 255.22,-72.765\"/>\n",
       "<polygon fill=\"black\" stroke=\"black\" points=\"258.297,-74.4462 260.656,-64.1172 252.371,-70.7209 258.297,-74.4462\"/>\n",
       "</g>\n",
       "</g>\n",
       "</svg>\n"
      ],
      "text/plain": [
       "<graphviz.files.Source at 0x11228bfd0>"
      ]
     },
     "execution_count": 30,
     "metadata": {},
     "output_type": "execute_result"
    }
   ],
   "source": [
    "graph"
   ]
  },
  {
   "cell_type": "code",
   "execution_count": 31,
   "metadata": {
    "slideshow": {
     "slide_type": "slide"
    }
   },
   "outputs": [
    {
     "name": "stdout",
     "output_type": "stream",
     "text": [
      "Gini impurity for [48 52]  is: 0.4992\n",
      "Gini impurity for [ 9 49]  is: 0.262187871581\n",
      "Gini impurity for [39  3]  is: 0.132653061224\n",
      "Gini impurity for [ 0 46]  is: 0.0\n"
     ]
    }
   ],
   "source": [
    "gini_impurity([48,52])\n",
    "gini_impurity([9, 49])\n",
    "gini_impurity([39, 3])\n",
    "gini_impurity([0, 46]);"
   ]
  },
  {
   "cell_type": "markdown",
   "metadata": {
    "slideshow": {
     "slide_type": "slide"
    }
   },
   "source": [
    "### Плюсове: \n",
    "* Дървото е лесно за интерпретация.\n",
    "* Лесно се справя с ирелевантни атрибути - фичъри (gain =0).\n",
    "* Може да се справи с липсващи данни. (Не и за текущата имплементация в sklearn).\n",
    "* Компактно представяне на модела.\n",
    "* Бърз при предсказване O(дълбочината на дървото).\n",
    "* Може да прави класификация с повече класове без допълнителни трикове.\n",
    "* Лесен за използване и дава добри резултати с малко експерименти."
   ]
  },
  {
   "cell_type": "markdown",
   "metadata": {
    "slideshow": {
     "slide_type": "slide"
    }
   },
   "source": [
    "### Минуси:\n",
    "* Разделя атрибутите само по осите. \n",
    "* Алчен (greedy) - може да не открие най-доброто дърво.\n",
    "* Експоненциално нарастване на възможните дървета.\n",
    "* Овърфитва силно."
   ]
  },
  {
   "cell_type": "markdown",
   "metadata": {
    "slideshow": {
     "slide_type": "slide"
    }
   },
   "source": [
    "## Въпроси по DT?"
   ]
  },
  {
   "cell_type": "markdown",
   "metadata": {
    "slideshow": {
     "slide_type": "slide"
    }
   },
   "source": [
    "## Random Forest"
   ]
  },
  {
   "cell_type": "code",
   "execution_count": 32,
   "metadata": {
    "slideshow": {
     "slide_type": "slide"
    }
   },
   "outputs": [],
   "source": [
    "from sklearn.ensemble import RandomForestClassifier"
   ]
  },
  {
   "cell_type": "code",
   "execution_count": 33,
   "metadata": {
    "slideshow": {
     "slide_type": "slide"
    }
   },
   "outputs": [
    {
     "data": {
      "image/png": "[encoded data removed]",
      "text/plain": [
       "<matplotlib.figure.Figure at 0x10e70fd30>"
      ]
     },
     "metadata": {},
     "output_type": "display_data"
    }
   ],
   "source": [
    "clf = RandomForestClassifier(random_state=23).fit(x,y) # без натройка на параметрите\n",
    "plot_boundary(clf, x, y)"
   ]
  },
  {
   "cell_type": "markdown",
   "metadata": {
    "slideshow": {
     "slide_type": "slide"
    }
   },
   "source": [
    "## Параметри за RF:\n",
    "\n",
    "* n_estimators: брой дървета - 10, 100, 1000 \n",
    "* criterion: за всички дървета  - gini, entropy\n",
    "* max_features: Колко фичъра да се пробват при търсене на най-добро разделяне. sqrt(n_features) - различни при всяко ново търсене.\n",
    "* max_depth: Максимална дълбочина на дърветата\n",
    "* min_samples_split: Минимален брой семпли за да може да се раздели възела\n",
    "* bootstrap - Втори параметър за случайност - random sampling with replacement. Тегли същия брой семпли като оригиналния сет.\n",
    "* n_jobs - Тренира по няколко дървета едновременно, но използва повече памет.\n",
    "* random_state - възпроизведими експерименти"
   ]
  },
  {
   "cell_type": "code",
   "execution_count": 34,
   "metadata": {
    "slideshow": {
     "slide_type": "slide"
    }
   },
   "outputs": [
    {
     "data": {
      "image/png": "[encoded data removed]",
      "text/plain": [
       "<matplotlib.figure.Figure at 0x11204fef0>"
      ]
     },
     "metadata": {},
     "output_type": "display_data"
    }
   ],
   "source": [
    "clf = RandomForestClassifier().fit(x,y)\n",
    "plot_boundary(clf, x, y)"
   ]
  },
  {
   "cell_type": "code",
   "execution_count": 35,
   "metadata": {
    "slideshow": {
     "slide_type": "slide"
    }
   },
   "outputs": [
    {
     "data": {
      "image/png": "[encoded data removed]",
      "text/plain": [
       "<matplotlib.figure.Figure at 0x112654b00>"
      ]
     },
     "metadata": {},
     "output_type": "display_data"
    }
   ],
   "source": [
    "clf = RandomForestClassifier().fit(x,y)\n",
    "plot_boundary(clf, x, y)"
   ]
  },
  {
   "cell_type": "markdown",
   "metadata": {
    "slideshow": {
     "slide_type": "slide"
    }
   },
   "source": [
    "### Значимост на фичърите в RF - Сходно на теглата на параметрите при линейни модели.\n",
    "![](http://scikit-learn.org/stable/_images/sphx_glr_plot_forest_importances_001.png)\n",
    "http://scikit-learn.org/stable/auto_examples/ensemble/plot_forest_importances.html"
   ]
  },
  {
   "cell_type": "markdown",
   "metadata": {
    "slideshow": {
     "slide_type": "slide"
    }
   },
   "source": [
    "### Прочетете документацията:\n",
    "* http://scikit-learn.org/stable/modules/tree.html\n",
    "* http://scikit-learn.org/stable/modules/generated/sklearn.tree.DecisionTreeClassifier.html\n",
    "* http://scikit-learn.org/stable/modules/generated/sklearn.ensemble.RandomForestClassifier.html"
   ]
  },
  {
   "cell_type": "code",
   "execution_count": null,
   "metadata": {},
   "outputs": [],
   "source": []
  }
 ],
 "metadata": {
  "celltoolbar": "Slideshow",
  "kernelspec": {
   "display_name": "Python 3",
   "language": "python",
   "name": "python3"
  },
  "language_info": {
   "codemirror_mode": {
    "name": "ipython",
    "version": 3
   },
   "file_extension": ".py",
   "mimetype": "text/x-python",
   "name": "python",
   "nbconvert_exporter": "python",
   "pygments_lexer": "ipython3",
   "version": "3.6.2"
  }
 },
 "nbformat": 4,
 "nbformat_minor": 2
}
