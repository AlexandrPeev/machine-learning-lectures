{
 "cells": [
  {
   "cell_type": "markdown",
   "metadata": {
    "slideshow": {
     "slide_type": "slide"
    }
   },
   "source": [
    "# Математиката зад линейна и логистична регресия"
   ]
  },
  {
   "cell_type": "code",
   "execution_count": 1,
   "metadata": {
    "slideshow": {
     "slide_type": "skip"
    }
   },
   "outputs": [],
   "source": [
    "import numpy as np\n",
    "import matplotlib.pyplot as plt\n",
    "import pandas as pd\n",
    "import seaborn as sns\n",
    "import mglearn\n",
    "\n",
    "from IPython.display import display\n",
    "\n",
    "import warnings\n",
    "warnings.filterwarnings(action=\"ignore\", module=\"scipy\", message=\"^internal gelsd\")\n",
    "warnings.filterwarnings(action=\"ignore\", module=\"sklearn\", message=\"^Objective did not\")\n",
    "\n",
    "%matplotlib inline"
   ]
  },
  {
   "cell_type": "markdown",
   "metadata": {
    "slideshow": {
     "slide_type": "subslide"
    }
   },
   "source": [
    "Ще се опитаме да формулиране проблема на линейната регресия по-формално. Ще вкараме някаква доза математика за да са по-точни нещата. След това ще се направим имплементация на базата на тази формула.\n",
    "\n",
    "Нотацията леко ще се различава от тази в scikit-learn за да е консистентна с материала по темата (например курса на Andrew Ng)."
   ]
  },
  {
   "cell_type": "markdown",
   "metadata": {
    "slideshow": {
     "slide_type": "fragment"
    }
   },
   "source": [
    "Първо ще разгледаме линейна регресия с една променлива. Веднъж разбрали това, нещата се генерализират лесно."
   ]
  },
  {
   "cell_type": "markdown",
   "metadata": {
    "slideshow": {
     "slide_type": "slide"
    }
   },
   "source": [
    "# Нотация\n",
    "\n",
    "Ще ползваме нотацията на Andrew Ng."
   ]
  },
  {
   "cell_type": "code",
   "execution_count": 2,
   "metadata": {
    "slideshow": {
     "slide_type": "subslide"
    }
   },
   "outputs": [
    {
     "data": {
      "text/html": [
       "<div>\n",
       "<style>\n",
       "    .dataframe thead tr:only-child th {\n",
       "        text-align: right;\n",
       "    }\n",
       "\n",
       "    .dataframe thead th {\n",
       "        text-align: left;\n",
       "    }\n",
       "\n",
       "    .dataframe tbody tr th {\n",
       "        vertical-align: top;\n",
       "    }\n",
       "</style>\n",
       "<table border=\"1\" class=\"dataframe\">\n",
       "  <thead>\n",
       "    <tr style=\"text-align: right;\">\n",
       "      <th></th>\n",
       "      <th>$x_1$</th>\n",
       "      <th>$x_2$</th>\n",
       "      <th>$x_3$</th>\n",
       "      <th>$y$</th>\n",
       "    </tr>\n",
       "  </thead>\n",
       "  <tbody>\n",
       "    <tr>\n",
       "      <th>1</th>\n",
       "      <td>1</td>\n",
       "      <td>2</td>\n",
       "      <td>3</td>\n",
       "      <td>6</td>\n",
       "    </tr>\n",
       "    <tr>\n",
       "      <th>2</th>\n",
       "      <td>5</td>\n",
       "      <td>6</td>\n",
       "      <td>7</td>\n",
       "      <td>18</td>\n",
       "    </tr>\n",
       "    <tr>\n",
       "      <th>3</th>\n",
       "      <td>8</td>\n",
       "      <td>9</td>\n",
       "      <td>10</td>\n",
       "      <td>27</td>\n",
       "    </tr>\n",
       "    <tr>\n",
       "      <th>4</th>\n",
       "      <td>11</td>\n",
       "      <td>12</td>\n",
       "      <td>13</td>\n",
       "      <td>36</td>\n",
       "    </tr>\n",
       "  </tbody>\n",
       "</table>\n",
       "</div>"
      ],
      "text/plain": [
       "   $x_1$  $x_2$  $x_3$  $y$\n",
       "1      1      2      3    6\n",
       "2      5      6      7   18\n",
       "3      8      9     10   27\n",
       "4     11     12     13   36"
      ]
     },
     "execution_count": 2,
     "metadata": {},
     "output_type": "execute_result"
    }
   ],
   "source": [
    "pd.DataFrame([[1, 2, 3, 6], [5, 6, 7, 18], [8, 9, 10, 27], [11, 12, 13, 36]], columns=['$x_1$', '$x_2$', '$x_3$', '$y$'], index=[1, 2, 3, 4])"
   ]
  },
  {
   "cell_type": "markdown",
   "metadata": {},
   "source": [
    "* $m$ е броя елементи в training set-а\n",
    "* $n$ е броя feature-и\n",
    "* $X$ е $m \\times n$ матрица с стойностите на feature-ите за всеки ред\n",
    "* $y$ е вектор с label-ите\n",
    "* $x^{(i)}$ е $i$-тия ред от feature-ите. Обърнете внимание, че $(i)$ не е степен.\n",
    "* $x^{(i)}_j$ е $j$-тия feature ($x_j$) на $i$-тия ред. Отново, $(i)$ не е степен.\n",
    "* $y^{(i)}$ е $i$-тия target"
   ]
  },
  {
   "cell_type": "markdown",
   "metadata": {
    "slideshow": {
     "slide_type": "fragment"
    }
   },
   "source": [
    "Колко са $m$, $n$, $x^{(2)}$, $x^{(3)}_1$ и $y^{(1)}$?"
   ]
  },
  {
   "cell_type": "markdown",
   "metadata": {
    "slideshow": {
     "slide_type": "fragment"
    }
   },
   "source": [
    "$m = 4$, $n = 3$, $x^{(2)} = (5, 6, 7)$, $x^{(3)}_1 = 8$, $y^{(1)} = 6$"
   ]
  },
  {
   "cell_type": "markdown",
   "metadata": {
    "slideshow": {
     "slide_type": "slide"
    }
   },
   "source": [
    "# Формулировка на проблема\n",
    "\n",
    "Имаме някакви данни, за които ще търсим линейна функция, която ги апроксимира."
   ]
  },
  {
   "cell_type": "code",
   "execution_count": 3,
   "metadata": {},
   "outputs": [
    {
     "data": {
      "image/png": "[encoded data removed]",
      "text/plain": [
       "<matplotlib.figure.Figure at 0x10cabbfd0>"
      ]
     },
     "metadata": {},
     "output_type": "display_data"
    }
   ],
   "source": [
    "np.random.seed(0)\n",
    "m = 50\n",
    "points = np.linspace(0, 10, m).reshape(-1, 1) + np.random.randn(m, 2) * 0.5\n",
    "X = points[:, 0].reshape(-1, 1)\n",
    "y = points[:, 1]\n",
    "plt.scatter(points[:, 0], points[:, 1]);"
   ]
  },
  {
   "cell_type": "code",
   "execution_count": 4,
   "metadata": {
    "slideshow": {
     "slide_type": "subslide"
    }
   },
   "outputs": [
    {
     "data": {
      "text/html": [
       "<div>\n",
       "<style>\n",
       "    .dataframe thead tr:only-child th {\n",
       "        text-align: right;\n",
       "    }\n",
       "\n",
       "    .dataframe thead th {\n",
       "        text-align: left;\n",
       "    }\n",
       "\n",
       "    .dataframe tbody tr th {\n",
       "        vertical-align: top;\n",
       "    }\n",
       "</style>\n",
       "<table border=\"1\" class=\"dataframe\">\n",
       "  <thead>\n",
       "    <tr style=\"text-align: right;\">\n",
       "      <th></th>\n",
       "      <th>$x_1$</th>\n",
       "      <th>$y$</th>\n",
       "    </tr>\n",
       "  </thead>\n",
       "  <tbody>\n",
       "    <tr>\n",
       "      <th>1</th>\n",
       "      <td>0.882026</td>\n",
       "      <td>0.200079</td>\n",
       "    </tr>\n",
       "    <tr>\n",
       "      <th>2</th>\n",
       "      <td>0.693451</td>\n",
       "      <td>1.324528</td>\n",
       "    </tr>\n",
       "    <tr>\n",
       "      <th>3</th>\n",
       "      <td>1.341942</td>\n",
       "      <td>-0.080476</td>\n",
       "    </tr>\n",
       "    <tr>\n",
       "      <th>4</th>\n",
       "      <td>1.087289</td>\n",
       "      <td>0.536566</td>\n",
       "    </tr>\n",
       "    <tr>\n",
       "      <th>5</th>\n",
       "      <td>0.764717</td>\n",
       "      <td>1.021626</td>\n",
       "    </tr>\n",
       "    <tr>\n",
       "      <th>6</th>\n",
       "      <td>1.092430</td>\n",
       "      <td>1.747545</td>\n",
       "    </tr>\n",
       "    <tr>\n",
       "      <th>7</th>\n",
       "      <td>1.605009</td>\n",
       "      <td>1.285327</td>\n",
       "    </tr>\n",
       "    <tr>\n",
       "      <th>8</th>\n",
       "      <td>1.650503</td>\n",
       "      <td>1.595409</td>\n",
       "    </tr>\n",
       "    <tr>\n",
       "      <th>9</th>\n",
       "      <td>2.379693</td>\n",
       "      <td>1.530074</td>\n",
       "    </tr>\n",
       "    <tr>\n",
       "      <th>10</th>\n",
       "      <td>1.993269</td>\n",
       "      <td>1.409687</td>\n",
       "    </tr>\n",
       "    <tr>\n",
       "      <th>11</th>\n",
       "      <td>0.764321</td>\n",
       "      <td>2.367626</td>\n",
       "    </tr>\n",
       "    <tr>\n",
       "      <th>12</th>\n",
       "      <td>2.677116</td>\n",
       "      <td>1.873815</td>\n",
       "    </tr>\n",
       "    <tr>\n",
       "      <th>13</th>\n",
       "      <td>3.583857</td>\n",
       "      <td>1.721797</td>\n",
       "    </tr>\n",
       "    <tr>\n",
       "      <th>14</th>\n",
       "      <td>2.675940</td>\n",
       "      <td>2.559469</td>\n",
       "    </tr>\n",
       "    <tr>\n",
       "      <th>15</th>\n",
       "      <td>3.623532</td>\n",
       "      <td>3.591822</td>\n",
       "    </tr>\n",
       "    <tr>\n",
       "      <th>16</th>\n",
       "      <td>3.138698</td>\n",
       "      <td>3.250306</td>\n",
       "    </tr>\n",
       "    <tr>\n",
       "      <th>17</th>\n",
       "      <td>2.821413</td>\n",
       "      <td>2.274908</td>\n",
       "    </tr>\n",
       "    <tr>\n",
       "      <th>18</th>\n",
       "      <td>3.295432</td>\n",
       "      <td>3.547562</td>\n",
       "    </tr>\n",
       "    <tr>\n",
       "      <th>19</th>\n",
       "      <td>4.288615</td>\n",
       "      <td>4.274659</td>\n",
       "    </tr>\n",
       "    <tr>\n",
       "      <th>20</th>\n",
       "      <td>3.683888</td>\n",
       "      <td>3.726400</td>\n",
       "    </tr>\n",
       "  </tbody>\n",
       "</table>\n",
       "</div>"
      ],
      "text/plain": [
       "       $x_1$       $y$\n",
       "1   0.882026  0.200079\n",
       "2   0.693451  1.324528\n",
       "3   1.341942 -0.080476\n",
       "4   1.087289  0.536566\n",
       "5   0.764717  1.021626\n",
       "6   1.092430  1.747545\n",
       "7   1.605009  1.285327\n",
       "8   1.650503  1.595409\n",
       "9   2.379693  1.530074\n",
       "10  1.993269  1.409687\n",
       "11  0.764321  2.367626\n",
       "12  2.677116  1.873815\n",
       "13  3.583857  1.721797\n",
       "14  2.675940  2.559469\n",
       "15  3.623532  3.591822\n",
       "16  3.138698  3.250306\n",
       "17  2.821413  2.274908\n",
       "18  3.295432  3.547562\n",
       "19  4.288615  4.274659\n",
       "20  3.683888  3.726400"
      ]
     },
     "execution_count": 4,
     "metadata": {},
     "output_type": "execute_result"
    }
   ],
   "source": [
    "pd.DataFrame(points, columns=['$x_1$', '$y$'], index=range(1, m + 1)).head(20)"
   ]
  },
  {
   "cell_type": "markdown",
   "metadata": {
    "slideshow": {
     "slide_type": "subslide"
    }
   },
   "source": [
    "Ще наричаме функцията \"хипотеза\":\n",
    "\n",
    "$$h_\\theta(x) = \\theta_0 + \\theta_1 x_1$$\n",
    "\n",
    "Тук:\n",
    "\n",
    "* $\\theta$ е вектор от коефициенти\n",
    "* $h_\\theta$ е хипотезата с определените в $\\theta$ коефициенти\n",
    "* $\\theta_i$ е $i$-тия компонент на вектора $\\theta$ (още $i$-тия коефициент)\n",
    "* $\\theta_0$ е свободния член във хипотезата"
   ]
  },
  {
   "cell_type": "markdown",
   "metadata": {
    "slideshow": {
     "slide_type": "subslide"
    }
   },
   "source": [
    "Друга нотация е $\\hat y$, което е просто кратък запис на хипотезата са даден ред:\n",
    "\n",
    "$$\\hat y = h_\\theta(x)$$\n",
    "\n",
    "И разбира се:\n",
    "\n",
    "$$\\hat{y}^{(i)} = h_\\theta(x^{(i)})$$"
   ]
  },
  {
   "cell_type": "markdown",
   "metadata": {
    "slideshow": {
     "slide_type": "subslide"
    }
   },
   "source": [
    "Ще е полезно за всяка хипотеза да имаме функция, която оценява колко добре се справя. Тази функция е добре да бъде неотрицателна, като по-малки стойности значат по-добро справяне. Ще я наричаме cost функция. За линейна регресия може да ползваме средната квадратна грешка:\n",
    "\n",
    "$$\n",
    "J(\\theta)\n",
    "= \\frac{1}{2m}\\sum_{i=1}^m \\Big(\\hat{y}^{(i)} - y^{(i)}\\Big) ^ 2\n",
    "= \\frac{1}{2m}\\sum_{i=1}^m \\Big(h_\\theta(x_1^{(i)}) - y^{(i)}\\Big) ^ 2\n",
    "$$"
   ]
  },
  {
   "cell_type": "markdown",
   "metadata": {
    "slideshow": {
     "slide_type": "fragment"
    }
   },
   "source": [
    "Така линейната регресия се свежда до много по-прост и разбираем проблем – да намерим глобален минимум на $J(\\theta)$, който да ползваме.\n",
    "\n",
    "Обърнете внимание, че:\n",
    "\n",
    "* Функцията е винаги неотрицателна, т.е. оптималния възможен минимум за някакъв dataset е 0.\n",
    "* Функцията е изпъкнала (всъщност, квадратна, макар и в две измерения), което ще рече, че има един минимум.\n",
    "* 0 не е гарантиран минимум за всеки dataset. В интерес на истината, може да стигнем до 0 само ако всички точки лежат на една права."
   ]
  },
  {
   "cell_type": "markdown",
   "metadata": {
    "slideshow": {
     "slide_type": "subslide"
    }
   },
   "source": [
    "Как да намерим минимум, обаче?"
   ]
  },
  {
   "cell_type": "markdown",
   "metadata": {
    "slideshow": {
     "slide_type": "slide"
    }
   },
   "source": [
    "# Gradient Descent\n",
    "\n",
    "Това е алгоритъм за намиране на минимум на функция. Не е нужно да знаем каква е функцията символично, а само да можем да я изчислим. Първоначално нека го разгледаме извън контекста на линейната регресия.\n",
    "\n",
    "Ще трябва да си припомним малко училищен анализ."
   ]
  },
  {
   "cell_type": "code",
   "execution_count": 5,
   "metadata": {
    "slideshow": {
     "slide_type": "skip"
    }
   },
   "outputs": [],
   "source": [
    "def draw_derivative(func, x, bounds):\n",
    "    (a, b) = bounds\n",
    "    epsilon = (b - a) * 0.0001\n",
    "    y = func(x)\n",
    "    dx = (func(x + epsilon) - y) / epsilon\n",
    "    di = y - dx * x\n",
    "    \n",
    "    xs = np.linspace(a, b, 400)\n",
    "    ys = func(xs)\n",
    "    \n",
    "    span = ys.max() - ys.min()\n",
    "    \n",
    "    fig, ax = plt.subplots(figsize=(10, 6))\n",
    "    plt.plot(xs, ys)\n",
    "    plt.plot([x], [func(x)], marker='o', color='r')\n",
    "    plt.plot(xs, (xs * dx + di), color='r')\n",
    "    plt.grid()\n",
    "    ax.axhline(color='k')\n",
    "    ax.axvline(color='k')\n",
    "    ax.set_ylim(ys.min() - 0.1 * span, ys.max() + 0.1 * span)"
   ]
  },
  {
   "cell_type": "markdown",
   "metadata": {
    "slideshow": {
     "slide_type": "subslide"
    }
   },
   "source": [
    "Ще разгледаме $x^2 + 0.2$ и нейната производна в някои точки. Тази функция също е изпъкнала."
   ]
  },
  {
   "cell_type": "markdown",
   "metadata": {
    "slideshow": {
     "slide_type": "subslide"
    }
   },
   "source": [
    "Какъв е знака на производната в тази точка ($x = 1$)?"
   ]
  },
  {
   "cell_type": "code",
   "execution_count": 6,
   "metadata": {},
   "outputs": [
    {
     "data": {
      "image/png": "[encoded data removed]",
      "text/plain": [
       "<matplotlib.figure.Figure at 0x106c2dd68>"
      ]
     },
     "metadata": {},
     "output_type": "display_data"
    }
   ],
   "source": [
    "draw_derivative(lambda x: x**2 + 0.2, 1.0, (-2, 2))"
   ]
  },
  {
   "cell_type": "markdown",
   "metadata": {
    "slideshow": {
     "slide_type": "fragment"
    }
   },
   "source": [
    "Знакът е положителен, защото функцията расте."
   ]
  },
  {
   "cell_type": "markdown",
   "metadata": {
    "slideshow": {
     "slide_type": "subslide"
    }
   },
   "source": [
    "Каква е стойността на променливата в тази точка ($x = 0.5$), сравнение с предишната?"
   ]
  },
  {
   "cell_type": "code",
   "execution_count": 7,
   "metadata": {},
   "outputs": [
    {
     "data": {
      "image/png": "[encoded data removed]",
      "text/plain": [
       "<matplotlib.figure.Figure at 0x10cbba4e0>"
      ]
     },
     "metadata": {},
     "output_type": "display_data"
    }
   ],
   "source": [
    "draw_derivative(lambda x: x**2 + 0.2, 0.5, (-2, 2))"
   ]
  },
  {
   "cell_type": "markdown",
   "metadata": {
    "slideshow": {
     "slide_type": "fragment"
    }
   },
   "source": [
    "Стойността е по-малка, понеже функцията расте по-бавно."
   ]
  },
  {
   "cell_type": "markdown",
   "metadata": {
    "slideshow": {
     "slide_type": "subslide"
    }
   },
   "source": [
    "Какъв е знакът тук ($x = -1$)?"
   ]
  },
  {
   "cell_type": "code",
   "execution_count": 8,
   "metadata": {},
   "outputs": [
    {
     "data": {
      "image/png": "[encoded data removed]",
      "text/plain": [
       "<matplotlib.figure.Figure at 0x10cd5c208>"
      ]
     },
     "metadata": {},
     "output_type": "display_data"
    }
   ],
   "source": [
    "draw_derivative(lambda x: x**2 + 0.2, -1.0, (-2, 2))"
   ]
  },
  {
   "cell_type": "markdown",
   "metadata": {
    "slideshow": {
     "slide_type": "fragment"
    }
   },
   "source": [
    "Знакът е отрицателен, защото функцията намалява."
   ]
  },
  {
   "cell_type": "markdown",
   "metadata": {
    "slideshow": {
     "slide_type": "subslide"
    }
   },
   "source": [
    "А тук ($x = 0$)?"
   ]
  },
  {
   "cell_type": "code",
   "execution_count": 9,
   "metadata": {},
   "outputs": [
    {
     "data": {
      "image/png": "[encoded data removed]",
      "text/plain": [
       "<matplotlib.figure.Figure at 0x106ce50b8>"
      ]
     },
     "metadata": {},
     "output_type": "display_data"
    }
   ],
   "source": [
    "draw_derivative(lambda x: x**2 + 0.2, 0.0, (-2, 2))"
   ]
  },
  {
   "cell_type": "markdown",
   "metadata": {
    "slideshow": {
     "slide_type": "fragment"
    }
   },
   "source": [
    "Производната е 0, защото има локален минимум."
   ]
  },
  {
   "cell_type": "markdown",
   "metadata": {
    "slideshow": {
     "slide_type": "subslide"
    }
   },
   "source": [
    "И финално, каква е връзката между стойността на производната в тази точка и червената права?"
   ]
  },
  {
   "cell_type": "code",
   "execution_count": 10,
   "metadata": {},
   "outputs": [
    {
     "data": {
      "image/png": "[encoded data removed]",
      "text/plain": [
       "<matplotlib.figure.Figure at 0x10cfd2da0>"
      ]
     },
     "metadata": {},
     "output_type": "display_data"
    }
   ],
   "source": [
    "draw_derivative(lambda x: x**2 + 0.2, 1.0, (-2, 2))"
   ]
  },
  {
   "cell_type": "markdown",
   "metadata": {
    "slideshow": {
     "slide_type": "fragment"
    }
   },
   "source": [
    "Стойността на производната е тангенса на ъгъла между червената права и абцисата."
   ]
  },
  {
   "cell_type": "markdown",
   "metadata": {
    "slideshow": {
     "slide_type": "subslide"
    }
   },
   "source": [
    "С други думи, производната в дадена точка ни дава информация в каква посока трябва да се предвижим, ако искаме се приближим към най-близкия локален минимум.\n",
    "\n",
    "Просто трябва да повторим следната операция (с подходящо избрано число $\\alpha$) определен брой пъти $N$:\n",
    "\n",
    "$$ x := x - \\alpha f'(x) $$\n",
    "\n",
    "За начало може да инициализираме $x$ с произволна точка. При достатъчен брой итерации (и достатъчно малка $\\alpha$) ще стигнем до минимума."
   ]
  },
  {
   "cell_type": "code",
   "execution_count": 11,
   "metadata": {
    "slideshow": {
     "slide_type": "skip"
    }
   },
   "outputs": [],
   "source": [
    "from itertools import tee\n",
    "\n",
    "def pairwise(iterable):\n",
    "    a, b = tee(iterable)\n",
    "    next(b, None)\n",
    "    return zip(a, b)\n",
    "\n",
    "def draw_gradient_descent(func, start, alpha, iterations, region):\n",
    "    (a, b) = region\n",
    "    epsilon = 0.00001\n",
    "    steps = [start]\n",
    "    x = start\n",
    "\n",
    "    for _ in range(iterations):\n",
    "        dx = (func(x + epsilon) - func(x)) / epsilon\n",
    "        x -= alpha * dx\n",
    "        steps.append(x)\n",
    "    \n",
    "    xs = np.linspace(a, b, 400)\n",
    "    ys = func(xs)\n",
    "    \n",
    "    fig, ax = plt.subplots(figsize=(10, 6))\n",
    "    plt.plot(xs, ys)\n",
    "    plt.grid()\n",
    "    ax.axhline(color='k')\n",
    "    ax.axvline(color='k')\n",
    "    \n",
    "    for (xa, xb) in pairwise(steps):\n",
    "        ya = func(xa)\n",
    "        yb = func(xb)\n",
    "        plt.annotate('', xy=(xa, ya), xycoords='data',\n",
    "                         xytext=(xb, yb), textcoords='data', size=25,\n",
    "                         arrowprops={'arrowstyle': '<-', 'ec': 'r', 'lw': 2})"
   ]
  },
  {
   "cell_type": "markdown",
   "metadata": {
    "slideshow": {
     "slide_type": "subslide"
    }
   },
   "source": [
    "Ако изберем $\\alpha$ и $N$ подходящо, с градиентно спускане може да намерим минимума:"
   ]
  },
  {
   "cell_type": "code",
   "execution_count": 12,
   "metadata": {},
   "outputs": [
    {
     "data": {
      "image/png": "[encoded data removed]",
      "text/plain": [
       "<matplotlib.figure.Figure at 0x10d106be0>"
      ]
     },
     "metadata": {},
     "output_type": "display_data"
    }
   ],
   "source": [
    "draw_gradient_descent(lambda x: x**2 + 0.2, start=4.0, alpha=0.3, iterations=4, region=(-2.0, 4.1))"
   ]
  },
  {
   "cell_type": "markdown",
   "metadata": {
    "slideshow": {
     "slide_type": "subslide"
    }
   },
   "source": [
    "Ако $\\alpha$ е твърде малко, вероятно няма да ни стигнат итерациите:"
   ]
  },
  {
   "cell_type": "code",
   "execution_count": 13,
   "metadata": {},
   "outputs": [
    {
     "data": {
      "image/png": "[encoded data removed]",
      "text/plain": [
       "<matplotlib.figure.Figure at 0x10d26c710>"
      ]
     },
     "metadata": {},
     "output_type": "display_data"
    }
   ],
   "source": [
    "draw_gradient_descent(lambda x: x**2 + 0.2, start=4.0, alpha=0.03, iterations=10, region=(-2.0, 4.1))"
   ]
  },
  {
   "cell_type": "markdown",
   "metadata": {
    "slideshow": {
     "slide_type": "subslide"
    }
   },
   "source": [
    "Ако пък $\\alpha$ е твърде голямо, резултатите ни няма да клонят към минимума и градиентното спускане ще го прескача постоянно."
   ]
  },
  {
   "cell_type": "code",
   "execution_count": 14,
   "metadata": {},
   "outputs": [
    {
     "data": {
      "image/png": "[encoded data removed]",
      "text/plain": [
       "<matplotlib.figure.Figure at 0x10d3ba470>"
      ]
     },
     "metadata": {},
     "output_type": "display_data"
    }
   ],
   "source": [
    "draw_gradient_descent(lambda x: x**2 + 0.2, start=4.0, alpha=1.22, iterations=3, region=(-12.0, 12.1))"
   ]
  },
  {
   "cell_type": "markdown",
   "metadata": {
    "slideshow": {
     "slide_type": "subslide"
    }
   },
   "source": [
    "Може да имплементираме прост алгоритъм, който взема производната на функция и работи с нея:"
   ]
  },
  {
   "cell_type": "code",
   "execution_count": 15,
   "metadata": {},
   "outputs": [],
   "source": [
    "f = lambda x: x**2 + 2 * x + 1\n",
    "df = lambda x: 2*x + 2"
   ]
  },
  {
   "cell_type": "code",
   "execution_count": 16,
   "metadata": {
    "slideshow": {
     "slide_type": "fragment"
    }
   },
   "outputs": [],
   "source": [
    "def gradient_descent(derivative, start, alpha, iterations):\n",
    "    x = start\n",
    "    for _ in range(iterations):\n",
    "        x -= alpha * derivative(x)\n",
    "    return x"
   ]
  },
  {
   "cell_type": "code",
   "execution_count": 17,
   "metadata": {
    "slideshow": {
     "slide_type": "fragment"
    }
   },
   "outputs": [
    {
     "data": {
      "text/plain": [
       "-1.0000000000000004"
      ]
     },
     "execution_count": 17,
     "metadata": {},
     "output_type": "execute_result"
    }
   ],
   "source": [
    "x_min = gradient_descent(df, start=-10.0, alpha=0.1, iterations=1000)\n",
    "x_min"
   ]
  },
  {
   "cell_type": "code",
   "execution_count": 18,
   "metadata": {
    "slideshow": {
     "slide_type": "fragment"
    }
   },
   "outputs": [
    {
     "data": {
      "text/plain": [
       "0.0"
      ]
     },
     "execution_count": 18,
     "metadata": {},
     "output_type": "execute_result"
    }
   ],
   "source": [
    "f(x_min)"
   ]
  },
  {
   "cell_type": "markdown",
   "metadata": {
    "slideshow": {
     "slide_type": "subslide"
    }
   },
   "source": [
    "Ако не знаехме производната, можехме да се оправим и по селския начин:"
   ]
  },
  {
   "cell_type": "code",
   "execution_count": 19,
   "metadata": {},
   "outputs": [],
   "source": [
    "def gradient_descent(func, start, alpha, iterations):\n",
    "    epsilon = 0.0000001\n",
    "    x = start\n",
    "    for _ in range(iterations):\n",
    "        dx = (func(x + epsilon) - func(x)) / epsilon\n",
    "        x -= alpha * dx\n",
    "    return x"
   ]
  },
  {
   "cell_type": "code",
   "execution_count": 20,
   "metadata": {
    "slideshow": {
     "slide_type": "fragment"
    }
   },
   "outputs": [
    {
     "data": {
      "text/plain": [
       "-1.000000065177744"
      ]
     },
     "execution_count": 20,
     "metadata": {},
     "output_type": "execute_result"
    }
   ],
   "source": [
    "x_min = gradient_descent(f, start=-10.0, alpha=0.01, iterations=1000)\n",
    "x_min"
   ]
  },
  {
   "cell_type": "markdown",
   "metadata": {
    "slideshow": {
     "slide_type": "fragment"
    }
   },
   "source": [
    "Резултата, разбира се, е по-неточен, защото така производната е по-неточна."
   ]
  },
  {
   "cell_type": "markdown",
   "metadata": {
    "slideshow": {
     "slide_type": "subslide"
    }
   },
   "source": [
    "## Повече измерения\n",
    "\n",
    "При повече измерения вземаме частните производни по всяко и създаваме вектор от тях. Този вектор ни е градиента, по който се движим:\n",
    "\n",
    "$$ x_j := x_j - \\alpha \\frac{\\partial}{\\partial x_j}f(x) $$\n",
    "\n",
    "Ако не помните какво е частна производна – третираме всички други променливи, освен $x_j$ като константи и дифиренцираме."
   ]
  },
  {
   "cell_type": "markdown",
   "metadata": {
    "slideshow": {
     "slide_type": "subslide"
    }
   },
   "source": [
    "![](https://am207.github.io/2017/wiki/gradientdescent_files/gradientdescent_19_0.png)"
   ]
  },
  {
   "cell_type": "markdown",
   "metadata": {
    "slideshow": {
     "slide_type": "slide"
    }
   },
   "source": [
    "# Gradient Descent върху линейна регресия"
   ]
  },
  {
   "cell_type": "markdown",
   "metadata": {},
   "source": [
    "Връщайки се на линейната регресия, трябва да оптимизираме следната функция.\n",
    "\n",
    "$$\n",
    "J(\\theta) = \\frac{1}{2m}\\sum_{i=1}^m \\Big(h_\\theta(x_1^{(i)}) - y^{(i)}\\Big) ^ 2\n",
    "$$\n",
    "\n",
    "Тя е изпъкнала и неотрицателна. Трябва да й сметнем производната. Преди това, нека я променим малко."
   ]
  },
  {
   "cell_type": "markdown",
   "metadata": {
    "slideshow": {
     "slide_type": "subslide"
    }
   },
   "source": [
    "За да може да работим в вектори, нека да въведем константен feature $x_0 = 1$, така че да имаме $x = (x_0, x_1) = (1, x_1)$.\n",
    "\n",
    "По този начин работим с вектори с еднаква форма:\n",
    "\n",
    "$$ x = (x_0, x_1) $$\n",
    "$$ \\theta = (\\theta_0, \\theta_1) $$"
   ]
  },
  {
   "cell_type": "markdown",
   "metadata": {
    "slideshow": {
     "slide_type": "fragment"
    }
   },
   "source": [
    "Тогава функцията е:\n",
    "\n",
    "$$\n",
    "J(\\theta) = \\frac{1}{2m}\\sum_{i=1}^m \\Big(h_\\theta(x^{(i)}) - y^{(i)}\\Big) ^ 2\n",
    "$$\n",
    "\n",
    "И:\n",
    "\n",
    "$$\n",
    "h_\\theta(x) = \\theta_0 x_0 + \\theta_1 x_1\n",
    "$$"
   ]
  },
  {
   "cell_type": "markdown",
   "metadata": {
    "slideshow": {
     "slide_type": "subslide"
    }
   },
   "source": [
    "Трябва да сметнем:\n",
    "\n",
    "$$\n",
    "\\frac{\\partial}{\\partial \\theta_j} J(\\theta) =\n",
    "  \\frac{\\partial}{\\partial \\theta_j} \\frac{1}{2m}\\sum_{i=1}^m \\Big(h_\\theta(x^{(i)}) - y^{(i)}\\Big) ^ 2\n",
    "$$\n",
    "\n",
    "Да опростим тая сметка, нека да я видим само с един член от сумата:\n",
    "\n",
    "$$\n",
    "\\begin{align*}\n",
    "\\frac{\\partial}{\\partial \\theta_j}J(\\theta) &=\n",
    "     \\frac{\\partial}{\\partial \\theta_j}\\frac{1}{2}\\big(h_\\theta(x) - y)\\big)^2 \\\\\n",
    "  &= 2 \\cdot \\frac{1}{2}\\big(h_\\theta(x) - y \\big) \\cdot \\frac{\\partial}{\\partial \\theta_j}\\big(h_\\theta(x) - y\\big) \\\\\n",
    "  &= \\big(h_\\theta(x) - y\\big) \\cdot \\frac{\\partial}{\\partial \\theta_j} \\Bigg( \\sum_{i=0}^n \\theta_i x_i - y \\Bigg) \\\\\n",
    "  &= \\big(h_\\theta(x) - y\\big) x_j\n",
    "\\end{align*}\n",
    "$$"
   ]
  },
  {
   "cell_type": "markdown",
   "metadata": {
    "slideshow": {
     "slide_type": "subslide"
    }
   },
   "source": [
    "Частната производна по $\\theta_j$ е:\n",
    "\n",
    "$$\n",
    "\\frac{\\partial}{\\partial \\theta_j}J(\\theta) = \\frac{1}{m}\\sum_{i=1}^m\\Big(\\big(h_\\theta(x^{(i)}) - y^{(i)}\\big)x_j^{(i)}\\Big)\n",
    "$$"
   ]
  },
  {
   "cell_type": "markdown",
   "metadata": {
    "slideshow": {
     "slide_type": "fragment"
    }
   },
   "source": [
    "За градиентно спускане трябва да обновяваме коефициентите така:\n",
    "\n",
    "$$\n",
    "\\begin{align*}\n",
    "\\theta_0 &:= \\theta_0 - \\alpha \\frac{1}{m}\\sum_{i=1}^m\\big(h_\\theta(x^{(i)}) - y^{(i)}\\big) \\\\\n",
    "\\theta_1 &:= \\theta_1 - \\alpha \\frac{1}{m}\\sum_{i=1}^m\\Big(\\big(h_\\theta(x^{(i)}) - y^{(i)}\\big)x_1^{(i)}\\Big)\n",
    "\\end{align*}\n",
    "$$"
   ]
  },
  {
   "cell_type": "markdown",
   "metadata": {
    "slideshow": {
     "slide_type": "subslide"
    }
   },
   "source": [
    "Нека се опитаме да имплементираме тази сметка в NumPy с векторизация. Ще даваме стъпка по стъпка, за да е по-ясно.\n",
    "\n",
    "Най-лесно ще е да илюстрираме това с dataset."
   ]
  },
  {
   "cell_type": "code",
   "execution_count": 24,
   "metadata": {
    "slideshow": {
     "slide_type": "skip"
    }
   },
   "outputs": [],
   "source": [
    "plt.rc('figure', figsize=(12, 8))"
   ]
  },
  {
   "cell_type": "code",
   "execution_count": 25,
   "metadata": {
    "slideshow": {
     "slide_type": "subslide"
    }
   },
   "outputs": [
    {
     "data": {
      "image/png": "[encoded data removed]",
      "text/plain": [
       "<matplotlib.figure.Figure at 0x10d26c278>"
      ]
     },
     "metadata": {},
     "output_type": "display_data"
    }
   ],
   "source": [
    "np.random.seed(0)\n",
    "m = 20\n",
    "line = np.linspace(0, 10, m)\n",
    "points = np.random.randn(m, 2) * 0.5 + line.reshape(-1, 1)\n",
    "X = np.hstack([np.ones((m, 1)), points[:, 0].reshape(-1, 1)])\n",
    "y = points[:, 1]\n",
    "plt.scatter(points[:, 0], points[:, 1])\n",
    "plt.ylim(0, 10);"
   ]
  },
  {
   "cell_type": "code",
   "execution_count": 26,
   "metadata": {
    "slideshow": {
     "slide_type": "subslide"
    }
   },
   "outputs": [
    {
     "data": {
      "text/plain": [
       "array([[  1.        ,   0.88202617],\n",
       "       [  1.        ,   1.01568478],\n",
       "       [  1.        ,   1.98641057],\n",
       "       [  1.        ,   2.05399158],\n",
       "       [  1.        ,   2.05365373],\n",
       "       [  1.        ,   2.70360073],\n",
       "       [  1.        ,   3.5384136 ],\n",
       "       [  1.        ,   3.90614214],\n",
       "       [  1.        ,   4.95756585],\n",
       "       [  1.        ,   4.89337596],\n",
       "       [  1.        ,   3.98666299],\n",
       "       [  1.        ,   6.22169178],\n",
       "       [  1.        ,   7.45066679],\n",
       "       [  1.        ,   6.86498452],\n",
       "       [  1.        ,   8.13481066],\n",
       "       [  1.        ,   7.97221055],\n",
       "       [  1.        ,   7.97715976],\n",
       "       [  1.        ,   8.77341235],\n",
       "       [  1.        ,  10.08882955],\n",
       "       [  1.        ,   9.80633659]])"
      ]
     },
     "execution_count": 26,
     "metadata": {},
     "output_type": "execute_result"
    }
   ],
   "source": [
    "X"
   ]
  },
  {
   "cell_type": "code",
   "execution_count": 27,
   "metadata": {
    "slideshow": {
     "slide_type": "subslide"
    }
   },
   "outputs": [
    {
     "data": {
      "text/plain": [
       "array([  0.2000786 ,   1.64676239,   0.56399264,   1.50326876,\n",
       "         2.31056241,   3.3587157 ,   3.21873225,   3.85104769,\n",
       "         4.10794718,   4.30979424,   5.58996719,   5.41839117,\n",
       "         5.58860664,   6.74851334,   8.10310044,   8.0838181 ,\n",
       "         7.4306544 ,   9.02554291,  10.07487413,   9.84884862])"
      ]
     },
     "execution_count": 27,
     "metadata": {},
     "output_type": "execute_result"
    }
   ],
   "source": [
    "y"
   ]
  },
  {
   "cell_type": "markdown",
   "metadata": {
    "slideshow": {
     "slide_type": "subslide"
    }
   },
   "source": [
    "Първо ще ползваме scikit-learn да натренираме една линейна регресия, за да видим какъв резултат тъсрим:"
   ]
  },
  {
   "cell_type": "code",
   "execution_count": 28,
   "metadata": {},
   "outputs": [
    {
     "data": {
      "text/plain": [
       "array([-0.15200408,  0.98817937])"
      ]
     },
     "execution_count": 28,
     "metadata": {},
     "output_type": "execute_result"
    }
   ],
   "source": [
    "from sklearn.linear_model import LinearRegression\n",
    "model = LinearRegression().fit(points[:, :-1], points[:, 1])\n",
    "best_theta = np.array([model.intercept_, *model.coef_])\n",
    "best_theta"
   ]
  },
  {
   "cell_type": "markdown",
   "metadata": {
    "slideshow": {
     "slide_type": "subslide"
    }
   },
   "source": [
    "Ако я начертаем, изглежда убедително:"
   ]
  },
  {
   "cell_type": "code",
   "execution_count": 29,
   "metadata": {},
   "outputs": [
    {
     "data": {
      "image/png": "[encoded data removed]",
      "text/plain": [
       "<matplotlib.figure.Figure at 0x10d26fba8>"
      ]
     },
     "metadata": {},
     "output_type": "display_data"
    }
   ],
   "source": [
    "plt.scatter(points[:, 0], points[:, 1])\n",
    "plt.plot(line, best_theta[1] * line + best_theta[0], color='b')\n",
    "plt.ylim(0, 10);"
   ]
  },
  {
   "cell_type": "markdown",
   "metadata": {
    "slideshow": {
     "slide_type": "subslide"
    }
   },
   "source": [
    "Ние, обаче, ще започнем с по-лоша $\\theta$:"
   ]
  },
  {
   "cell_type": "code",
   "execution_count": 30,
   "metadata": {},
   "outputs": [
    {
     "data": {
      "image/png": "[encoded data removed]",
      "text/plain": [
       "<matplotlib.figure.Figure at 0x10d25d2e8>"
      ]
     },
     "metadata": {},
     "output_type": "display_data"
    }
   ],
   "source": [
    "theta = np.array([-1., 1.8])\n",
    "plt.scatter(points[:, 0], points[:, 1])\n",
    "plt.plot(line, best_theta[1] * line + best_theta[0], color='b')\n",
    "plt.plot(line, theta[1] * line + theta[0], color='r')\n",
    "plt.ylim(0, 10);"
   ]
  },
  {
   "cell_type": "markdown",
   "metadata": {
    "slideshow": {
     "slide_type": "subslide"
    }
   },
   "source": [
    "Сега ще стъпим през една итерация на gradient descent, опитвайки се да го имплементираме с NumPy."
   ]
  },
  {
   "cell_type": "markdown",
   "metadata": {
    "slideshow": {
     "slide_type": "subslide"
    }
   },
   "source": [
    "Ще започнем с хипотезата:\n",
    "\n",
    "$$\n",
    "\\frac{1}{m}\\sum_{i=1}^m\\Big(\\big(\\bbox[yellow]{h_\\theta(x^{(i)})} - y^{(i)}\\big)x_j^{(i)}\\Big)\n",
    "$$\n",
    "\n",
    "Понеже $h_\\theta(x) = \\theta_0 x_0 + \\theta_1 x_1 = \\theta^T x$, може да го пренапишем така:\n",
    "\n",
    "$$\n",
    "\\frac{1}{m}\\sum_{i=1}^m\\Big(\\big(\\bbox[yellow]{\\theta^T x^{(i)}} - y^{(i)}\\big)x_j^{(i)}\\Big)\n",
    "$$\n",
    "\n",
    "Резултата ще бъде NumPy масив с $m$ елемента, всеки от който съдържа предвидената стойност за ред от $X$:"
   ]
  },
  {
   "cell_type": "code",
   "execution_count": 31,
   "metadata": {
    "slideshow": {
     "slide_type": "fragment"
    }
   },
   "outputs": [
    {
     "data": {
      "text/plain": [
       "array([  0.58764711,   0.82823261,   2.57553903,   2.69718484,\n",
       "         2.69657672,   3.86648132,   5.36914448,   6.03105586,\n",
       "         7.92361853,   7.80807672,   6.17599338,  10.19904521,\n",
       "        12.41120021,  11.35697214,  13.64265919,  13.349979  ,\n",
       "        13.35888756,  14.79214222,  17.15989319,  16.65140586])"
      ]
     },
     "execution_count": 31,
     "metadata": {},
     "output_type": "execute_result"
    }
   ],
   "source": [
    "X @ theta"
   ]
  },
  {
   "cell_type": "markdown",
   "metadata": {
    "slideshow": {
     "slide_type": "subslide"
    }
   },
   "source": [
    "Ще продължим с изваждането на $y$:\n",
    "\n",
    "$$\n",
    "\\frac{1}{m}\\sum_{i=1}^m\\Big(\\bbox[yellow]{\\big(\\theta^T x^{(i)} - y^{(i)}\\big)}x_j^{(i)}\\Big)\n",
    "$$\n",
    "\n",
    "Резултата вече трябва да бъде грешката за всеки от елементите:"
   ]
  },
  {
   "cell_type": "code",
   "execution_count": 32,
   "metadata": {
    "slideshow": {
     "slide_type": "fragment"
    }
   },
   "outputs": [
    {
     "data": {
      "text/plain": [
       "array([ 0.38756851, -0.81852978,  2.01154639,  1.19391607,  0.38601431,\n",
       "        0.50776562,  2.15041223,  2.18000817,  3.81567135,  3.49828249,\n",
       "        0.58602618,  4.78065404,  6.82259358,  4.6084588 ,  5.53955875,\n",
       "        5.2661609 ,  5.92823317,  5.76659932,  7.08501906,  6.80255724])"
      ]
     },
     "execution_count": 32,
     "metadata": {},
     "output_type": "execute_result"
    }
   ],
   "source": [
    "X @ theta - y"
   ]
  },
  {
   "cell_type": "markdown",
   "metadata": {
    "slideshow": {
     "slide_type": "subslide"
    }
   },
   "source": [
    "Нека добавим и умножението по $x_j$:\n",
    "\n",
    "$$\n",
    "\\frac{1}{m}\\sum_{i=1}^m\\Big(\\bbox[yellow]{\\big(\\theta^T x^{(i)} - y^{(i)}\\big)x_j^{(i)}}\\Big)\n",
    "$$\n",
    "\n",
    "Тук ще ползваме broadcasting. Резултата ще бъде $n \\times m$ матрица, където всеки ред ще съдържа резултатите от това произведение за определен feature. Първия е за $x_0$, втория е за $x_1$:"
   ]
  },
  {
   "cell_type": "code",
   "execution_count": 33,
   "metadata": {
    "slideshow": {
     "slide_type": "fragment"
    }
   },
   "outputs": [
    {
     "data": {
      "text/plain": [
       "array([[  0.38756851,  -0.81852978,   2.01154639,   1.19391607,\n",
       "          0.38601431,   0.50776562,   2.15041223,   2.18000817,\n",
       "          3.81567135,   3.49828249,   0.58602618,   4.78065404,\n",
       "          6.82259358,   4.6084588 ,   5.53955875,   5.2661609 ,\n",
       "          5.92823317,   5.76659932,   7.08501906,   6.80255724],\n",
       "       [  0.34184557,  -0.83136824,   3.99575703,   2.45229356,\n",
       "          0.79273973,   1.3727955 ,   7.60904789,   8.51542177,\n",
       "         18.91644199,  17.1184114 ,   2.3362889 ,  29.74375594,\n",
       "         50.83287136,  31.63699834,  45.06326157,  41.98294349,\n",
       "         47.29046305,  50.59275365,  71.47954963,  66.70816597]])"
      ]
     },
     "execution_count": 33,
     "metadata": {},
     "output_type": "execute_result"
    }
   ],
   "source": [
    "(X @ theta - y) * X.T"
   ]
  },
  {
   "cell_type": "markdown",
   "metadata": {
    "slideshow": {
     "slide_type": "subslide"
    }
   },
   "source": [
    "Нека добавим и сумата:\n",
    "\n",
    "$$\n",
    "\\frac{1}{m}\\bbox[yellow]{\\sum_{i=1}^m\\Big(\\big(\\theta^T x^{(i)} - y^{(i)}\\big)x_j^{(i)}\\Big)}\n",
    "$$\n",
    "\n",
    "Резултата ще бъде масив с градиентите за всеки един от feature-ите. Да не забравяме да сумираме по правилната ос:"
   ]
  },
  {
   "cell_type": "code",
   "execution_count": 34,
   "metadata": {},
   "outputs": [
    {
     "data": {
      "text/plain": [
       "array([  68.49851638,  497.95043809])"
      ]
     },
     "execution_count": 34,
     "metadata": {},
     "output_type": "execute_result"
    }
   ],
   "source": [
    "((X @ theta - y) * X.T).sum(1)"
   ]
  },
  {
   "cell_type": "markdown",
   "metadata": {
    "slideshow": {
     "slide_type": "subslide"
    }
   },
   "source": [
    "Финално, трябва да разделим на m:\n",
    "\n",
    "$$\n",
    "\\bbox[yellow]{\\frac{1}{m}\\sum_{i=1}^m\\Big(\\big(\\theta^T x^{(i)} - y^{(i)}\\big)x_j^{(i)}\\Big)}\n",
    "$$"
   ]
  },
  {
   "cell_type": "code",
   "execution_count": 35,
   "metadata": {},
   "outputs": [
    {
     "data": {
      "text/plain": [
       "array([  3.42492582,  24.8975219 ])"
      ]
     },
     "execution_count": 35,
     "metadata": {},
     "output_type": "execute_result"
    }
   ],
   "source": [
    "((X @ theta - y) * X.T).sum(1) / m"
   ]
  },
  {
   "cell_type": "markdown",
   "metadata": {
    "slideshow": {
     "slide_type": "subslide"
    }
   },
   "source": [
    "Може да ползваме този градиент да получим по-добро приближение на най-добрата линейна регресия:"
   ]
  },
  {
   "cell_type": "code",
   "execution_count": 36,
   "metadata": {},
   "outputs": [
    {
     "data": {
      "text/plain": [
       "array([-1.06849852,  1.30204956])"
      ]
     },
     "execution_count": 36,
     "metadata": {},
     "output_type": "execute_result"
    }
   ],
   "source": [
    "gradient = ((X @ theta - y) * X.T).sum(1) / m\n",
    "theta1 = theta - 0.02 * gradient\n",
    "theta1"
   ]
  },
  {
   "cell_type": "markdown",
   "metadata": {
    "slideshow": {
     "slide_type": "subslide"
    }
   },
   "source": [
    "Като го начертаем, виждаме, че новата линия е по-добра апроксимация"
   ]
  },
  {
   "cell_type": "code",
   "execution_count": 37,
   "metadata": {},
   "outputs": [
    {
     "data": {
      "image/png": "[encoded data removed]",
      "text/plain": [
       "<matplotlib.figure.Figure at 0x10cead550>"
      ]
     },
     "metadata": {},
     "output_type": "display_data"
    }
   ],
   "source": [
    "plt.scatter(points[:, 0], points[:, 1])\n",
    "plt.plot(line, theta[1] * line + theta[0], c='r')\n",
    "plt.plot(line, theta1[1] * line + theta1[0], c='orange')\n",
    "plt.ylim(-1, 11);"
   ]
  },
  {
   "cell_type": "markdown",
   "metadata": {
    "slideshow": {
     "slide_type": "subslide"
    }
   },
   "source": [
    "Ако итерираме още веднъж ще си приближим повече:"
   ]
  },
  {
   "cell_type": "code",
   "execution_count": 38,
   "metadata": {},
   "outputs": [
    {
     "data": {
      "text/plain": [
       "array([-1.083209  ,  1.17149397])"
      ]
     },
     "execution_count": 38,
     "metadata": {},
     "output_type": "execute_result"
    }
   ],
   "source": [
    "theta2 = theta1 - 0.02 * (((X @ theta1 - y) * X.T).sum(1) / m)\n",
    "theta2"
   ]
  },
  {
   "cell_type": "code",
   "execution_count": 39,
   "metadata": {
    "slideshow": {
     "slide_type": "subslide"
    }
   },
   "outputs": [
    {
     "data": {
      "image/png": "[encoded data removed]",
      "text/plain": [
       "<matplotlib.figure.Figure at 0x10cd7a710>"
      ]
     },
     "metadata": {},
     "output_type": "display_data"
    }
   ],
   "source": [
    "plt.scatter(points[:, 0], points[:, 1])\n",
    "plt.plot(line, theta[1] * line + theta[0], c='r')\n",
    "plt.plot(line, theta1[1] * line + theta1[0], c='orange')\n",
    "plt.plot(line, theta2[1] * line + theta2[0], c='cyan')\n",
    "plt.ylim(-1, 11);"
   ]
  },
  {
   "cell_type": "code",
   "execution_count": 40,
   "metadata": {
    "slideshow": {
     "slide_type": "subslide"
    }
   },
   "outputs": [
    {
     "data": {
      "image/png": "[encoded data removed]",
      "text/plain": [
       "<matplotlib.figure.Figure at 0x10cd54be0>"
      ]
     },
     "metadata": {},
     "output_type": "display_data"
    }
   ],
   "source": [
    "theta3 = theta2 - 0.02 * (((X @ theta2 - y) * X.T).sum(1) / m)\n",
    "plt.scatter(points[:, 0], points[:, 1])\n",
    "plt.plot(line, theta[1] * line + theta[0], c='r')\n",
    "plt.plot(line, theta1[1] * line + theta1[0], c='orange')\n",
    "plt.plot(line, theta2[1] * line + theta2[0], c='cyan')\n",
    "plt.plot(line, theta3[1] * line + theta3[0], c='green')\n",
    "plt.ylim(-1, 11);"
   ]
  },
  {
   "cell_type": "markdown",
   "metadata": {
    "slideshow": {
     "slide_type": "subslide"
    }
   },
   "source": [
    "Все още има голяма разлика между това, което правим ние и това, което прави линейната регресия в scikit-learn."
   ]
  },
  {
   "cell_type": "code",
   "execution_count": 41,
   "metadata": {},
   "outputs": [
    {
     "data": {
      "text/plain": [
       "array([-1.083882  ,  1.13692213])"
      ]
     },
     "execution_count": 41,
     "metadata": {},
     "output_type": "execute_result"
    }
   ],
   "source": [
    "theta3"
   ]
  },
  {
   "cell_type": "code",
   "execution_count": 42,
   "metadata": {},
   "outputs": [
    {
     "data": {
      "text/plain": [
       "array([-0.15200408,  0.98817937])"
      ]
     },
     "execution_count": 42,
     "metadata": {},
     "output_type": "execute_result"
    }
   ],
   "source": [
    "best_theta"
   ]
  },
  {
   "cell_type": "markdown",
   "metadata": {
    "slideshow": {
     "slide_type": "subslide"
    }
   },
   "source": [
    "Нека просто пуснем 10000 итерации и да видим какво ще стане:"
   ]
  },
  {
   "cell_type": "code",
   "execution_count": 43,
   "metadata": {},
   "outputs": [
    {
     "data": {
      "text/plain": [
       "array([-0.15200408,  0.98817937])"
      ]
     },
     "execution_count": 43,
     "metadata": {},
     "output_type": "execute_result"
    }
   ],
   "source": [
    "result = theta\n",
    "for _ in range(10000):\n",
    "    gradient = ((X @ result - y) * X.T).sum(1) / m\n",
    "    result -= 0.01 * gradient\n",
    "    \n",
    "result"
   ]
  },
  {
   "cell_type": "markdown",
   "metadata": {
    "slideshow": {
     "slide_type": "fragment"
    }
   },
   "source": [
    "Това го намери и scikit-learn:"
   ]
  },
  {
   "cell_type": "code",
   "execution_count": 44,
   "metadata": {},
   "outputs": [
    {
     "data": {
      "text/plain": [
       "array([-0.15200408,  0.98817937])"
      ]
     },
     "execution_count": 44,
     "metadata": {},
     "output_type": "execute_result"
    }
   ],
   "source": [
    "best_theta"
   ]
  },
  {
   "cell_type": "markdown",
   "metadata": {
    "slideshow": {
     "slide_type": "subslide"
    }
   },
   "source": [
    "Нека пробваме да изчислим и $R^2$ score-а:\n",
    "\n",
    "$$\n",
    "\\operatorname{R^2} =\n",
    " 1 - \\frac{\\sum_{i=1}^n \\big( \\hat{y}_i - y_i \\big)^2}{\\sum_{i=1}^n \\big( \\bar{y} - y_i \\big)^2}\n",
    "$$\n",
    "\n",
    "Където $\\bar y$ е средно-аритметичното на y."
   ]
  },
  {
   "cell_type": "markdown",
   "metadata": {
    "slideshow": {
     "slide_type": "subslide"
    }
   },
   "source": [
    "Да започнем с числителя:\n",
    "\n",
    "$$\n",
    "\\sum_{i=1}^n \\big( \\bbox[yellow]{\\hat{y}_i} - y_i \\big)^2\n",
    "$$\n",
    "\n",
    "$\\hat y$ е просто предвижданията на нашата функция, което е $X\\theta^T$. Резултата трябва да е масив от $m$ елемента със предположението за всеки ред от $X$:"
   ]
  },
  {
   "cell_type": "code",
   "execution_count": 45,
   "metadata": {
    "slideshow": {
     "slide_type": "fragment"
    }
   },
   "outputs": [
    {
     "data": {
      "text/plain": [
       "array([ 0.71959598,  0.85167466,  1.81092586,  1.87770801,  1.87737416,\n",
       "        2.51963837,  3.34458322,  3.70796498,  4.74696019,  4.68352906,\n",
       "        3.78753402,  5.99614336,  7.21059109,  6.63183197,  7.88664795,\n",
       "        7.72596988,  7.73086058,  8.51770096,  9.8175691 ,  9.53841539])"
      ]
     },
     "execution_count": 45,
     "metadata": {},
     "output_type": "execute_result"
    }
   ],
   "source": [
    "X @ theta"
   ]
  },
  {
   "cell_type": "markdown",
   "metadata": {
    "slideshow": {
     "slide_type": "subslide"
    }
   },
   "source": [
    "Да започнем с числителя:\n",
    "\n",
    "$$\n",
    "\\sum_{i=1}^n \\big( \\bbox[yellow]{\\hat{y}_i - y_i} \\big)^2\n",
    "$$\n",
    "\n",
    "Нека извадим $y$ за да получим грешката:"
   ]
  },
  {
   "cell_type": "code",
   "execution_count": 46,
   "metadata": {
    "slideshow": {
     "slide_type": "fragment"
    }
   },
   "outputs": [
    {
     "data": {
      "text/plain": [
       "array([ 0.51951738, -0.79508773,  1.24693322,  0.37443925, -0.43318825,\n",
       "       -0.83907733,  0.12585098, -0.14308271,  0.63901301,  0.37373483,\n",
       "       -1.80243318,  0.57775218,  1.62198446, -0.11668137, -0.21645249,\n",
       "       -0.35784822,  0.30020619, -0.50784194, -0.25730503, -0.31043324])"
      ]
     },
     "execution_count": 46,
     "metadata": {},
     "output_type": "execute_result"
    }
   ],
   "source": [
    "X @ theta - y"
   ]
  },
  {
   "cell_type": "markdown",
   "metadata": {
    "slideshow": {
     "slide_type": "subslide"
    }
   },
   "source": [
    "Трябва да повдигнем резултата на квадрат:\n",
    "\n",
    "$$\n",
    "\\sum_{i=1}^n \\bbox[yellow]{\\big( \\hat{y}_i - y_i \\big)^2}\n",
    "$$"
   ]
  },
  {
   "cell_type": "code",
   "execution_count": 47,
   "metadata": {
    "slideshow": {
     "slide_type": "fragment"
    }
   },
   "outputs": [
    {
     "data": {
      "text/plain": [
       "array([ 0.2698983 ,  0.6321645 ,  1.55484245,  0.14020475,  0.18765206,\n",
       "        0.70405076,  0.01583847,  0.02047266,  0.40833763,  0.13967772,\n",
       "        3.24876535,  0.33379758,  2.63083358,  0.01361454,  0.04685168,\n",
       "        0.12805535,  0.09012375,  0.25790344,  0.06620588,  0.0963688 ])"
      ]
     },
     "execution_count": 47,
     "metadata": {},
     "output_type": "execute_result"
    }
   ],
   "source": [
    "(X @ theta - y) ** 2"
   ]
  },
  {
   "cell_type": "markdown",
   "metadata": {
    "slideshow": {
     "slide_type": "subslide"
    }
   },
   "source": [
    "Финално, трябва да го сумираме, за да получим скалар:\n",
    "\n",
    "$$\n",
    "\\operatorname{R^2} =\n",
    " 1 - \\frac{\\bbox[yellow]{\\sum_{i=1}^n \\big( \\hat{y}_i - y_i \\big)^2}}{\\sum_{i=1}^n \\big( \\bar{y} - y_i \\big)^2}\n",
    "$$"
   ]
  },
  {
   "cell_type": "code",
   "execution_count": 48,
   "metadata": {
    "slideshow": {
     "slide_type": "fragment"
    }
   },
   "outputs": [
    {
     "data": {
      "text/plain": [
       "10.985659253836245"
      ]
     },
     "execution_count": 48,
     "metadata": {},
     "output_type": "execute_result"
    }
   ],
   "source": [
    "((X @ theta - y) ** 2).sum()"
   ]
  },
  {
   "cell_type": "markdown",
   "metadata": {
    "slideshow": {
     "slide_type": "subslide"
    }
   },
   "source": [
    "Знаменателя е тривиален и ще го направим наведнъж:\n",
    "\n",
    "$$\n",
    "\\operatorname{R^2} =\n",
    " 1 - \\frac{\\sum_{i=1}^n \\big( \\hat{y}_i - y_i \\big)^2}{\\bbox[yellow]{\\sum_{i=1}^n \\big( \\bar{y} - y_i \\big)^2}}\n",
    "$$"
   ]
  },
  {
   "cell_type": "code",
   "execution_count": 49,
   "metadata": {
    "slideshow": {
     "slide_type": "fragment"
    }
   },
   "outputs": [
    {
     "data": {
      "text/plain": [
       "176.27723221419529"
      ]
     },
     "execution_count": 49,
     "metadata": {},
     "output_type": "execute_result"
    }
   ],
   "source": [
    "((y.mean() - y) ** 2).sum()"
   ]
  },
  {
   "cell_type": "markdown",
   "metadata": {
    "slideshow": {
     "slide_type": "subslide"
    }
   },
   "source": [
    "Фималното изчисление е ясно:\n",
    "\n",
    "$$\n",
    "\\operatorname{R^2} =\n",
    " 1 - \\frac{\\sum_{i=1}^n \\big( \\hat{y}_i - y_i \\big)^2}{\\sum_{i=1}^n \\big( \\bar{y} - y_i \\big)^2}\n",
    "$$"
   ]
  },
  {
   "cell_type": "code",
   "execution_count": 50,
   "metadata": {},
   "outputs": [
    {
     "data": {
      "text/plain": [
       "0.93767964747434018"
      ]
     },
     "execution_count": 50,
     "metadata": {},
     "output_type": "execute_result"
    }
   ],
   "source": [
    "1 - ((X @ theta - y) ** 2).sum() / ((y.mean() - y) ** 2).sum()"
   ]
  },
  {
   "cell_type": "markdown",
   "metadata": {
    "slideshow": {
     "slide_type": "fragment"
    }
   },
   "source": [
    "Какво ли намери нашия scikit-learn по-рано?"
   ]
  },
  {
   "cell_type": "code",
   "execution_count": 51,
   "metadata": {},
   "outputs": [
    {
     "data": {
      "text/plain": [
       "0.93767964747434018"
      ]
     },
     "execution_count": 51,
     "metadata": {},
     "output_type": "execute_result"
    }
   ],
   "source": [
    "model.score(points[:, :-1], points[:, 1])"
   ]
  },
  {
   "cell_type": "markdown",
   "metadata": {},
   "source": [
    "Същото! Колко яко!"
   ]
  },
  {
   "cell_type": "markdown",
   "metadata": {
    "slideshow": {
     "slide_type": "slide"
    }
   },
   "source": [
    "# Estimator\n",
    "\n",
    "Май събрахме достатъчно код да си направим собствен estimator.\n",
    "\n",
    "Ще го даваме на YOLO и направо ще се опитаме да си имплементираме един:"
   ]
  },
  {
   "cell_type": "code",
   "execution_count": 52,
   "metadata": {
    "slideshow": {
     "slide_type": "subslide"
    }
   },
   "outputs": [],
   "source": [
    "from sklearn.base import BaseEstimator\n",
    "\n",
    "class PoorMansLinearRegression(BaseEstimator):\n",
    "    def __init__(self, alpha=0.01, iterations=2000):\n",
    "        self.alpha = alpha\n",
    "        self.iterations = iterations\n",
    "    \n",
    "    def fit(self, X, y):\n",
    "        (m, n) = X.shape\n",
    "        X = np.hstack([np.ones((m, 1)), X])\n",
    "        \n",
    "        theta = np.random.rand(n + 1)\n",
    "        for _ in range(self.iterations):\n",
    "            gradient = ((X @ theta - y) * X.T).sum(1) / m\n",
    "            theta -= self.alpha * gradient\n",
    "            \n",
    "        self.theta_ = theta\n",
    "        \n",
    "        return self\n",
    "        \n",
    "    def predict(self, X):\n",
    "        (m, n) = X.shape\n",
    "        X = np.hstack([np.ones((m, 1)), X])\n",
    "        \n",
    "        return X @ self.theta_\n",
    "    \n",
    "    def score(self, X, y):\n",
    "        X = np.hstack([np.ones((X.shape[0], 1)), X])\n",
    "        return 1 - ((X @ self.theta_ - y) ** 2).sum() / ((y.mean() - y) ** 2).sum()"
   ]
  },
  {
   "cell_type": "markdown",
   "metadata": {
    "slideshow": {
     "slide_type": "subslide"
    }
   },
   "source": [
    "Отвъд малки дребни детайли, тук няма нищо интересно. Нека си вземем dataset-а с който почнахме, но да го направим малко по-подходящ за scikit-learn (без bias колоната):"
   ]
  },
  {
   "cell_type": "code",
   "execution_count": 53,
   "metadata": {},
   "outputs": [],
   "source": [
    "X = points[:, :-1]\n",
    "y = points[:, 1]"
   ]
  },
  {
   "cell_type": "code",
   "execution_count": 54,
   "metadata": {
    "slideshow": {
     "slide_type": "subslide"
    }
   },
   "outputs": [
    {
     "data": {
      "text/plain": [
       "array([[  0.88202617],\n",
       "       [  1.01568478],\n",
       "       [  1.98641057],\n",
       "       [  2.05399158],\n",
       "       [  2.05365373],\n",
       "       [  2.70360073],\n",
       "       [  3.5384136 ],\n",
       "       [  3.90614214],\n",
       "       [  4.95756585],\n",
       "       [  4.89337596],\n",
       "       [  3.98666299],\n",
       "       [  6.22169178],\n",
       "       [  7.45066679],\n",
       "       [  6.86498452],\n",
       "       [  8.13481066],\n",
       "       [  7.97221055],\n",
       "       [  7.97715976],\n",
       "       [  8.77341235],\n",
       "       [ 10.08882955],\n",
       "       [  9.80633659]])"
      ]
     },
     "execution_count": 54,
     "metadata": {},
     "output_type": "execute_result"
    }
   ],
   "source": [
    "X"
   ]
  },
  {
   "cell_type": "code",
   "execution_count": 55,
   "metadata": {
    "slideshow": {
     "slide_type": "subslide"
    }
   },
   "outputs": [
    {
     "data": {
      "text/plain": [
       "array([  0.2000786 ,   1.64676239,   0.56399264,   1.50326876,\n",
       "         2.31056241,   3.3587157 ,   3.21873225,   3.85104769,\n",
       "         4.10794718,   4.30979424,   5.58996719,   5.41839117,\n",
       "         5.58860664,   6.74851334,   8.10310044,   8.0838181 ,\n",
       "         7.4306544 ,   9.02554291,  10.07487413,   9.84884862])"
      ]
     },
     "execution_count": 55,
     "metadata": {},
     "output_type": "execute_result"
    }
   ],
   "source": [
    "y"
   ]
  },
  {
   "cell_type": "markdown",
   "metadata": {
    "slideshow": {
     "slide_type": "subslide"
    }
   },
   "source": [
    "Да тренираме нашия регресор!"
   ]
  },
  {
   "cell_type": "code",
   "execution_count": 56,
   "metadata": {},
   "outputs": [
    {
     "name": "stdout",
     "output_type": "stream",
     "text": [
      "[ 0.71959598  0.85167466  1.81092586  1.87770801  1.87737416  2.51963837\n",
      "  3.34458322  3.70796498  4.74696019  4.68352906  3.78753402  5.99614336\n",
      "  7.21059109  6.63183197  7.88664795  7.72596988  7.73086058  8.51770096\n",
      "  9.8175691   9.53841539]\n"
     ]
    },
    {
     "data": {
      "text/plain": [
       "0.93767964747434018"
      ]
     },
     "execution_count": 56,
     "metadata": {},
     "output_type": "execute_result"
    }
   ],
   "source": [
    "poor = PoorMansLinearRegression(alpha=0.02, iterations=10000)\n",
    "poor.fit(X, y)\n",
    "print(poor.predict(X))\n",
    "poor.score(X, y)"
   ]
  },
  {
   "cell_type": "markdown",
   "metadata": {
    "slideshow": {
     "slide_type": "fragment"
    }
   },
   "source": [
    "Какво ли дава тоя на scikit-learn?"
   ]
  },
  {
   "cell_type": "code",
   "execution_count": 57,
   "metadata": {},
   "outputs": [
    {
     "name": "stdout",
     "output_type": "stream",
     "text": [
      "[ 0.71959598  0.85167466  1.81092586  1.87770801  1.87737416  2.51963837\n",
      "  3.34458322  3.70796498  4.74696019  4.68352906  3.78753402  5.99614336\n",
      "  7.21059109  6.63183197  7.88664795  7.72596988  7.73086058  8.51770096\n",
      "  9.8175691   9.53841539]\n"
     ]
    },
    {
     "data": {
      "text/plain": [
       "0.93767964747434018"
      ]
     },
     "execution_count": 57,
     "metadata": {},
     "output_type": "execute_result"
    }
   ],
   "source": [
    "model = LinearRegression().fit(X, y)\n",
    "print(model.predict(X))\n",
    "model.score(X, y)"
   ]
  },
  {
   "cell_type": "markdown",
   "metadata": {},
   "source": [
    "Бижу!"
   ]
  },
  {
   "cell_type": "markdown",
   "metadata": {
    "slideshow": {
     "slide_type": "subslide"
    }
   },
   "source": [
    "Я да го пробваме с \"по-истински dataset\":"
   ]
  },
  {
   "cell_type": "code",
   "execution_count": 58,
   "metadata": {},
   "outputs": [],
   "source": [
    "from sklearn.datasets import load_boston\n",
    "from sklearn.preprocessing import minmax_scale\n",
    "from sklearn.model_selection import train_test_split\n",
    "\n",
    "boston = load_boston()\n",
    "X = minmax_scale(boston.data)\n",
    "y = boston.target\n",
    "\n",
    "X_train, X_test, y_train, y_test = train_test_split(X, y)"
   ]
  },
  {
   "cell_type": "code",
   "execution_count": 59,
   "metadata": {
    "slideshow": {
     "slide_type": "fragment"
    }
   },
   "outputs": [
    {
     "data": {
      "text/plain": [
       "0.76596521056611888"
      ]
     },
     "execution_count": 59,
     "metadata": {},
     "output_type": "execute_result"
    }
   ],
   "source": [
    "proper = LinearRegression().fit(X_train, y_train)\n",
    "proper.fit(X_train, y_train)\n",
    "proper.score(X_test, y_test)"
   ]
  },
  {
   "cell_type": "markdown",
   "metadata": {
    "slideshow": {
     "slide_type": "subslide"
    }
   },
   "source": [
    "Нека сега си натренираме с нашия estimator:"
   ]
  },
  {
   "cell_type": "code",
   "execution_count": 60,
   "metadata": {},
   "outputs": [
    {
     "name": "stdout",
     "output_type": "stream",
     "text": [
      "Our score:       0.7659652105661173\n",
      "sklearn's score: 0.7659652105661189\n"
     ]
    }
   ],
   "source": [
    "poor = PoorMansLinearRegression(alpha=0.5, iterations=50000)\n",
    "poor.fit(X_train, y_train)\n",
    "print(\"Our score:       {}\".format(poor.score(X_test, y_test)))\n",
    "print(\"sklearn's score: {}\".format(proper.score(X_test, y_test)))"
   ]
  },
  {
   "cell_type": "code",
   "execution_count": 61,
   "metadata": {
    "slideshow": {
     "slide_type": "fragment"
    }
   },
   "outputs": [
    {
     "name": "stdout",
     "output_type": "stream",
     "text": [
      "Bigest error wrt sklearn: 0.00000000000054\n"
     ]
    }
   ],
   "source": [
    "print(\"Bigest error wrt sklearn: {0:.14f}\".format(np.abs(proper.predict(X_test) - poor.predict(X_test)).max()))"
   ]
  },
  {
   "cell_type": "markdown",
   "metadata": {
    "slideshow": {
     "slide_type": "slide"
    }
   },
   "source": [
    "# Normal equation method\n",
    "\n",
    "Всъщност, има и друг подход с който може да решим проблема на линейната регресия – може просто да решим уравнението:\n",
    "\n",
    "$$\\frac{\\partial}{\\partial \\theta_j}J(\\theta) = 0 \\space \\space \\space \\space \\text{(for every j)}$$"
   ]
  },
  {
   "cell_type": "markdown",
   "metadata": {
    "slideshow": {
     "slide_type": "fragment"
    }
   },
   "source": [
    "Ако приложим малко анализ, може да намерим символично решение. Ще ви спестим математиката, понеже включва добро количество векторен анализ, и ще ви покажем направо резултата:\n",
    "\n",
    "$$\\theta = (X^T X)^{-1}X^Ty$$\n",
    "\n",
    "Обърнете внимане, че тази операция включва обръщане на матрица, което създава няколко проблема."
   ]
  },
  {
   "cell_type": "markdown",
   "metadata": {
    "slideshow": {
     "slide_type": "subslide"
    }
   },
   "source": [
    "Първо, нека си възстановим dataset-а от по-рано с точките, за да го пробваме."
   ]
  },
  {
   "cell_type": "code",
   "execution_count": 62,
   "metadata": {},
   "outputs": [
    {
     "data": {
      "image/png": "[encoded data removed]",
      "text/plain": [
       "<matplotlib.figure.Figure at 0x10cd330f0>"
      ]
     },
     "metadata": {},
     "output_type": "display_data"
    }
   ],
   "source": [
    "np.random.seed(0)\n",
    "m = 20\n",
    "line = np.linspace(0, 10, m)\n",
    "points = np.random.randn(m, 2) * 0.5 + line.reshape(-1, 1)\n",
    "plt.scatter(points[:, 0], points[:, 1])\n",
    "plt.ylim(0, 10);"
   ]
  },
  {
   "cell_type": "markdown",
   "metadata": {
    "slideshow": {
     "slide_type": "subslide"
    }
   },
   "source": [
    "Нека си направим X и y:"
   ]
  },
  {
   "cell_type": "code",
   "execution_count": 63,
   "metadata": {},
   "outputs": [],
   "source": [
    "X = np.hstack([np.ones((m, 1)), points[:, :-1]])\n",
    "y = points[:, 1]"
   ]
  },
  {
   "cell_type": "code",
   "execution_count": 64,
   "metadata": {
    "slideshow": {
     "slide_type": "subslide"
    }
   },
   "outputs": [
    {
     "data": {
      "text/plain": [
       "array([[  1.        ,   0.88202617],\n",
       "       [  1.        ,   1.01568478],\n",
       "       [  1.        ,   1.98641057],\n",
       "       [  1.        ,   2.05399158],\n",
       "       [  1.        ,   2.05365373],\n",
       "       [  1.        ,   2.70360073],\n",
       "       [  1.        ,   3.5384136 ],\n",
       "       [  1.        ,   3.90614214],\n",
       "       [  1.        ,   4.95756585],\n",
       "       [  1.        ,   4.89337596],\n",
       "       [  1.        ,   3.98666299],\n",
       "       [  1.        ,   6.22169178],\n",
       "       [  1.        ,   7.45066679],\n",
       "       [  1.        ,   6.86498452],\n",
       "       [  1.        ,   8.13481066],\n",
       "       [  1.        ,   7.97221055],\n",
       "       [  1.        ,   7.97715976],\n",
       "       [  1.        ,   8.77341235],\n",
       "       [  1.        ,  10.08882955],\n",
       "       [  1.        ,   9.80633659]])"
      ]
     },
     "execution_count": 64,
     "metadata": {},
     "output_type": "execute_result"
    }
   ],
   "source": [
    "X"
   ]
  },
  {
   "cell_type": "code",
   "execution_count": 65,
   "metadata": {
    "slideshow": {
     "slide_type": "subslide"
    }
   },
   "outputs": [
    {
     "data": {
      "text/plain": [
       "array([  0.2000786 ,   1.64676239,   0.56399264,   1.50326876,\n",
       "         2.31056241,   3.3587157 ,   3.21873225,   3.85104769,\n",
       "         4.10794718,   4.30979424,   5.58996719,   5.41839117,\n",
       "         5.58860664,   6.74851334,   8.10310044,   8.0838181 ,\n",
       "         7.4306544 ,   9.02554291,  10.07487413,   9.84884862])"
      ]
     },
     "execution_count": 65,
     "metadata": {},
     "output_type": "execute_result"
    }
   ],
   "source": [
    "y"
   ]
  },
  {
   "cell_type": "markdown",
   "metadata": {
    "slideshow": {
     "slide_type": "subslide"
    }
   },
   "source": [
    "Сега нека просто сметнем уравнението:\n",
    "\n",
    "$$\\theta = (X^T X)^{-1}X^Ty$$"
   ]
  },
  {
   "cell_type": "code",
   "execution_count": 66,
   "metadata": {
    "slideshow": {
     "slide_type": "fragment"
    }
   },
   "outputs": [
    {
     "data": {
      "text/plain": [
       "array([-0.15200408,  0.98817937])"
      ]
     },
     "execution_count": 66,
     "metadata": {},
     "output_type": "execute_result"
    }
   ],
   "source": [
    "theta = np.linalg.pinv(X.T @ X) @ X.T @ y\n",
    "theta"
   ]
  },
  {
   "cell_type": "markdown",
   "metadata": {
    "slideshow": {
     "slide_type": "fragment"
    }
   },
   "source": [
    "`LinearRegression` намира същите коефициенти:"
   ]
  },
  {
   "cell_type": "code",
   "execution_count": 67,
   "metadata": {},
   "outputs": [
    {
     "data": {
      "text/plain": [
       "array([-0.15200408,  0.98817937])"
      ]
     },
     "execution_count": 67,
     "metadata": {},
     "output_type": "execute_result"
    }
   ],
   "source": [
    "from sklearn.linear_model import LinearRegression\n",
    "model = LinearRegression().fit(points[:, :-1], points[:, 1])\n",
    "np.array([model.intercept_, *model.coef_])"
   ]
  },
  {
   "cell_type": "markdown",
   "metadata": {
    "slideshow": {
     "slide_type": "subslide"
    }
   },
   "source": [
    "Въпреки това, този метод има няколко проблема:\n",
    "\n",
    "* Намирането на обратна матрица е бавна операция – $O(n^3)$. При твърде голяма матрица $X$ няма шанс да я изчакате.\n",
    "* Ако имате линейни зависимости между feature-ите, матрицата ще е необратима."
   ]
  },
  {
   "cell_type": "markdown",
   "metadata": {
    "slideshow": {
     "slide_type": "slide"
    }
   },
   "source": [
    "# Регуляризация\n",
    "\n",
    "Как изглежда регуляризацията при линейната регресия? Стандартната (l2) регуляризация просто ползва малко по-различна cost функция с допълнителен член:\n",
    "\n",
    "$$\n",
    "J(\\theta) = \\frac{1}{2m} \\Bigg[ \\sum_{i=1}^m \\Big(h_\\theta(x^{(i)}) - y^{(i)}\\Big) ^ 2 + \\lambda \\sum_{j=1}^n\\theta_j^2 \\Bigg]\n",
    "$$\n",
    "\n",
    "По този начин се опитваме да държим коефициентите на линейната регресия малки. $\\lambda$ е регуляризационния параметър (`C` или `alpha` в scikit-learn)."
   ]
  },
  {
   "cell_type": "markdown",
   "metadata": {
    "slideshow": {
     "slide_type": "fragment"
    }
   },
   "source": [
    "Частната производна и градиента изглеждат малко по-различно:\n",
    "\n",
    "$$\n",
    "\\theta_j := \\theta_j - \\alpha \\Bigg[\n",
    " \\Bigg (\\frac{1}{m}\\sum_{i=1}^m\\Big(\\big(h_\\theta(x^{(i)}) - y^{(i)}\\big)x_j^{(i)}\\Big) \\Bigg) +\n",
    " \\frac{\\lambda}{m}\\theta_j \\Bigg]\n",
    "$$"
   ]
  },
  {
   "cell_type": "markdown",
   "metadata": {
    "slideshow": {
     "slide_type": "subslide"
    }
   },
   "source": [
    "Нека натренираме един `Ridge`, за да има с какво да сравняваме:"
   ]
  },
  {
   "cell_type": "code",
   "execution_count": 68,
   "metadata": {},
   "outputs": [
    {
     "data": {
      "text/plain": [
       "Ridge(alpha=10.0, copy_X=True, fit_intercept=True, max_iter=None,\n",
       "   normalize=False, random_state=None, solver='auto', tol=0.001)"
      ]
     },
     "execution_count": 68,
     "metadata": {},
     "output_type": "execute_result"
    }
   ],
   "source": [
    "from sklearn.linear_model import Ridge\n",
    "from sklearn.model_selection import GridSearchCV\n",
    "\n",
    "X = minmax_scale(boston.data, (-1, 1))\n",
    "y = boston.target\n",
    "\n",
    "grid = {'alpha': [0.001, 0.01, 0.1, 1.0, 10.0, 100.0, 1000.0, 10000.0]}\n",
    "search = GridSearchCV(Ridge(), grid)\n",
    "search.fit(X, y)\n",
    "search.best_estimator_"
   ]
  },
  {
   "cell_type": "code",
   "execution_count": 69,
   "metadata": {
    "slideshow": {
     "slide_type": "fragment"
    }
   },
   "outputs": [
    {
     "data": {
      "text/plain": [
       "0.72884850238173338"
      ]
     },
     "execution_count": 69,
     "metadata": {},
     "output_type": "execute_result"
    }
   ],
   "source": [
    "ridge = Ridge(alpha=10).fit(X, y)\n",
    "ridge.score(X, y)"
   ]
  },
  {
   "cell_type": "markdown",
   "metadata": {
    "slideshow": {
     "slide_type": "subslide"
    }
   },
   "source": [
    "Сега ще си направим наша регуляризация:"
   ]
  },
  {
   "cell_type": "code",
   "execution_count": 70,
   "metadata": {},
   "outputs": [],
   "source": [
    "from sklearn.base import RegressorMixin\n",
    "\n",
    "class Regularized(BaseEstimator, RegressorMixin):\n",
    "    def __init__(self, alpha=0.01, l=0, iterations=20000):\n",
    "        self.alpha = alpha\n",
    "        self.iterations = iterations\n",
    "        self.l = l\n",
    "    \n",
    "    def fit(self, X, y):\n",
    "        (m, n) = X.shape\n",
    "        X = np.hstack([np.ones((m, 1)), X])\n",
    "        \n",
    "        theta = np.random.rand(n + 1)\n",
    "        for _ in range(self.iterations):\n",
    "            regularization = self.l / m * theta\n",
    "            regularization[0] = 0\n",
    "            gradient = ((X @ theta - y) * X.T).sum(1) / m + regularization\n",
    "            theta -= self.alpha * gradient\n",
    "            \n",
    "        self.theta_ = theta\n",
    "        \n",
    "        return self\n",
    "        \n",
    "    def predict(self, X):\n",
    "        (m, n) = X.shape\n",
    "        X = np.hstack([np.ones((m, 1)), X])\n",
    "        \n",
    "        return X @ self.theta_"
   ]
  },
  {
   "cell_type": "markdown",
   "metadata": {
    "slideshow": {
     "slide_type": "subslide"
    }
   },
   "source": [
    "Може да ползваме този регресор с `GridSearchCV`:"
   ]
  },
  {
   "cell_type": "code",
   "execution_count": 71,
   "metadata": {},
   "outputs": [
    {
     "data": {
      "text/plain": [
       "Regularized(alpha=0.1, iterations=20000, l=10.0)"
      ]
     },
     "execution_count": 71,
     "metadata": {},
     "output_type": "execute_result"
    }
   ],
   "source": [
    "grid = {'l': [0.1, 1.0, 10.0, 100.0]}\n",
    "search = GridSearchCV(Regularized(alpha=0.1, iterations=20000), grid)\n",
    "search.fit(X, y)\n",
    "search.best_estimator_"
   ]
  },
  {
   "cell_type": "markdown",
   "metadata": {
    "slideshow": {
     "slide_type": "subslide"
    }
   },
   "source": [
    "Сравнявайки резултатите с `Ridge`, получаваме нещо сходно:"
   ]
  },
  {
   "cell_type": "code",
   "execution_count": 72,
   "metadata": {},
   "outputs": [
    {
     "data": {
      "text/plain": [
       "0.72884850238173393"
      ]
     },
     "execution_count": 72,
     "metadata": {},
     "output_type": "execute_result"
    }
   ],
   "source": [
    "poor = Regularized(alpha=0.1, iterations=20000, l=10.0).fit(X, y)\n",
    "poor.score(X, y)"
   ]
  },
  {
   "cell_type": "code",
   "execution_count": 73,
   "metadata": {},
   "outputs": [
    {
     "data": {
      "text/plain": [
       "0.72884850238173338"
      ]
     },
     "execution_count": 73,
     "metadata": {},
     "output_type": "execute_result"
    }
   ],
   "source": [
    "ridge.score(X, y)"
   ]
  },
  {
   "cell_type": "markdown",
   "metadata": {
    "slideshow": {
     "slide_type": "slide"
    }
   },
   "source": [
    "# Логистична регресия\n",
    "\n",
    "Логистичната регресия строи ползва хипотеза като линейната, но прекаране през сигмоид:\n",
    "\n",
    "$$ h_\\theta(x) = g(\\theta^Tx) = g(\\theta_0 + \\theta_1 x_1 + \\theta_2 x_2 + \\ldots + \\theta_n x_n) $$\n",
    "\n",
    "Където:\n",
    "\n",
    "$$ g(z) = \\frac{1}{1 + e^{-z}} $$"
   ]
  },
  {
   "cell_type": "markdown",
   "metadata": {
    "slideshow": {
     "slide_type": "subslide"
    }
   },
   "source": [
    "Ще си дефинираме функцията за сигмоида:"
   ]
  },
  {
   "cell_type": "code",
   "execution_count": 74,
   "metadata": {},
   "outputs": [],
   "source": [
    "def sigmoid(z):\n",
    "    return 1 / (1 + np.exp(-z))"
   ]
  },
  {
   "cell_type": "code",
   "execution_count": 75,
   "metadata": {},
   "outputs": [
    {
     "data": {
      "image/png": "[encoded data removed]",
      "text/plain": [
       "<matplotlib.figure.Figure at 0x10e4cc0f0>"
      ]
     },
     "metadata": {},
     "output_type": "display_data"
    }
   ],
   "source": [
    "_x = np.linspace(-10, 10)\n",
    "plt.plot(_x, [sigmoid(i) for i in _x])\n",
    "plt.grid()"
   ]
  },
  {
   "cell_type": "markdown",
   "metadata": {
    "slideshow": {
     "slide_type": "subslide"
    }
   },
   "source": [
    "За cost функция използваме:\n",
    "\n",
    "$$\n",
    "\\begin{align*}\n",
    "& J(\\theta) = \\frac{1}{m} \\sum_{i=1}^{m}\\mathrm{Cost} \\big( h_\\theta(x^{(i)}), y^{(i)}) \\big) \\\\\n",
    "& \\mathrm{Cost}(h_\\theta(x), y) = -log(1 - h_\\theta(x)) & \\text{if y = 0} \\\\\n",
    "& \\mathrm{Cost}(h_\\theta(x), y) = -log(h_\\theta(x)) & \\text{if y = 1}\n",
    "\\end{align*}\n",
    "$$"
   ]
  },
  {
   "cell_type": "markdown",
   "metadata": {
    "slideshow": {
     "slide_type": "fragment"
    }
   },
   "source": [
    "Може да я запишем и така:\n",
    "\n",
    "$$\n",
    "J(\\theta) = - \\frac{1}{m} \\sum_{i=1}^{m} \\Big[\n",
    "  y^{(i)}\\log(h_\\theta(x^{(i)})) +\n",
    "  (1 - y^{(i)})\\log(1 - h_\\theta(x^{(i)}))\n",
    "\\Big]\n",
    "$$\n",
    "\n",
    "Или векторно:\n",
    "\n",
    "$$\n",
    "\\begin{align*}\n",
    "& h = g(X\\theta) \\\\\n",
    "& J(\\theta) = \\frac{1}{m} \\cdot \\Big( -y^T \\log(h) - (1 - y)^T\\log(1 - h) \\Big)\n",
    "\\end{align*}\n",
    "$$"
   ]
  },
  {
   "cell_type": "markdown",
   "metadata": {
    "slideshow": {
     "slide_type": "fragment"
    }
   },
   "source": [
    "Градиента е:\n",
    "\n",
    "$$\n",
    "\\theta_j := \\theta_j - \\frac{\\alpha}{m}\\sum_{i=1}^{m}\\Big(h_\\theta(x^{(i)}) - y^{(i)}\\Big)x^{(i)}_j\n",
    "$$"
   ]
  },
  {
   "cell_type": "markdown",
   "metadata": {
    "slideshow": {
     "slide_type": "subslide"
    }
   },
   "source": [
    "Нека се опитаме да имплементираме и това. Първо ще започнем с някакъв dataset:"
   ]
  },
  {
   "cell_type": "code",
   "execution_count": 76,
   "metadata": {},
   "outputs": [
    {
     "data": {
      "image/png": "[encoded data removed]",
      "text/plain": [
       "<matplotlib.figure.Figure at 0x10e4c6080>"
      ]
     },
     "metadata": {},
     "output_type": "display_data"
    }
   ],
   "source": [
    "from sklearn.datasets import make_classification\n",
    "\n",
    "X, y = make_classification(n_samples=20, n_features=2, n_redundant=0, random_state=42)\n",
    "mglearn.discrete_scatter(X[:, 0], X[:, 1], y);"
   ]
  },
  {
   "cell_type": "code",
   "execution_count": 77,
   "metadata": {
    "slideshow": {
     "slide_type": "subslide"
    }
   },
   "outputs": [],
   "source": [
    "X = np.hstack([np.ones((X.shape[0], 1)), X])\n",
    "(m, n) = X.shape"
   ]
  },
  {
   "cell_type": "code",
   "execution_count": 78,
   "metadata": {
    "slideshow": {
     "slide_type": "subslide"
    }
   },
   "outputs": [
    {
     "data": {
      "text/plain": [
       "array([[ 1.        , -0.28280607, -1.40876083],\n",
       "       [ 1.        ,  0.94702918,  0.55906844],\n",
       "       [ 1.        ,  1.15772163,  0.474995  ],\n",
       "       [ 1.        ,  1.99591479,  0.77282149],\n",
       "       [ 1.        ,  0.04049985,  1.39732687],\n",
       "       [ 1.        ,  1.47044441, -0.86055081],\n",
       "       [ 1.        , -0.70743459,  0.89217168],\n",
       "       [ 1.        , -1.45694256, -0.04564786],\n",
       "       [ 1.        ,  0.62203454,  2.36749526],\n",
       "       [ 1.        , -0.01544395,  1.09258513],\n",
       "       [ 1.        ,  1.61125245, -0.65678116],\n",
       "       [ 1.        ,  1.45454184,  0.91354664],\n",
       "       [ 1.        , -0.20714752,  1.33055499],\n",
       "       [ 1.        ,  1.9632335 , -0.7697201 ],\n",
       "       [ 1.        , -0.96400678, -0.82990054],\n",
       "       [ 1.        ,  2.07569216,  0.66009587],\n",
       "       [ 1.        , -0.65503537, -0.83585632],\n",
       "       [ 1.        , -1.42571554, -1.31373391],\n",
       "       [ 1.        , -0.87496777, -0.11350669],\n",
       "       [ 1.        ,  1.25579369, -0.37205015]])"
      ]
     },
     "execution_count": 78,
     "metadata": {},
     "output_type": "execute_result"
    }
   ],
   "source": [
    "X"
   ]
  },
  {
   "cell_type": "markdown",
   "metadata": {
    "slideshow": {
     "slide_type": "subslide"
    }
   },
   "source": [
    "Ще започнем с някаква хипотеза:"
   ]
  },
  {
   "cell_type": "code",
   "execution_count": 79,
   "metadata": {},
   "outputs": [],
   "source": [
    "theta = np.random.rand(n)"
   ]
  },
  {
   "cell_type": "markdown",
   "metadata": {
    "slideshow": {
     "slide_type": "subslide"
    }
   },
   "source": [
    "Градиента ще се опитаме да го напишем наведнъж:\n",
    "\n",
    "$$\n",
    "\\theta_j := \\theta_j - \\frac{\\alpha}{m}\\sum_{i=1}^{m}\\Big(h_\\theta(x^{(i)}) - y^{(i)}\\Big)x^{(i)}_j\n",
    "$$"
   ]
  },
  {
   "cell_type": "code",
   "execution_count": 80,
   "metadata": {
    "slideshow": {
     "slide_type": "fragment"
    }
   },
   "outputs": [
    {
     "data": {
      "text/plain": [
       "array([ 5.02868536,  5.99244749, -2.07551026])"
      ]
     },
     "execution_count": 80,
     "metadata": {},
     "output_type": "execute_result"
    }
   ],
   "source": [
    "((sigmoid(X @ theta) - y).reshape(-1, 1) * X).sum(0)"
   ]
  },
  {
   "cell_type": "markdown",
   "metadata": {
    "slideshow": {
     "slide_type": "subslide"
    }
   },
   "source": [
    "Да пуснем няколко итерации:"
   ]
  },
  {
   "cell_type": "code",
   "execution_count": 81,
   "metadata": {},
   "outputs": [
    {
     "data": {
      "text/plain": [
       "array([-0.31101828, -0.51404391,  1.5884362 ])"
      ]
     },
     "execution_count": 81,
     "metadata": {},
     "output_type": "execute_result"
    }
   ],
   "source": [
    "theta = np.random.rand(n)\n",
    "for _ in range(50000):\n",
    "    theta -= 0.3 * ((sigmoid(X @ theta) - y).reshape(-1, 1) * X).sum(0) / m\n",
    "theta"
   ]
  },
  {
   "cell_type": "markdown",
   "metadata": {
    "slideshow": {
     "slide_type": "fragment"
    }
   },
   "source": [
    "Да видим какво ще направи логистичната регресия."
   ]
  },
  {
   "cell_type": "code",
   "execution_count": 82,
   "metadata": {},
   "outputs": [
    {
     "data": {
      "text/plain": [
       "array([-0.31101691, -0.51404307,  1.58843253])"
      ]
     },
     "execution_count": 82,
     "metadata": {},
     "output_type": "execute_result"
    }
   ],
   "source": [
    "from sklearn.linear_model import LogisticRegression\n",
    "\n",
    "log = LogisticRegression(C=1000000000000).fit(X[:, 1:], y)\n",
    "np.array([log.intercept_[0], *log.coef_[0]])"
   ]
  },
  {
   "cell_type": "markdown",
   "metadata": {
    "slideshow": {
     "slide_type": "-"
    }
   },
   "source": [
    "Тук резултатите се различават малко повече, защото има регуляризация. Голямо `C` значи малка регуляризация (но все пак, не и 0)."
   ]
  },
  {
   "cell_type": "markdown",
   "metadata": {
    "slideshow": {
     "slide_type": "subslide"
    }
   },
   "source": [
    "Ще си напишем логистична регресия с регуляризация. Ето го градиента:\n",
    "\n",
    "$$\n",
    "\\theta_j := \\theta_j - \\frac{\\alpha}{m} \\Bigg[ \\sum_{i=1}^{m}\\Big(h_\\theta(x^{(i)}) - y^{(i)}\\Big)x^{(i)}_j + \\lambda\\theta_j \\Bigg]\n",
    "$$\n",
    "\n",
    "Абсолютно същото като линейната."
   ]
  },
  {
   "cell_type": "code",
   "execution_count": 83,
   "metadata": {
    "slideshow": {
     "slide_type": "subslide"
    }
   },
   "outputs": [],
   "source": [
    "from sklearn.base import ClassifierMixin\n",
    "\n",
    "class ItsSomethingLogistic(BaseEstimator, ClassifierMixin):\n",
    "    def __init__(self, alpha=0.01, l=1.0, iterations=20000):\n",
    "        self.alpha = alpha\n",
    "        self.iterations = iterations\n",
    "        self.l = l\n",
    "    \n",
    "    def fit(self, X, y):\n",
    "        (m, n) = X.shape\n",
    "        X = np.hstack([np.ones((m, 1)), X])\n",
    "        \n",
    "        theta = np.random.rand(n + 1)\n",
    "        for _ in range(self.iterations):\n",
    "            regularization = self.l / m * theta\n",
    "            regularization[0] = 0\n",
    "            gradient = ((sigmoid(X @ theta) - y).reshape(-1, 1) * X).sum(0) / m + regularization\n",
    "            theta -= self.alpha * gradient\n",
    "            \n",
    "        self.theta_ = theta\n",
    "        \n",
    "        return self\n",
    "        \n",
    "    def predict(self, X):\n",
    "        (m, n) = X.shape\n",
    "        X = np.hstack([np.ones((m, 1)), X])\n",
    "        \n",
    "        return np.round(sigmoid(X @ self.theta_))"
   ]
  },
  {
   "cell_type": "markdown",
   "metadata": {
    "slideshow": {
     "slide_type": "subslide"
    }
   },
   "source": [
    "Може да тестваме нашия класификатор на cancer dataset-а:"
   ]
  },
  {
   "cell_type": "code",
   "execution_count": 84,
   "metadata": {},
   "outputs": [],
   "source": [
    "from sklearn.datasets import load_breast_cancer\n",
    "\n",
    "cancer = load_breast_cancer()\n",
    "X = minmax_scale(cancer.data, (-1, 1))\n",
    "y = cancer.target"
   ]
  },
  {
   "cell_type": "markdown",
   "metadata": {
    "slideshow": {
     "slide_type": "subslide"
    }
   },
   "source": [
    "Ще ни трябват повече итерации, смела $\\alpha$ и никаква регуляризация:"
   ]
  },
  {
   "cell_type": "code",
   "execution_count": 85,
   "metadata": {
    "slideshow": {
     "slide_type": "skip"
    }
   },
   "outputs": [],
   "source": [
    "np.random.seed(0)"
   ]
  },
  {
   "cell_type": "code",
   "execution_count": 86,
   "metadata": {},
   "outputs": [
    {
     "data": {
      "text/plain": [
       "0.99648506151142358"
      ]
     },
     "execution_count": 86,
     "metadata": {},
     "output_type": "execute_result"
    }
   ],
   "source": [
    "ours = ItsSomethingLogistic(l=0.0, alpha=20.0, iterations=500000)\n",
    "ours.fit(X, y)\n",
    "ours.score(X, y)"
   ]
  },
  {
   "cell_type": "markdown",
   "metadata": {
    "slideshow": {
     "slide_type": "fragment"
    }
   },
   "source": [
    "Да видим какъв резултат вади `scikit-learn`:"
   ]
  },
  {
   "cell_type": "code",
   "execution_count": 87,
   "metadata": {},
   "outputs": [
    {
     "data": {
      "text/plain": [
       "0.99648506151142358"
      ]
     },
     "execution_count": 87,
     "metadata": {},
     "output_type": "execute_result"
    }
   ],
   "source": [
    "LogisticRegression(C=10000).fit(X, y).score(X, y)"
   ]
  },
  {
   "cell_type": "markdown",
   "metadata": {},
   "source": [
    "Чудесно! Вадим същото, макар и много по-бавно."
   ]
  },
  {
   "cell_type": "markdown",
   "metadata": {
    "slideshow": {
     "slide_type": "slide"
    }
   },
   "source": [
    "# Въпроси"
   ]
  }
 ],
 "metadata": {
  "celltoolbar": "Slideshow",
  "kernelspec": {
   "display_name": "Python 3",
   "language": "python",
   "name": "python3"
  },
  "language_info": {
   "codemirror_mode": {
    "name": "ipython",
    "version": 3
   },
   "file_extension": ".py",
   "mimetype": "text/x-python",
   "name": "python",
   "nbconvert_exporter": "python",
   "pygments_lexer": "ipython3",
   "version": "3.6.2"
  }
 },
 "nbformat": 4,
 "nbformat_minor": 2
}
